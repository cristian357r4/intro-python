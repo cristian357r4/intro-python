{
  "cells": [
    {
      "cell_type": "markdown",
      "metadata": {
        "id": "JG7cD23p6ir5"
      },
      "source": [
        "## Introducción a Python.\n",
        "### Bienvenidos. En esta sesión analizaremos elementos básicos de estadística con **Numpy**.\n",
        "---\n",
        "![Python](https://www.python.org/static/img/python-logo.png)\n",
        "\n",
        "\n",
        "`NumPy` es el paquete fundamental para la computación científica en Python. Según Wikipedia, NumPy es una biblioteca para el lenguaje de programación Python que da soporte para crear vectores y matrices grandes multidimensionales, junto con una gran colección de funciones matemáticas de alto nivel para operar con ellas.\n",
        "\n",
        "La documentación de la biblioteca puede consultarse [aquí](https://numpy.org/)."
      ]
    },
    {
      "cell_type": "code",
      "execution_count": null,
      "metadata": {
        "id": "r9y32uLR6dpy"
      },
      "outputs": [],
      "source": [
        "import numpy as np"
      ]
    },
    {
      "cell_type": "markdown",
      "metadata": {
        "id": "Et3NPCay8kT4"
      },
      "source": [
        "En esta sesión, exploraremos cómo podemos usar NumPy para analizar datos. Aprenderemos diferentes métodos para calcular propiedades estadísticas comunes de un conjunto de datos, como encontrar la media y la desviación estándar. Al final, serás capaz de hacer un análisis básico de un conjunto de datos y entenderás cómo podemos usar la estadística para llegar a conclusiones sobre los datos.\n",
        "\n",
        "Los conceptos estadísticos que cubriremos incluyen\n",
        "\n",
        "- Media\n",
        "- Mediana\n",
        "- Percentiles\n",
        "- Rango intercuartil\n",
        "- Valores atípicos\n",
        "- Desviación estándar"
      ]
    },
    {
      "cell_type": "markdown",
      "metadata": {
        "id": "9FdwEu6mCf-f"
      },
      "source": [
        "Para empezar, analizaremos conjuntos de datos de una sola variable. Una forma de pensar en un conjunto de datos de una sola variable es que contiene respuestas a una pregunta. Por ejemplo, podemos preguntar a 100 personas: \"¿Cuánto años tienes?\". Las edades formarían nuestro conjunto de datos."
      ]
    },
    {
      "cell_type": "code",
      "execution_count": null,
      "metadata": {
        "id": "JK-LXPvW-QgB"
      },
      "outputs": [],
      "source": [
        "import pandas as pd"
      ]
    },
    {
      "cell_type": "code",
      "execution_count": null,
      "metadata": {
        "id": "Q9QIhjDVXWik"
      },
      "outputs": [],
      "source": [
        "import matplotlib.pyplot as plt\n",
        "#%matplotlib inline\n",
        "import seaborn as sns"
      ]
    },
    {
      "cell_type": "code",
      "execution_count": null,
      "metadata": {
        "colab": {
          "base_uri": "https://localhost:8080/"
        },
        "id": "hhR_UR4P-UNA",
        "outputId": "2b2ecd1d-a955-4197-b9c5-77564dcb8dd5"
      },
      "outputs": [],
      "source": [
        "!wget --no-check-certificate \\\n",
        "    https://catalabs.mx/datasets/titanic.csv \\\n",
        "    -O titanic.csv"
      ]
    },
    {
      "cell_type": "code",
      "execution_count": null,
      "metadata": {
        "id": "gILopD-JdAcx"
      },
      "outputs": [],
      "source": [
        "!sudo apt list"
      ]
    },
    {
      "cell_type": "markdown",
      "metadata": {
        "id": "NzYRtX7r-cT6"
      },
      "source": [
        "### Cargamos los datos.\n",
        "En este caso como es un archivo separado por comas, usaremos la función read_csv() que nos generará un DataFrame."
      ]
    },
    {
      "cell_type": "code",
      "execution_count": null,
      "metadata": {
        "id": "dBiPD50x-gNn"
      },
      "outputs": [],
      "source": [
        "df = pd.read_csv('titanic.csv')"
      ]
    },
    {
      "cell_type": "code",
      "execution_count": null,
      "metadata": {
        "colab": {
          "base_uri": "https://localhost:8080/"
        },
        "id": "fF6VNjzh-noN",
        "outputId": "89c202a3-b9f9-437c-e564-acb6e4842a4c"
      },
      "outputs": [],
      "source": [
        "df.Age.describe()"
      ]
    },
    {
      "cell_type": "code",
      "execution_count": null,
      "metadata": {
        "colab": {
          "base_uri": "https://localhost:8080/",
          "height": 676
        },
        "id": "IpnpRp-P-tEY",
        "outputId": "5d55b418-aa74-4d98-a278-9be6410c3a29"
      },
      "outputs": [],
      "source": [
        "df.tail(20)"
      ]
    },
    {
      "cell_type": "code",
      "execution_count": null,
      "metadata": {
        "colab": {
          "base_uri": "https://localhost:8080/",
          "height": 582
        },
        "id": "oX7b-25wXTn-",
        "outputId": "8a4ff74d-1e87-44db-8d8d-282f534b1b1a"
      },
      "outputs": [],
      "source": [
        "# Set the width and height of the figure\n",
        "plt.figure(figsize=(14,6))\n",
        "# Add title\n",
        "plt.title(\"Edades de pasajeros\")\n",
        "# Line chart\n",
        "sns.lineplot(data=df[[\"Age\"]])\n",
        "# Add label for horizontal axis\n",
        "plt.xlabel(\"Pasajero\")"
      ]
    },
    {
      "cell_type": "code",
      "execution_count": null,
      "metadata": {
        "colab": {
          "base_uri": "https://localhost:8080/",
          "height": 582
        },
        "id": "9t9YtvKyYlSq",
        "outputId": "3e3a5e54-c038-49a4-8ed6-8fa39eb1f814"
      },
      "outputs": [],
      "source": [
        "# Set the width and height of the figure\n",
        "plt.figure(figsize=(10,6))\n",
        "\n",
        "# Add title\n",
        "plt.title(\"Edades promedio por clase\")\n",
        "\n",
        "# Bar chart showing average arrival delay for Spirit Airlines flights by month\n",
        "sns.barplot(x=df.Pclass, y=df.Age)\n",
        "\n",
        "# Add label for vertical axis\n",
        "plt.ylabel(\"Edad (en años)\")"
      ]
    },
    {
      "cell_type": "code",
      "execution_count": null,
      "metadata": {
        "colab": {
          "base_uri": "https://localhost:8080/",
          "height": 467
        },
        "id": "VV49L7hlaUKh",
        "outputId": "c3061326-76e5-4c6d-b708-27dddcb05296"
      },
      "outputs": [],
      "source": [
        "sns.scatterplot(x=df['Pclass'], y=df['Age'])"
      ]
    },
    {
      "cell_type": "code",
      "execution_count": null,
      "metadata": {
        "colab": {
          "base_uri": "https://localhost:8080/",
          "height": 467
        },
        "id": "5-lOhWv4af9D",
        "outputId": "52d3dbd7-a869-4b0e-fbb8-eb7aa00c5328"
      },
      "outputs": [],
      "source": [
        "sns.regplot(x=df['Pclass'], y=df['Age'])"
      ]
    },
    {
      "cell_type": "code",
      "execution_count": null,
      "metadata": {
        "colab": {
          "base_uri": "https://localhost:8080/",
          "height": 467
        },
        "id": "bn6hvKVUankA",
        "outputId": "31066da8-ba36-4b21-b399-65dd9343f414"
      },
      "outputs": [],
      "source": [
        "sns.scatterplot(x=df['Pclass'], y=df['Age'], hue=df[\"Survived\"])"
      ]
    },
    {
      "cell_type": "code",
      "execution_count": null,
      "metadata": {
        "colab": {
          "base_uri": "https://localhost:8080/",
          "height": 467
        },
        "id": "FCvqTWp3a501",
        "outputId": "fbf94777-7931-4eba-ce97-8970c0bc3ae5"
      },
      "outputs": [],
      "source": [
        "sns.scatterplot(x=df['Age'], y=df['Survived'], hue=df[\"Pclass\"])"
      ]
    },
    {
      "cell_type": "code",
      "execution_count": null,
      "metadata": {
        "colab": {
          "base_uri": "https://localhost:8080/",
          "height": 467
        },
        "id": "8GaH-krychAx",
        "outputId": "a8ccfe7d-1fbb-48b6-d0b2-0f91de1a80d2"
      },
      "outputs": [],
      "source": [
        "sns.histplot(x=df['Age'], hue = df[\"Pclass\"])"
      ]
    },
    {
      "cell_type": "markdown",
      "metadata": {
        "id": "vjHbxRl5-zQD"
      },
      "source": [
        "Creamos un dataset que contenga solo los datos de la edad de los pasajeros del Titanic"
      ]
    },
    {
      "cell_type": "code",
      "execution_count": null,
      "metadata": {
        "colab": {
          "base_uri": "https://localhost:8080/",
          "height": 363
        },
        "id": "hChIyrrx-6Wh",
        "outputId": "12c6a7b5-d480-40d0-e22c-24910ea1fd1e"
      },
      "outputs": [],
      "source": [
        "edades = df[[\"Age\"]]\n",
        "edades.head(10)"
      ]
    },
    {
      "cell_type": "code",
      "execution_count": null,
      "metadata": {
        "colab": {
          "base_uri": "https://localhost:8080/"
        },
        "id": "kvfFoNCpUupZ",
        "outputId": "a784a596-418a-4dbe-8c79-1e0e8e8a76cd"
      },
      "outputs": [],
      "source": [
        "edades.shape"
      ]
    },
    {
      "cell_type": "markdown",
      "metadata": {
        "id": "_h1fXBs8AKNa"
      },
      "source": [
        "Eliminamos los valores nulos"
      ]
    },
    {
      "cell_type": "code",
      "execution_count": null,
      "metadata": {
        "id": "DoX6Ompk_MhG"
      },
      "outputs": [],
      "source": [
        "edades = edades.dropna()"
      ]
    },
    {
      "cell_type": "code",
      "execution_count": null,
      "metadata": {
        "colab": {
          "base_uri": "https://localhost:8080/",
          "height": 363
        },
        "id": "_aCZ5xsqZpg0",
        "outputId": "ee1e16c4-ef33-4c95-aaf2-15f736fc7c5c"
      },
      "outputs": [],
      "source": [
        "edades.head(10)"
      ]
    },
    {
      "cell_type": "markdown",
      "metadata": {
        "id": "P3dQNpLzAOwD"
      },
      "source": [
        "Convertimos el Dataframe resultante a un arreglo de Numpy para trabajar con él."
      ]
    },
    {
      "cell_type": "code",
      "execution_count": null,
      "metadata": {
        "colab": {
          "base_uri": "https://localhost:8080/"
        },
        "id": "kLcgcSZ9_f1e",
        "outputId": "3beb0d21-2c9b-42d5-e202-6d3f13dda3b4"
      },
      "outputs": [],
      "source": [
        "pasajeros_edades = edades.to_numpy()\n",
        "print(len(pasajeros_edades))\n",
        "print(pasajeros_edades[:30])"
      ]
    },
    {
      "cell_type": "markdown",
      "metadata": {
        "id": "9raxJgU9FYYh"
      },
      "source": [
        "### La media (mean)\n",
        "\n",
        "El primer concepto estadístico que exploraremos es la media, también llamada comúnmente promedio. La media es una medida útil para obtener el centro de un conjunto de datos. NumPy tiene una función incorporada para calcular el promedio o la media de las matrices: `np.mean`"
      ]
    },
    {
      "cell_type": "code",
      "execution_count": null,
      "metadata": {
        "colab": {
          "base_uri": "https://localhost:8080/"
        },
        "id": "pFQKCYosFnvR",
        "outputId": "711eca72-a1d5-4d61-e1af-b37231b17762"
      },
      "outputs": [],
      "source": [
        "edad_promedio = np.mean(pasajeros_edades)\n",
        "print(f\"Edad promedio de los pasajeros: {edad_promedio}\")"
      ]
    },
    {
      "cell_type": "markdown",
      "metadata": {
        "id": "a6lmpXWIGOX8"
      },
      "source": [
        "### La media y operaciones lógicas\n",
        "\n",
        "También podemos utilizar `np.mean` para calcular el porcentaje de elementos del array que tienen una determinada propiedad.\n",
        "\n",
        "Como sabemos, un operador lógico evaluará cada elemento de un array para ver si coincide con la condición especificada. Si el elemento coincide con la condición dada, el elemento se evaluará como True y será igual a 1. Si no coincide, será Falso e igual a 0.\n",
        "\n",
        "Cuando `np.mean` calcula una sentencia lógica, el valor medio resultante será equivalente al número total de elementos Verdaderos dividido por la longitud total de la matriz."
      ]
    },
    {
      "cell_type": "code",
      "execution_count": null,
      "metadata": {
        "colab": {
          "base_uri": "https://localhost:8080/"
        },
        "id": "z3if3eyoHCDR",
        "outputId": "78df9e5e-0f12-40e2-f9a0-9b9fa5715263"
      },
      "outputs": [],
      "source": [
        "porcentaje_menores_de_edad = np.mean(pasajeros_edades <= 21)\n",
        "print(f\"Porcentaje de pasajeros menores de edad: {porcentaje_menores_de_edad*100}%\")"
      ]
    },
    {
      "cell_type": "markdown",
      "metadata": {
        "id": "TsE5gieKLuvJ"
      },
      "source": [
        "### Cálculo de la media de matrices 2D\n",
        "Si tenemos una matriz bidimensional, `np.mean` puede calcular la media de la matriz mayor así como los valores interiores."
      ]
    },
    {
      "cell_type": "markdown",
      "metadata": {
        "id": "0k15tOQeMC_E"
      },
      "source": [
        "Crearemos ahora una matriz bidemensional que contenga las edades y el dato de si el pasajero sobrevivió o no."
      ]
    },
    {
      "cell_type": "code",
      "execution_count": null,
      "metadata": {
        "id": "m9-eOnjFKGHo"
      },
      "outputs": [],
      "source": [
        "edades_sobrevivientes = df[[\"Age\",\"Survived\"]]\n",
        "edades_sobrevivientes = edades_sobrevivientes.dropna()"
      ]
    },
    {
      "cell_type": "code",
      "execution_count": null,
      "metadata": {
        "colab": {
          "base_uri": "https://localhost:8080/",
          "height": 206
        },
        "id": "Iu-CL0bFa6Ra",
        "outputId": "0140da77-9cd9-4d1d-b9a0-a0897f721d86"
      },
      "outputs": [],
      "source": [
        "edades_sobrevivientes.tail()"
      ]
    },
    {
      "cell_type": "markdown",
      "metadata": {
        "id": "oT4K_7B7MP4N"
      },
      "source": [
        "Convertimos los datos a un arreglo de Numpy:"
      ]
    },
    {
      "cell_type": "code",
      "execution_count": null,
      "metadata": {
        "colab": {
          "base_uri": "https://localhost:8080/"
        },
        "id": "sH784TrpLA2D",
        "outputId": "e7575e72-6faf-4557-d003-7dbee211f693"
      },
      "outputs": [],
      "source": [
        "edades_sobrevivientes_array = edades_sobrevivientes.to_numpy()\n",
        "print(len(edades_sobrevivientes_array))\n",
        "print(edades_sobrevivientes_array[:30])"
      ]
    },
    {
      "cell_type": "markdown",
      "metadata": {
        "id": "P4tgVGM_Ml7a"
      },
      "source": [
        "Realizamos la transposición de los datos, para convertir los valores en columna a valores en renglón:"
      ]
    },
    {
      "cell_type": "code",
      "execution_count": null,
      "metadata": {
        "colab": {
          "base_uri": "https://localhost:8080/"
        },
        "id": "Z_-TvESaLfEP",
        "outputId": "00b8c7d4-92a8-4634-ffd5-49dd057867fb"
      },
      "outputs": [],
      "source": [
        "edades_sobrevivientes_array = edades_sobrevivientes_array.transpose()\n",
        "print(edades_sobrevivientes_array)"
      ]
    },
    {
      "cell_type": "markdown",
      "metadata": {
        "id": "tQYteEuQM_pO"
      },
      "source": [
        "Si calculamos la media de toda la matriz no tendríamos un dato útil. Por lo anterior, vamos a indicarle a Numpy que deseamos que calcule las medias de los datos de cada renglón. Esto lo realizaremos indicando el parámetro `axis=1`."
      ]
    },
    {
      "cell_type": "code",
      "execution_count": null,
      "metadata": {
        "colab": {
          "base_uri": "https://localhost:8080/"
        },
        "id": "tEm2u-6YNdc_",
        "outputId": "27c2eef9-d615-4ddf-d7d2-06f44d71bd17"
      },
      "outputs": [],
      "source": [
        "np.mean(edades_sobrevivientes_array,axis=1)"
      ]
    },
    {
      "cell_type": "markdown",
      "metadata": {
        "id": "Cb4LVE4NPBZI"
      },
      "source": [
        "### Datos atípicos\n",
        "\n",
        "Como podemos ver, la media es una forma útil de entender rápidamente las diferentes partes de nuestros datos. Sin embargo, la media está muy influenciada por los valores específicos de nuestro conjunto de datos. ¿Qué ocurre cuando uno de esos valores es significativamente diferente del resto?\n",
        "\n",
        "Los valores que no se ajustan a la mayoría de un conjunto de datos se conocen como valores atípicos. Es importante identificar los valores atípicos porque, si pasan desapercibidos, pueden sesgar nuestros datos y provocar errores en nuestro análisis (como la determinación de la media). También pueden ser útiles para señalar errores en la recolección de datos.\n",
        "\n",
        "Cuando somos capaces de identificar los valores atípicos, podemos determinar si se deben a un error en la recogida de la muestra o si representan o no una desviación significativa pero real de la media.\n",
        "\n",
        "Imaginemos que tenemos los datos de las calificaciones de los alumnos de un grupo de matemáticas:\n",
        "\n",
        "`[90,95,93,98,94,160]`\n",
        "\n",
        "En este caso, es claro que 160 es un dato atípico, que probablemente se debe a un error de captura."
      ]
    },
    {
      "cell_type": "markdown",
      "metadata": {
        "id": "AhOgDcwaPaeM"
      },
      "source": [
        "#### Ordenamiento y datos atípicos\n",
        "Una forma de identificar rápidamente los valores atípicos es ordenando nuestros datos, una vez que nuestros datos están ordenados, podemos echar un vistazo rápidamente al principio o al final de una matriz para ver si algunos valores se encuentran más allá del rango esperado. Podemos utilizar la función NumPy `np.sort` para ordenar nuestros datos."
      ]
    },
    {
      "cell_type": "code",
      "execution_count": null,
      "metadata": {
        "colab": {
          "base_uri": "https://localhost:8080/"
        },
        "id": "c5iBktYMP1Kh",
        "outputId": "0c771df7-cb71-4e7c-d9cf-513fb1c13675"
      },
      "outputs": [],
      "source": [
        "pasajeros_edades = pasajeros_edades.transpose()\n",
        "pasajeros_edades_ordenados = np.sort(pasajeros_edades)\n",
        "print(pasajeros_edades_ordenados)"
      ]
    },
    {
      "cell_type": "markdown",
      "metadata": {
        "id": "uVgra_W6SKNl"
      },
      "source": [
        "### Numpy y la mediana\n",
        "\n",
        "Otra métrica clave que podemos utilizar en el análisis de datos es la mediana. La mediana es el valor medio de un conjunto de datos que se ha ordenado en términos de magnitud (de menor a mayor)."
      ]
    },
    {
      "cell_type": "code",
      "execution_count": null,
      "metadata": {
        "colab": {
          "base_uri": "https://localhost:8080/"
        },
        "id": "rOOhpC-bSZGy",
        "outputId": "aabf6efc-cb83-4d1e-87c0-0ec325f7688a"
      },
      "outputs": [],
      "source": [
        "mediana = np.median(pasajeros_edades)\n",
        "print(f\"La mediana es {mediana}\")"
      ]
    },
    {
      "cell_type": "markdown",
      "metadata": {
        "id": "bodSZNeauRF-"
      },
      "source": [
        "### La media vs la mediana\n",
        "\n",
        "En un conjunto de datos, el valor de la mediana puede proporcionar una importante comparación con la media. A diferencia de la media, la mediana no se ve afectada por los valores atípicos. Esto es importante en los conjuntos de datos sesgados, cuyos valores no se distribuyen uniformemente."
      ]
    },
    {
      "cell_type": "markdown",
      "metadata": {
        "id": "dl1xJ_Urxw-A"
      },
      "source": [
        "Imaginemos que tenemos los datos del tiempo en minutos que invierten en Internet los empleados de cierta empresa."
      ]
    },
    {
      "cell_type": "code",
      "execution_count": null,
      "metadata": {
        "id": "ty0herp5vaCU"
      },
      "outputs": [],
      "source": [
        "tiempos = np.array([   0,    0,    0,    0,    0,    0,    0,    0,    0,    0,    0,    0,     0,    0,    0,    0,    0,    0,    0,    0,    0,    0,    0,    0,     0,    0,    0,    0,    0,    0,    0,    0,    0,    1,    1,    1,     1,    1,    1,    1,    1,    1,    1,    1,    1,    1,    1,    1,     1,    1,    1,    1,    1,    1,    1,    1,    1,    1,    1,    1,     1,    1,    1,    1,    1,    1,    1,    1,    1,    1,    1,    1,     1,    1,    1,    1,    1,    1,    1,    1,    1,    1,    1,    1,     1,    1,    1,    1,    1,    1,    2,    2,    2,    2,    2,    2,     2,    2,    2,    2,    2,    2,    2,    2,    2,    2,    2,    2,     2,    2,    2,    2,    2,    2,    2,    2,    2,    2,    2,    3,     3,    3,    3,    3,    3,    3,    3,    3,    3,    3,    3,    3,     3,    3,    3,    3,    3,    3,    3,    3,    3,    3,    3,    3,     3,    3,    3,    3,    3,    3,    3,    4,    4,    4,    4,    4,     4,    4,    4,    4,    4,    4,    4,    4,    4,    4,    4,    4,     4,    4,    4,    4,    4,    4,    4,    5,    5,    5,    5,    5,     5,    6,    6,    6,    6,    9,   10,   22,   60,   60,   61,   72,    75,   82,  103,  120,  210,  304])"
      ]
    },
    {
      "cell_type": "code",
      "execution_count": null,
      "metadata": {
        "colab": {
          "base_uri": "https://localhost:8080/"
        },
        "id": "OBCqBHf3vd5W",
        "outputId": "1927df04-457a-40c5-e7f2-3d2dbba76062"
      },
      "outputs": [],
      "source": [
        "media_tiempos = np.mean(tiempos)\n",
        "mediana_tiempos = np.median(tiempos)\n",
        "\n",
        "print(f\"Media: {media_tiempos}\")\n",
        "print(f\"Mediana: {mediana_tiempos}\")"
      ]
    },
    {
      "cell_type": "markdown",
      "metadata": {
        "id": "shoQe-5eyZx1"
      },
      "source": [
        "¿Qué medida representa mejor a la mayoría de los datos?"
      ]
    },
    {
      "cell_type": "markdown",
      "metadata": {
        "id": "BgbqyucAy4Y_"
      },
      "source": [
        "### Percentiles\n",
        "\n",
        "Como hemos visto, la mediana es el punto medio de un conjunto de datos: es el número para el que el 50% de las muestras están por debajo, y el 50% de las muestras están por encima. Pero, ¿qué pasaría si quisiéramos encontrar un punto en el que el 30% de las muestras estuvieran por debajo y el 70% por encima?\n",
        "\n",
        "Este tipo de punto se llama percentil. El percentil N se define como el punto en el que el N% de las muestras están por debajo. Así, el punto en el que el 30% de las muestras están por debajo se llama percentil 30. Los percentiles son medidas útiles porque pueden indicarnos dónde se sitúa un valor concreto dentro del conjunto de datos mayor."
      ]
    },
    {
      "cell_type": "code",
      "execution_count": null,
      "metadata": {
        "colab": {
          "base_uri": "https://localhost:8080/"
        },
        "id": "haUbySXmCFdS",
        "outputId": "b1c4d29e-ee4e-43d5-d8f5-405ec697b2e0"
      },
      "outputs": [],
      "source": [
        "print(np.percentile(pasajeros_edades,90))\n",
        "print(np.percentile(pasajeros_edades,75))"
      ]
    },
    {
      "cell_type": "markdown",
      "metadata": {
        "id": "RLaxS8b6CgJj"
      },
      "source": [
        "Algunos percentiles tienen nombres específicos:\n",
        "\n",
        "- El percentil 25 se llama primer cuartil\n",
        "- El percentil 50 se llama mediana\n",
        "- El percentil 75 se llama tercer cuartil\n",
        "\n",
        "El mínimo, el primer cuartil, la mediana, el tercer cuartil y el máximo de un conjunto de datos se denominan resumen de cinco números. Calcular este conjunto de números es muy útil cuando obtenemos un nuevo conjunto de datos.\n",
        "\n",
        "La diferencia entre el primer y el tercer cuartil es un valor llamado rango intercuartil."
      ]
    },
    {
      "cell_type": "code",
      "execution_count": null,
      "metadata": {
        "colab": {
          "base_uri": "https://localhost:8080/"
        },
        "id": "BUK-Q6apC-dU",
        "outputId": "2b394bde-b25d-4c6e-f075-fbedbe24da47"
      },
      "outputs": [],
      "source": [
        "primer_cuartil = np.percentile(pasajeros_edades,25)\n",
        "tercer_cuartil = np.percentile(pasajeros_edades,75)\n",
        "rango_intercuartil = tercer_cuartil - primer_cuartil\n",
        "print(f\"Primer cuartil: {primer_cuartil}\")\n",
        "print(f\"Tercer cuartil: {tercer_cuartil}\")\n",
        "print(f\"Rango intercuartil: {rango_intercuartil}\")\n"
      ]
    },
    {
      "cell_type": "markdown",
      "metadata": {
        "id": "Ihbrh0lnDtbI"
      },
      "source": [
        "El 50% del conjunto de datos estará dentro del rango intercuartil. El rango intercuartil nos da una idea de la dispersión de nuestros datos. Cuanto menor sea el valor del rango intercuartílico, menor será la varianza de nuestro conjunto de datos. Cuanto mayor sea el valor, mayor será la varianza."
      ]
    },
    {
      "cell_type": "markdown",
      "metadata": {
        "id": "lh-2qq5jD1Ud"
      },
      "source": [
        "### Numpy y la desviación estándar\n",
        "\n",
        "Si bien la media y la mediana pueden informarnos sobre el centro de nuestros datos, no reflejan el rango o la variación de los mismos. Ahí es donde entra la desviación estándar.\n",
        "\n",
        "Al igual que el rango intercuartil, la desviación estándar nos indica la dispersión de los datos. Cuanto mayor sea la desviación estándar, más separados estarán los datos del centro. Cuanto menor sea la desviación estándar, más se agrupan los datos en torno a la media.\n",
        "\n",
        "Podemos usar la función `np.std()` para calcular la desviación estándar de un conjunto de datos."
      ]
    },
    {
      "cell_type": "code",
      "execution_count": null,
      "metadata": {
        "colab": {
          "base_uri": "https://localhost:8080/"
        },
        "id": "bL4cBZCjEOhH",
        "outputId": "5ea0fc5e-6737-488e-caf3-40f182908e3b"
      },
      "outputs": [],
      "source": [
        "desviacion_estandar = np.std(pasajeros_edades)\n",
        "\n",
        "print(f\"La media es: {np.mean(pasajeros_edades)}\")\n",
        "print(f\"La desviación estándar es: {desviacion_estandar}\")"
      ]
    },
    {
      "cell_type": "markdown",
      "metadata": {
        "id": "jjuL_7juF_HV"
      },
      "source": [
        "### Histogramas\n",
        "\n",
        "Cuando analizamos por primera vez un conjunto de datos, queremos ser capaces de entender rápidamente ciertas cosas sobre él:\n",
        "\n",
        "- ¿Existen algunos valores más frecuentes que otros?\n",
        "- ¿Cuál es el rango del conjunto de datos (es decir, los valores mínimos y máximos)?\n",
        "- ¿Hay muchos valores atípicos?\n",
        "\n",
        "Podemos visualizar esta información mediante un gráfico llamado histograma."
      ]
    },
    {
      "cell_type": "code",
      "execution_count": null,
      "metadata": {
        "id": "f67wccFJGGL-"
      },
      "outputs": [],
      "source": [
        "from matplotlib import pyplot as plt"
      ]
    },
    {
      "cell_type": "code",
      "execution_count": null,
      "metadata": {
        "id": "xPC11ErhG2a3"
      },
      "outputs": [],
      "source": [
        "pasajeros_edades = pasajeros_edades.transpose()"
      ]
    },
    {
      "cell_type": "code",
      "execution_count": null,
      "metadata": {
        "colab": {
          "base_uri": "https://localhost:8080/",
          "height": 430
        },
        "id": "2cawWiCrE_B_",
        "outputId": "9d8876cf-ebb8-4a2e-dbc7-0e4d0c42224e"
      },
      "outputs": [],
      "source": [
        "plt.hist(pasajeros_edades, bins=20)\n",
        "\n",
        "# Esto despliega el histograma\n",
        "plt.show()"
      ]
    },
    {
      "cell_type": "markdown",
      "metadata": {
        "id": "kjvbXBH_hCTy"
      },
      "source": [
        "### Distribución Normal\n",
        "\n",
        "La distribución más común en estadística es la conocida como distribución normal, que es una distribución simétrica y unimodal.\n",
        "\n",
        "Muchas cosas siguen una distribución normal:\n",
        "\n",
        "- Las alturas de un grupo grande de personas\n",
        "- Las mediciones de la presión arterial de un grupo de personas sanas\n",
        "- Errores en las mediciones\n",
        "\n",
        "Las distribuciones normales se definen por su media y su desviación estándar. La media establece el \"centro\" de la distribución, y la desviación estándar establece la \"anchura\" de la distribución. Una desviación estándar mayor conduce a una distribución más amplia. Una desviación estándar menor conduce a una distribución más delgada."
      ]
    },
    {
      "cell_type": "markdown",
      "metadata": {
        "id": "pv6_7x0Vhc7I"
      },
      "source": [
        "#### Generando nuestra propia distribución normal\n",
        "Podemos generar nuestros propios conjuntos de datos con distribución normal utilizando NumPy.\n",
        "\n",
        "Para crear estos conjuntos de datos, necesitamos utilizar un generador de números aleatorios. La biblioteca NumPy tiene varias funciones para generar números aleatorios, incluyendo una construida específicamente para generar un conjunto de números que se ajusten a una distribución normal: `np.random.normal`. Esta función toma los siguientes argumentos:\n",
        "\n",
        "- **loc**: la media de la distribución normal\n",
        "- **scale**: la desviación estándar de la distribución\n",
        "- **size**: el número de números aleatorios a generar"
      ]
    },
    {
      "cell_type": "code",
      "execution_count": null,
      "metadata": {
        "id": "2p9lsJfoiCmy"
      },
      "outputs": [],
      "source": [
        "a = np.random.normal(90, 3, size=100000)"
      ]
    },
    {
      "cell_type": "code",
      "execution_count": null,
      "metadata": {
        "colab": {
          "base_uri": "https://localhost:8080/",
          "height": 430
        },
        "id": "kis-pXCQiQVS",
        "outputId": "11865079-59e4-443d-a372-c1a463b8e894"
      },
      "outputs": [],
      "source": [
        "plt.hist(a,bins=100)\n",
        "\n",
        "# Esto despliega el histograma\n",
        "plt.show()"
      ]
    },
    {
      "cell_type": "markdown",
      "metadata": {
        "id": "erpRLA5okkR5"
      },
      "source": [
        "#### Distribución normal y desviación estándar\n",
        "La distribución normal cumple con ciertas reglas que es muy útil conocer:\n",
        "\n",
        "- El 68% de nuestras muestras caerán entre +/- 1 desviación estándar de la media\n",
        "- El 95% de nuestras muestras se situarán entre +/- 2 desviaciones estándar de la media\n",
        "- El 99,7% de nuestras muestras se situarán entre +/- 3 desviaciones estándar de la media"
      ]
    }
  ],
  "metadata": {
    "colab": {
      "provenance": []
    },
    "kernelspec": {
      "display_name": "Python 3",
      "name": "python3"
    },
    "language_info": {
      "name": "python"
    }
  },
  "nbformat": 4,
  "nbformat_minor": 0
}
