{
  "cells": [
    {
      "cell_type": "markdown",
      "metadata": {
        "id": "_RZ9TknOQcc2"
      },
      "source": [
        "## Introducción a Python.\n",
        "### Bienvenidos. En esta sesión revisaremos control de flujo y funciones.\n",
        "---\n",
        "![Python](https://www.python.org/static/img/python-logo.png)"
      ]
    },
    {
      "cell_type": "markdown",
      "metadata": {
        "id": "VOCt1MtWi0rY"
      },
      "source": [
        "## Control  de Flujo"
      ]
    },
    {
      "cell_type": "markdown",
      "metadata": {
        "id": "DQD3aAoHi0ra"
      },
      "source": [
        "### Valores lógicos o *Booleans* en Python: `True`, `False`\n",
        "\n",
        "Los programas de computación toman decisiones en términos binarios, es decir, para una computadora algo solo puede ser cierto (1) o falso (0).\n",
        "\n",
        "Los *booleans* son objetos en Python que pueden tomar valores de falso (False) o verdadero (True)."
      ]
    },
    {
      "cell_type": "code",
      "execution_count": null,
      "metadata": {
        "id": "B6mRcbNFi0rc"
      },
      "outputs": [],
      "source": [
        "print(True)\n",
        "print(False)\n",
        "print(type(True))"
      ]
    },
    {
      "cell_type": "markdown",
      "metadata": {
        "id": "BvhKs2j4i0ri"
      },
      "source": [
        "Los objetos booleanos contienen sus propios operadores:\n",
        "* `==`: Equivalencia o igualdad\n",
        "* `!=`: Diferencia\n",
        "* `not`: Negación\n",
        "* `and`: y\n",
        "* `or`: o\n"
      ]
    },
    {
      "cell_type": "markdown",
      "metadata": {
        "id": "K7JmEn_vi0rj"
      },
      "source": [
        "**Equivalencia o igualdad**: Verdadero si y solo si a es igual a b\n",
        "\n",
        "| `==`  | True  | False |\n",
        "|-------|-------|-------|\n",
        "| True  | True  | False |\n",
        "| False | False | True  |"
      ]
    },
    {
      "cell_type": "markdown",
      "metadata": {
        "id": "fzoYqUSui0rj"
      },
      "source": [
        "**Diferencia**: Verdadero si y solo si `a` no es igual a `b`\n",
        "\n",
        "| `!=`  | True  | False |\n",
        "|-------|-------|-------|\n",
        "| True  | False  | True |\n",
        "| False | True | False  |"
      ]
    },
    {
      "cell_type": "markdown",
      "metadata": {
        "id": "re01KRmZi0rk"
      },
      "source": [
        "**Condición \"y\":** Verdadero si y solo si `a` es verdadero y `b` es verdadero\n",
        "\n",
        "| `and`  | True  | False |\n",
        "|-------|-------|-------|\n",
        "| True  | True  | False |\n",
        "| False | False  | False  |"
      ]
    },
    {
      "cell_type": "markdown",
      "metadata": {
        "id": "aiCjh4HJi0rk"
      },
      "source": [
        "**Condición \"o\"**: Verdadero si `a` es verdadero o `b` es verdadero\n",
        "\n",
        "| `or`  | True  | False |\n",
        "|-------|-------|-------|\n",
        "| True  | True  | True |\n",
        "| False | True  | False  |"
      ]
    },
    {
      "cell_type": "markdown",
      "metadata": {
        "id": "15x0NHrpi0rl"
      },
      "source": [
        "**Negación**\n",
        "\n",
        "| `not`  |   |\n",
        "|-------|-------|\n",
        "| True  | False  |\n",
        "| False | True  |"
      ]
    },
    {
      "cell_type": "markdown",
      "metadata": {
        "id": "CPyCzkqGi0sG"
      },
      "source": [
        "### Comparaciones Lógicas\n",
        "\n",
        "Adicional a los operadores aritméticos, los `int`s y `float`s en python cuentan con operadores que nos permiten comparar valores numéricos.\n",
        "\n",
        "`>`, `<`, `==`, `!=`"
      ]
    },
    {
      "cell_type": "code",
      "execution_count": null,
      "metadata": {
        "id": "YIwheJTXi0sG"
      },
      "outputs": [],
      "source": [
        "3 > 5"
      ]
    },
    {
      "cell_type": "code",
      "execution_count": null,
      "metadata": {
        "id": "Ei-H9N-mi0sI"
      },
      "outputs": [],
      "source": [
        "3 < 5"
      ]
    },
    {
      "cell_type": "code",
      "execution_count": null,
      "metadata": {
        "id": "s07B-WuIi0sM"
      },
      "outputs": [],
      "source": [
        "3 <= 5"
      ]
    },
    {
      "cell_type": "code",
      "execution_count": null,
      "metadata": {
        "id": "w5iav4P3i0sP"
      },
      "outputs": [],
      "source": [
        "4 == 1"
      ]
    },
    {
      "cell_type": "code",
      "execution_count": null,
      "metadata": {
        "colab": {
          "base_uri": "https://localhost:8080/"
        },
        "id": "pmQjZTJki0sR",
        "outputId": "cd9e6bda-1b85-4707-84ca-d771dfde40bc"
      },
      "outputs": [],
      "source": [
        "4 != 1"
      ]
    },
    {
      "cell_type": "code",
      "execution_count": null,
      "metadata": {
        "colab": {
          "base_uri": "https://localhost:8080/"
        },
        "id": "ljFd1FwAi0sU",
        "outputId": "17012dde-1a2f-4c35-f04d-7e80d22b62cb"
      },
      "outputs": [],
      "source": [
        "1 > -4 < 10"
      ]
    },
    {
      "cell_type": "code",
      "execution_count": null,
      "metadata": {
        "colab": {
          "base_uri": "https://localhost:8080/"
        },
        "id": "J2WwZ5Hgi0sW",
        "outputId": "9e186791-913b-4a35-b91c-447cde3dd927"
      },
      "outputs": [],
      "source": [
        "x = 4\n",
        "5 < x"
      ]
    },
    {
      "cell_type": "code",
      "execution_count": null,
      "metadata": {
        "colab": {
          "base_uri": "https://localhost:8080/"
        },
        "id": "PDkWfk2JlsG4",
        "outputId": "f98a26b5-d636-4a76-bacd-2bee533ac09c"
      },
      "outputs": [],
      "source": [
        "(1 < -4) and (-4 < 10)"
      ]
    },
    {
      "cell_type": "code",
      "execution_count": null,
      "metadata": {
        "colab": {
          "base_uri": "https://localhost:8080/"
        },
        "id": "rS2nymTCQJGF",
        "outputId": "fa846096-9bcc-4be1-9220-74810cec8842"
      },
      "outputs": [],
      "source": [
        "#3 < x < 10\n",
        "(x > 3) and (x < 10)"
      ]
    },
    {
      "cell_type": "code",
      "execution_count": null,
      "metadata": {
        "colab": {
          "base_uri": "https://localhost:8080/"
        },
        "id": "hmPJBbTsnnTR",
        "outputId": "5a8cf92a-58b1-4f33-ea10-3be910655e87"
      },
      "outputs": [],
      "source": [
        "x = False\n",
        "not x"
      ]
    },
    {
      "cell_type": "markdown",
      "metadata": {
        "id": "YcEX42wfi0sY"
      },
      "source": [
        "### Sentencias condicionales\n",
        "\n",
        "Hasta ahora solo hemos visto programas cuya sequencia opera de manera lineal.\n",
        "\n",
        "Los programas, muy comúnmente, no siguen una serie de pasos que nos lleve al mismo resultado. Por ejemplo, al querer hacer *login* en una página de internet.\n",
        "\n",
        "A fin de poder incluir pasos alternativos, dependiendo de una operación booleana, usamos las condiciones booleanas `if`, `else`"
      ]
    },
    {
      "cell_type": "markdown",
      "metadata": {
        "id": "EQKmAPcDi0sZ"
      },
      "source": [
        "Sintaxís de un `if` en Python\n",
        "```python\n",
        "if <condicion>:\n",
        "    <expresion1>\n",
        "else:\n",
        "    <expresion2>\n",
        "```\n",
        "\n",
        "* La `<condicion>` hace referencia a una operación booleana, es decir, una operación que regrese `True` o `False`.\n",
        "* La `<expresion1>` hace referencia a cualquier sentencia o conjunto de sentencias de programación válidas. Estas se ejecutarán, sólo si el resultado de `<condicion>` es `True`.\n",
        "* La `<expresion2>` hace referencia a cualquier sentencia o conjunto de sentencias de programación válidas. Estas se ejecutarán, sólo si el resultado de `<condicion>` es `False`.\n",
        "* La sección `else` es opcional\n",
        "\n",
        "Es importante notar que siempre, después de una condición en un `if`, toda expresión que se desee ejecutar cuando la condición sea verdadera, **debe contener una sangría de espacios o un tab** en las líneas subsecuentes al `if`."
      ]
    },
    {
      "cell_type": "code",
      "execution_count": null,
      "metadata": {
        "colab": {
          "base_uri": "https://localhost:8080/"
        },
        "id": "HtlY5wM_i0sZ",
        "outputId": "c12ec295-8042-4a49-f720-3e33ddfc480c"
      },
      "outputs": [],
      "source": [
        "## Saludo a usuario\n",
        "lista_usuarios = ['usr186', 'usr203', 'usr919', 'usr989',\n",
        "                  'usr587', 'usr131', 'usr640', 'usr757',\n",
        "                  'usr237', 'usr491']\n",
        "usuario = input(\"Ingresa tu usuario: \")\n",
        "#print(usuario)\n",
        "if usuario in lista_usuarios:\n",
        "  print(f\"Hola, {usuario}!\")\n",
        "  print(\"Fin de la parte verdadera\")\n",
        "else:\n",
        "  print(f\"{usuario} es un usuario desconocido\")"
      ]
    },
    {
      "cell_type": "markdown",
      "metadata": {
        "id": "EmPsV6hBi0sc"
      },
      "source": [
        "¿Qué sucede si el usuario no se reconoce?  \n",
        "En ese caso `usuario in lista_usuarios == False` y la expresión correspondiente a la parte verdadera no se ejecuta."
      ]
    },
    {
      "cell_type": "code",
      "execution_count": null,
      "metadata": {
        "colab": {
          "base_uri": "https://localhost:8080/"
        },
        "id": "wVb0-JFRi0sc",
        "outputId": "d764d9b6-48cd-430d-b406-185cd0bed83b"
      },
      "outputs": [],
      "source": [
        "## Saludo a usuario\n",
        "lista_usuarios = ['usr186', 'usr203', 'usr919', 'usr989',\n",
        "                  'usr587', 'usr131', 'usr640', 'usr757',\n",
        "                  'usr237', 'usr491']\n",
        "usuario = input(\"Ingresa tu usuario: \")\n",
        "if usuario in lista_usuarios:\n",
        "    print(f\"Hola, {usuario}!\")\n",
        "else:\n",
        "    print(\"Usuario no reconocido\")"
      ]
    },
    {
      "cell_type": "markdown",
      "metadata": {
        "id": "2wBh70J9i0se"
      },
      "source": [
        "En ocasiones es necesario tener más de dos condiciones.  \n",
        "Supongamos que dentro de nuestro ejemplo de usuarios en un sistema existen usarios bloqueados. En este caso, tendríamos tres condiciones."
      ]
    },
    {
      "cell_type": "code",
      "execution_count": null,
      "metadata": {
        "colab": {
          "base_uri": "https://localhost:8080/"
        },
        "id": "rTEi_sfQi0se",
        "outputId": "425c879d-009f-471b-c298-ff20793bc261"
      },
      "outputs": [],
      "source": [
        "## Saludo a usuario\n",
        "lista_usuarios = ['usr186', 'usr203', 'usr919', 'usr989',\n",
        "                  'usr587', 'usr131', 'usr640', 'usr757',\n",
        "                  'usr237', 'usr491']\n",
        "lista_usuarios_bloqueados = ['usr160', 'usr464', 'usr461', 'usr737', 'usr835']\n",
        "usuario = input(\"Ingresa tu usuario: \")\n",
        "\n",
        "if usuario in lista_usuarios:\n",
        "    print(f\"Hola, {usuario}!\")\n",
        "elif usuario in lista_usuarios_bloqueados:\n",
        "    print(f\"El usuario {usuario} ha sido bloqueado...\")\n",
        "else:\n",
        "    print(\"Usuario no reconocido\")"
      ]
    },
    {
      "cell_type": "markdown",
      "metadata": {
        "id": "Pl7Ly4CBi0sh"
      },
      "source": [
        "**Nota** Las condiciones declaradas se ejecutan una por una de arriba hacia abajo, una vez que alguna de las condiciones regresa `True`, el programa ejecuta el código declarado para la condición y se descartan las restantes."
      ]
    },
    {
      "cell_type": "markdown",
      "metadata": {
        "id": "ieX7170_i0sh"
      },
      "source": [
        "#### Ejercicio\n",
        "\n",
        "1. Escribe un programa que mencione cómo se encuentra el clima. El Usuario deberá ingresar la temperatura actual:\n",
        "    * Si `temperatura` es mayor a 35, el programa deberá imprimir `\"Hace mucho calor\"`.\n",
        "    * Si `temperatura` es menor a -15, el programa deberá imprimir `\"Hace mucho frío\"`\n",
        "    * Si `temperatura` es mayor a 25 y menor a 35, el programa deberá imprimir `\"Hace calor\"`\n",
        "    * Si `temperatura` es mayor a -15 y menor a 12, el programa deberá imprimir `\"Hace frío\"`\n",
        "    * Si `temperatura` se encuentra entre 12 y 25, el programa deberá imprimir `\"El clima es templado\"`\n"
      ]
    },
    {
      "cell_type": "code",
      "execution_count": null,
      "metadata": {
        "colab": {
          "base_uri": "https://localhost:8080/"
        },
        "id": "0-rnWQsbR_yj",
        "outputId": "cdf0faa4-8691-46b8-a245-3dbf9dd7eb7f"
      },
      "outputs": [],
      "source": [
        "temperatura = int(input(\"Ingresa la temperatura: \"))\n",
        "if temperatura > 35:\n",
        "  print(\"Hace mucho calor\")\n",
        "elif temperatura > 25:\n",
        "  print(\"Hace calor\")\n",
        "elif temperatura > 12:\n",
        "  print(\"El clima es templado\")\n",
        "elif temperatura > -15:\n",
        "  print(\"Hace frío\")\n",
        "else:\n",
        "  print(\"Hace mucho frío\")"
      ]
    },
    {
      "cell_type": "markdown",
      "metadata": {
        "id": "rol2ZceBi0si"
      },
      "source": [
        "### Condicionales in-line\n",
        "En ocasiones es necesario asignar el valor a una variable de manera dinámica."
      ]
    },
    {
      "cell_type": "code",
      "execution_count": null,
      "metadata": {
        "colab": {
          "base_uri": "https://localhost:8080/"
        },
        "id": "lMkXF9cBi0si",
        "outputId": "7dd81268-36e6-4e92-e0ad-42f5a19215fa"
      },
      "outputs": [],
      "source": [
        "edad = int(input(\"Dame tu edad \"))\n",
        "if edad >= 18:\n",
        "    puedes_votar = True\n",
        "else:\n",
        "    puedes_votar = False\n",
        "\n",
        "print(puedes_votar)"
      ]
    },
    {
      "cell_type": "markdown",
      "metadata": {
        "id": "teHLOhfdi0sl"
      },
      "source": [
        "En casos cuando las condiciones son binarias (`if-else`) y de complejidad baja, python nos permite asignar el valor a una variable de una manera dinámica."
      ]
    },
    {
      "cell_type": "code",
      "execution_count": null,
      "metadata": {
        "colab": {
          "base_uri": "https://localhost:8080/"
        },
        "id": "RynihgWxi0sl",
        "outputId": "a56bfbc1-bb12-4962-ebbc-baf0803a1d88"
      },
      "outputs": [],
      "source": [
        "edad = int(input(\"Dame tu edad \"))\n",
        "puedes_votar = True if edad >= 18 else False\n",
        "\n",
        "print(puedes_votar)"
      ]
    },
    {
      "cell_type": "markdown",
      "metadata": {
        "id": "Ot_RuLzMi0sn"
      },
      "source": [
        "#### Ejercicios\n",
        "\n",
        "1. Usando condicionales *in-line* escribe un programa que le pida al usuario un número `num` e imprima `\"El número <num> es par\"`, si `num` es par o `\"El número <num> es impar\"` si el número es impar."
      ]
    },
    {
      "cell_type": "code",
      "execution_count": null,
      "metadata": {
        "colab": {
          "base_uri": "https://localhost:8080/"
        },
        "id": "DPiODhqJhj26",
        "outputId": "534cd815-83bc-42a2-bec6-3a13efc840fc"
      },
      "outputs": [],
      "source": [
        "num = int(input(\"Dame un número: \"))\n",
        "print(f\"{num} es par\" if (num % 2) == 0 else f\"{num} es impar\")"
      ]
    },
    {
      "cell_type": "markdown",
      "metadata": {
        "id": "vQhtcignU7Lq"
      },
      "source": [
        "## Ciclos"
      ]
    },
    {
      "cell_type": "markdown",
      "metadata": {
        "id": "UAJOoC3GiK7b"
      },
      "source": [
        "Los ciclos o *loops* son comunmente usados cuando tenemos un bloque de código el cuál deseamos repetir un número finito de veces.\n",
        "\n",
        "Supongamos queremos calcular el área ($A = \\pi r^2$) de un número $n$ de círculos. Dada una lista de radios `radios = [1, 3, 5, 2, 1, 10]` y considerando `pi = 3.14159265`. ¿De qué manera podríamos calcular el área de cada uno de los círculos?\n",
        "\n",
        "Una primera manera sería considerar cada elemento dentro de \"radios\" e imprimir el resultado\n",
        "```python\n",
        "radios = [1, 3, 5, 2, 1, 10]\n",
        "pi = 3.14159265\n",
        "print(pi * radios[0] ** 2)\n",
        "print(pi * radios[1] ** 2)\n",
        "print(pi * radios[2] ** 2)\n",
        "print(pi * radios[3] ** 2)\n",
        "print(pi * radios[4] ** 2)\n",
        "print(pi * radios[5] ** 2)\n",
        "```"
      ]
    },
    {
      "cell_type": "markdown",
      "metadata": {
        "id": "va1OcS70iK7d"
      },
      "source": [
        "La desventaja de hacerlo de esta manera es tener que escribir cada uno de los índices y repetir `print` para cada uno de los elementos. Consideremos ahora que tenemos una nueva lista `radios` dada.\n",
        "```python\n",
        "radios = [69, 24, 61, 27, 93, 67, 16, 66, 79, 3, 84, 4, 2, 82, 17, 88, 1, 74, 65, 4, 82, 3, 21, 12, 62, 9, 96, 68, 63, 88]\n",
        "```\n",
        "\n",
        "Si seguimos la metodología planteada anteriormente, calcular cada uno de los radios sería una tarea tediosa y propensa a errores (si copiamos y pegamos cada `print(pi * radios[i])` existe la posibilidad de no modificar correctamente algunos de los índices).\n",
        "\n",
        "**Consejos prácticos**  \n",
        "Cuando en nuestro código estemos repitiendo el mismo bloque de código con mínimas diferencias, es muy probable que necesitemos un Ciclo (*loop*). Siempre sigue el principio de diseño **DRY** (Don't repeat yourself)"
      ]
    },
    {
      "cell_type": "markdown",
      "metadata": {
        "id": "PEXXGZU5iK7e"
      },
      "source": [
        "## Ciclos `For`\n",
        "Usamos un ciclo `for` cuando conocemos de manera exacta el número de veces que deseamos ejecutar el bloque de código. El ejemplo anterior es un caso viable para usar un Ciclo *for*.\n",
        "\n",
        "La sintaxis para un *for loop* en python es la siguiente\n",
        "\n",
        "```python\n",
        "for varval in iterable:\n",
        "    ...\n",
        "```\n",
        "\n",
        "* `iterable` es un iterable. A grandes rasgos, un iterable es todo aquello que contenga un índice (una lista, un diccionario, un string)\n",
        "* `varval` es una variable que toma como valor cada elemento dentro de `iterable`\n",
        "* Todo bloque de código con sangría (4 espacios o tab) despues del `for` se repite por cada `varval` dentro de `iterable`"
      ]
    },
    {
      "cell_type": "code",
      "execution_count": null,
      "metadata": {
        "colab": {
          "base_uri": "https://localhost:8080/"
        },
        "id": "Yb9OmWfZiK7f",
        "outputId": "3b687118-a48a-49d1-db91-c8c6cf953bea"
      },
      "outputs": [],
      "source": [
        "lista = [\"a\", \"b\", \"c\",\"d\"]\n",
        "for x in lista:\n",
        "    print(x)"
      ]
    },
    {
      "cell_type": "code",
      "execution_count": null,
      "metadata": {
        "colab": {
          "base_uri": "https://localhost:8080/"
        },
        "id": "jo7Yjp56iK7j",
        "outputId": "d264501a-b9db-48c4-92b1-cd3e028131c6"
      },
      "outputs": [],
      "source": [
        "# Mostrando cada paso\n",
        "lista = [\"a\", \"b\", \"c\"]\n",
        "paso = 0\n",
        "for elemento in lista:\n",
        "    print(elemento)\n",
        "    paso += 1\n",
        "    print(f\"...Paso: {paso}...\")\n",
        "print(\"Terminó el ciclo\")"
      ]
    },
    {
      "cell_type": "code",
      "execution_count": null,
      "metadata": {
        "id": "ZfZpNuOLiK7m",
        "scrolled": true
      },
      "outputs": [],
      "source": [
        "# Líneas de código sin sangría se consideran fuera del ciclo.\n",
        "# Solo corren después de haber iterado cada elemento del iterable\n",
        "lista = [\"a\", \"b\", \"c\"]\n",
        "paso = 0\n",
        "for elemento in lista:\n",
        "    print(elemento)\n",
        "    paso += 1\n",
        "    print(f\"...Paso: {paso}...\")\n",
        "print(\"...Fin...\")"
      ]
    },
    {
      "cell_type": "markdown",
      "metadata": {
        "id": "F-OF21c_iK7w"
      },
      "source": [
        "Considerando el ejemplo previo:\n",
        "```python\n",
        "radios = [1, 3, 5, 2, 1, 10]\n",
        "pi = 3.14159265\n",
        "print(pi * radios[0] ** 2)\n",
        "print(pi * radios[1] ** 2)\n",
        "print(pi * radios[3] ** 2)\n",
        "print(pi * radios[3] ** 2)\n",
        "print(pi * radios[4] ** 2)\n",
        "print(pi * radios[5] ** 2)\n",
        "```\n",
        "\n",
        "Podemos reescribir el código con un *for loop* de la siguiente manera\n",
        "```python\n",
        "radios = [1, 3, 5, 2, 1, 10]\n",
        "pi = 3.14159265\n",
        "for radio in radios:\n",
        "    print(pi * radio ** 2)\n",
        "```"
      ]
    },
    {
      "cell_type": "code",
      "execution_count": null,
      "metadata": {
        "id": "otimbr2oiK7o"
      },
      "outputs": [],
      "source": [
        "radios = [1, 3, 5, 2, 1, 10]\n",
        "pi = 3.14159265\n",
        "for radio in radios:\n",
        "    print(pi * radio ** 2)"
      ]
    },
    {
      "cell_type": "code",
      "execution_count": null,
      "metadata": {
        "colab": {
          "base_uri": "https://localhost:8080/"
        },
        "id": "jRs2FWtMiK7x",
        "outputId": "b6b38a44-1ef3-4f1f-8564-3ca6d5991ba5"
      },
      "outputs": [],
      "source": [
        "# ¿Qué resultado arrojaría correr el siguiente código?\n",
        "word = \"Bayern München\"\n",
        "for letter in word:\n",
        "    print(letter)"
      ]
    },
    {
      "cell_type": "markdown",
      "metadata": {
        "id": "uPCd0y9MiK72"
      },
      "source": [
        "**Rangos**  \n",
        "La manera de crear un rango de números dentro de python es mediante la función `range`, la cuál puede ser usado de tres maneras\n",
        "* `range(a)` crea un rango de valores de `0` hsta `a-1`\n",
        "* `range(a, b)` crea un rango de valores de `a` hasta `b-1`\n",
        "* `range(a, b, s)` crea un rango de valores de `a` hasta `b-1` dando saltos `s`"
      ]
    },
    {
      "cell_type": "code",
      "execution_count": null,
      "metadata": {
        "colab": {
          "base_uri": "https://localhost:8080/"
        },
        "id": "fHcaWzdp6InO",
        "outputId": "f160d929-be47-4cbc-dcdb-7a1e11121790"
      },
      "outputs": [],
      "source": [
        "#Imprimir números impares del 1 al 100\n",
        "for n in range(1,100,2):\n",
        "  print(n, end=\",\")"
      ]
    },
    {
      "cell_type": "code",
      "execution_count": null,
      "metadata": {
        "colab": {
          "base_uri": "https://localhost:8080/"
        },
        "id": "n_BZyKftiK72",
        "outputId": "8aa67e0f-b888-4d40-b74b-0c55a9c148f6"
      },
      "outputs": [],
      "source": [
        "for n in range(5):\n",
        "    print(n)"
      ]
    },
    {
      "cell_type": "code",
      "execution_count": null,
      "metadata": {
        "colab": {
          "base_uri": "https://localhost:8080/"
        },
        "id": "iOLKjK38iK77",
        "outputId": "4e22efbe-29ca-47e5-ca03-337f1d942ed7"
      },
      "outputs": [],
      "source": [
        "for n in range(5, 11):\n",
        "    print(n)"
      ]
    },
    {
      "cell_type": "code",
      "execution_count": null,
      "metadata": {
        "colab": {
          "base_uri": "https://localhost:8080/"
        },
        "id": "Vg9K62gkiK7_",
        "outputId": "a11917ea-6c77-4535-9c5c-71c0af6f40ad"
      },
      "outputs": [],
      "source": [
        "for n in range(4, 12, 2):\n",
        "    print(n)"
      ]
    },
    {
      "cell_type": "markdown",
      "metadata": {
        "id": "P3rSTmQ3s9-x"
      },
      "source": [
        "### La palabra reservada `continue`"
      ]
    },
    {
      "cell_type": "code",
      "execution_count": null,
      "metadata": {
        "id": "u0iRiga1s69X"
      },
      "outputs": [],
      "source": [
        "big_number_list = [1, 2, -1, 4, -5, 5, 2, -9]\n",
        "\n",
        "# Imprime sólo los números positivos:\n",
        "for i in big_number_list:\n",
        "  if i < 0:\n",
        "    continue\n",
        "  print(i)"
      ]
    },
    {
      "cell_type": "markdown",
      "metadata": {
        "id": "yL7ysf9LiK8C"
      },
      "source": [
        "## Ciclos `while`\n",
        "A diferencia de un Ciclo `for` loop, en un Ciclo `while` no necesariamente conocemos el número de veces que se repetirá el ciclo. La sintáxis de un Ciclo `while` es la siguiente.\n",
        "\n",
        "```python\n",
        "while <condicion>:\n",
        "    ...\n",
        "```\n",
        "\n",
        "* `<condicion>` es un booleano el cual es evaluado al principio de cada ciclo. Si `<condicion> == True`, el bloque de código en sangría es evaluado; de otra manera el ciclo se rompe.\n",
        "\n",
        "Un ciclo while repite el ciclo siempre y cuando `condicion` sea `True`"
      ]
    },
    {
      "cell_type": "code",
      "execution_count": null,
      "metadata": {
        "colab": {
          "base_uri": "https://localhost:8080/"
        },
        "id": "_-8PF9tGiK8C",
        "outputId": "dbc03a61-8a5c-4cae-c2a4-6d00b8a7a8a0"
      },
      "outputs": [],
      "source": [
        "x = 1\n",
        "while x <= 10:\n",
        "    print(x, end=\" \")\n",
        "    x += 1"
      ]
    },
    {
      "cell_type": "markdown",
      "metadata": {
        "id": "e363L4T3iK8F"
      },
      "source": [
        "### La palabra reservada `break`  \n",
        "En ocasiones es deseable romper el ciclo antes de empezar la siguiente iteración. En estos casos podemos usar `break` para terminar el ciclo con anticipación."
      ]
    },
    {
      "cell_type": "code",
      "execution_count": null,
      "metadata": {
        "colab": {
          "base_uri": "https://localhost:8080/"
        },
        "id": "ENLb9SnriK8G",
        "outputId": "b37e6301-23b8-4d99-8591-f37a1ae840da"
      },
      "outputs": [],
      "source": [
        "comidas = []\n",
        "print(\"Ingresa comidas que te gusten. Escribe 'fin' para terminar el programa\")\n",
        "while True: # La condición siempre es, explicitamente, verdadera\n",
        "    comida = input(\"Comida: \")\n",
        "    if comida != \"fin\":\n",
        "        comidas.append(comida)\n",
        "    else:\n",
        "        print(\"Saliendo del programa...\")\n",
        "        break\n",
        "print(comidas)"
      ]
    },
    {
      "cell_type": "markdown",
      "metadata": {
        "id": "xu3ZMt54WYYN"
      },
      "source": [
        "## Funciones\n",
        "* Una función en programación, es una sección nombrada de un programa cuyo fin es realizar una tarea específica.\n",
        "* La mayoría de los lenguajes de programación, como es el caso de Python, contienen funciones ya definidas que pueden ser usadas por el usuario."
      ]
    },
    {
      "cell_type": "markdown",
      "metadata": {
        "id": "JQTnpe93WYYQ"
      },
      "source": [
        "### Funciones internas, algunos ejemplos."
      ]
    },
    {
      "cell_type": "code",
      "execution_count": null,
      "metadata": {
        "id": "Y1W9CvQuWYYQ"
      },
      "outputs": [],
      "source": [
        "len([1, 2, 3, 4])"
      ]
    },
    {
      "cell_type": "code",
      "execution_count": null,
      "metadata": {
        "id": "MYz4kp7jWYYT"
      },
      "outputs": [],
      "source": [
        "sum([1, 2, 3, 4])"
      ]
    },
    {
      "cell_type": "code",
      "execution_count": null,
      "metadata": {
        "id": "cyvbklbkWYYW"
      },
      "outputs": [],
      "source": [
        "print(\"f(x)\")"
      ]
    },
    {
      "cell_type": "code",
      "execution_count": null,
      "metadata": {
        "id": "YqCXlHxoWYYZ"
      },
      "outputs": [],
      "source": [
        "pow(3, 4)"
      ]
    },
    {
      "cell_type": "code",
      "execution_count": null,
      "metadata": {
        "id": "bONSQ-0cWYYe"
      },
      "outputs": [],
      "source": [
        "abs(-3)"
      ]
    },
    {
      "cell_type": "markdown",
      "metadata": {
        "id": "xhB5hlAsWYYi"
      },
      "source": [
        "Declaramos una función en Python por medio de la palabra clave `def` (*definition*). La sintaxis general para declarar una función en Python es la siguiente:\n",
        "\n",
        "```python\n",
        "def nombre_funcion(param1, param2, ..., paramn):\n",
        "    <operaciones>\n",
        "```\n",
        "\n",
        "* `param1`, `param2` son conocidos como los **parámetros** de la función. Estos son objetos que servirán como *entradas* a la función (si es que la función necesita alguna entrada)\n",
        "* Al igual que con los ciclos (`for`, `while`) y sentencias de control de flujo (`if`, `else`, `elif`), la definición de una función inicia después de su declaración inicial; el cuerpo de la función es todo aquello con sangría y acaba al regresar al nivel en donde la función fue definida."
      ]
    },
    {
      "cell_type": "code",
      "execution_count": null,
      "metadata": {
        "colab": {
          "base_uri": "https://localhost:8080/"
        },
        "id": "iW-cnVmeWYYj",
        "outputId": "87b2fc41-f2aa-4c36-b9a3-a5762f534d43"
      },
      "outputs": [],
      "source": [
        "def funcion():\n",
        "    print(\"¡Esto es una función!\")\n",
        "\n",
        "funcion()"
      ]
    },
    {
      "cell_type": "code",
      "execution_count": null,
      "metadata": {
        "colab": {
          "base_uri": "https://localhost:8080/"
        },
        "id": "9a8a3NE3WYYm",
        "outputId": "627dd134-3a4b-4202-9f1f-e3c19d727020"
      },
      "outputs": [],
      "source": [
        "def distancia(a, b):\n",
        "    print( (a**2 + b**2) ** (1/2))\n",
        "\n",
        "distancia(1,2)"
      ]
    },
    {
      "cell_type": "markdown",
      "metadata": {
        "id": "1Xq2CXiFWYYr"
      },
      "source": [
        "Al crear una función es importante notar que los parámetros de la función y las variables declaradas dentro de la función solo se ven afectadas dentro de la función.  \n",
        "El alcance de una variable es conocido como el *scope*"
      ]
    },
    {
      "cell_type": "code",
      "execution_count": null,
      "metadata": {
        "colab": {
          "base_uri": "https://localhost:8080/"
        },
        "id": "0FI35NwNWYYs",
        "outputId": "8be3d136-9d95-42f6-8754-e750db7b08bd"
      },
      "outputs": [],
      "source": [
        "def f(a): # 'a' es conocido como un parámetro\n",
        "    b = 3 # b no existe fuera de este scope\n",
        "    a = a + 1  #a += 1\n",
        "    print(a)\n",
        "\n",
        "a = 3\n",
        "f(a) # 'a' es un argumento\n",
        "print(a)"
      ]
    },
    {
      "cell_type": "markdown",
      "metadata": {
        "id": "KTIx6dt9WYYu"
      },
      "source": [
        "El valor que toma un parámetro es conocido como su **argumento**. Los argumentos de una función se toman de manera ordenada."
      ]
    },
    {
      "cell_type": "code",
      "execution_count": null,
      "metadata": {
        "id": "jl7ihj8QWYYu"
      },
      "outputs": [],
      "source": [
        "def potencia(x, y):\n",
        "    print(x ** y)"
      ]
    },
    {
      "cell_type": "code",
      "execution_count": null,
      "metadata": {
        "colab": {
          "base_uri": "https://localhost:8080/"
        },
        "id": "NZgYCdBtWYYy",
        "outputId": "527b6d3b-3702-4452-f6d1-be2f16e45ba7"
      },
      "outputs": [],
      "source": [
        "potencia(2, 3)"
      ]
    },
    {
      "cell_type": "code",
      "execution_count": null,
      "metadata": {
        "colab": {
          "base_uri": "https://localhost:8080/"
        },
        "id": "vOm1_qwyWYY0",
        "outputId": "cfc7314e-2b6f-4248-ad73-531d66911872"
      },
      "outputs": [],
      "source": [
        "potencia(3, 2)"
      ]
    },
    {
      "cell_type": "markdown",
      "metadata": {
        "id": "j-BDiICRWYY4"
      },
      "source": [
        "De igual manera, podemos pasar un argumento a cualquier función de manera explicita mencionando el nombre del parámetro seguido del argumento. De esta manera, el orden de los argumentos no son relevantes, siempre y cuando tomemos el nombre del parámetro correcto"
      ]
    },
    {
      "cell_type": "code",
      "execution_count": null,
      "metadata": {
        "colab": {
          "base_uri": "https://localhost:8080/"
        },
        "id": "tLfeDjlzWYY4",
        "outputId": "d0358622-271e-4134-ad86-c0cfd11118ac"
      },
      "outputs": [],
      "source": [
        "potencia(x=2, y=3)"
      ]
    },
    {
      "cell_type": "code",
      "execution_count": null,
      "metadata": {
        "colab": {
          "base_uri": "https://localhost:8080/"
        },
        "id": "_t3x7ImSWYY9",
        "outputId": "066f8e54-1851-492a-fa1d-255b857e2098"
      },
      "outputs": [],
      "source": [
        "potencia(y=3, x=2)"
      ]
    },
    {
      "cell_type": "markdown",
      "metadata": {
        "id": "5DzEhXNQWYZA"
      },
      "source": [
        "### La palabra clave `return`\n",
        "En muchas ocasiones no nos es estrictamente necesario observar el valor que arroja una función, sino más bien trabajar con ese valor.\n",
        "\n",
        "Considerando la siguiente función, supongamos que queremos guardar el valor que nos arroja una función. En este caso, vemos que no podemos hacer uso del valor calculado por la función `cuadrado`. En efecto, el valor arrojado por la función es nada `None`."
      ]
    },
    {
      "cell_type": "code",
      "execution_count": null,
      "metadata": {
        "colab": {
          "base_uri": "https://localhost:8080/"
        },
        "id": "OFo0TymjWYZB",
        "outputId": "69dbfaae-05fb-4bad-91a7-3a4869ecc11d"
      },
      "outputs": [],
      "source": [
        "def cuadrado(x):\n",
        "    #print(x ** 2)\n",
        "    return x ** 2\n",
        "\n",
        "sq2 = cuadrado(14)\n",
        "print(sq2)"
      ]
    },
    {
      "cell_type": "markdown",
      "metadata": {
        "id": "QmQWznzsWYZD"
      },
      "source": [
        "Para poder obtener el valor de una función ocupamos usar la palabra reservada `return`, la cuál nos regresa / retorna un valor (o valores) deseado, creado (o creados) dentro de una función"
      ]
    },
    {
      "cell_type": "code",
      "execution_count": null,
      "metadata": {
        "colab": {
          "base_uri": "https://localhost:8080/"
        },
        "id": "4Y2tWNvkWYZD",
        "outputId": "4081914f-78c1-4a74-cb2f-d98b2c61396c"
      },
      "outputs": [],
      "source": [
        "def cuadrado(x):\n",
        "    return x ** 2\n",
        "\n",
        "sq2 = cuadrado(2)\n",
        "print(sq2)"
      ]
    },
    {
      "cell_type": "markdown",
      "metadata": {
        "id": "KRcDP32xWYZG"
      },
      "source": [
        "Dentro de una función, normalmente se ocupa el `print` para saber el estado de un programa, e.g., un proceso largo sobre el cuál nos gustaría saber en que punto se encuentra el proceso. `return` nos permite regresar al exterior de la función el valor sobre el cuál nos gustaría trabajar."
      ]
    },
    {
      "cell_type": "markdown",
      "metadata": {
        "id": "aG2a4UR-WYZJ"
      },
      "source": [
        "### Argumentos Opcionales\n",
        "En python podemos definir funciones cuyos parámetros toman algún argumento predefinido. Estos parámetros se conocen como **argumentos opcionales**"
      ]
    },
    {
      "cell_type": "code",
      "execution_count": null,
      "metadata": {
        "id": "obarM0xwWYZK"
      },
      "outputs": [],
      "source": [
        "def distancia2(x1, y1, x0=0, y0=0):\n",
        "    return ((x1 - x0) ** 2 + (y1 - y0) **2) ** (1/2)"
      ]
    },
    {
      "cell_type": "code",
      "execution_count": null,
      "metadata": {
        "colab": {
          "base_uri": "https://localhost:8080/"
        },
        "id": "5bzOaYMHWYZN",
        "outputId": "370881cd-03dc-4b5c-88b1-d2760450207f"
      },
      "outputs": [],
      "source": [
        "distancia2(1, 2)"
      ]
    },
    {
      "cell_type": "code",
      "execution_count": null,
      "metadata": {
        "colab": {
          "base_uri": "https://localhost:8080/"
        },
        "id": "rq5nvjqEWYZP",
        "outputId": "ede356f8-d1b5-47c8-c865-6ab2d68b71e8"
      },
      "outputs": [],
      "source": [
        "distancia2(1, 2, 1.5, 2.1)"
      ]
    },
    {
      "cell_type": "code",
      "execution_count": null,
      "metadata": {
        "colab": {
          "base_uri": "https://localhost:8080/"
        },
        "id": "GJE5bTQDWYZR",
        "outputId": "fac51ec9-9deb-4400-d8e3-860f36dd8949"
      },
      "outputs": [],
      "source": [
        "# Cambiando el orden de los parámetros\n",
        "distancia2(x0=1.5, x1=1, y0=2.1, y1= 2)"
      ]
    },
    {
      "cell_type": "markdown",
      "metadata": {
        "id": "oyl7f0OeWYZU"
      },
      "source": [
        "<h2 style=\"color:crimson\"> Ejercicio </h2>\n",
        "\n",
        "1. Considera el siguiente programa y responde: ¿Cuál es el valor de `y` una vez ejecutado el programa?\n",
        "\n",
        "```python\n",
        "def cuadrado(x):\n",
        "    y = x ** 2\n",
        "    \n",
        "y = 3\n",
        "cuadrado(2)\n",
        "print(y)\n",
        "```\n"
      ]
    }
  ],
  "metadata": {
    "celltoolbar": "Slideshow",
    "colab": {
      "provenance": []
    },
    "kernelspec": {
      "display_name": "Python 3",
      "language": "python",
      "name": "python3"
    },
    "language_info": {
      "codemirror_mode": {
        "name": "ipython",
        "version": 3
      },
      "file_extension": ".py",
      "mimetype": "text/x-python",
      "name": "python",
      "nbconvert_exporter": "python",
      "pygments_lexer": "ipython3",
      "version": "3.6.6"
    }
  },
  "nbformat": 4,
  "nbformat_minor": 0
}
