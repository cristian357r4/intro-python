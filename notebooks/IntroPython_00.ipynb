{
  "cells": [
    {
      "cell_type": "markdown",
      "metadata": {
        "id": "1wWnVn6b0a4N"
      },
      "source": [
        "## Introducción a Python\n",
        "\n",
        "![Python](https://www.python.org/static/img/python-logo.png)"
      ]
    },
    {
      "cell_type": "markdown",
      "metadata": {
        "id": "CtQS90sX0h9V"
      },
      "source": [
        "### Índice\n",
        "\n",
        "**Cuaderno 1**\n",
        "\n",
        "[Variables, Operadores, Strings](IntroPython_02.ipynb)\n",
        "\n",
        "**Cuaderno 2**\n",
        "\n",
        "[Control de Flujo](IntroPython_02.ipynb)"
      ]
    }
  ],
  "metadata": {
    "colab": {
      "provenance": []
    },
    "kernelspec": {
      "display_name": "Python 3",
      "name": "python3"
    },
    "language_info": {
      "name": "python"
    }
  },
  "nbformat": 4,
  "nbformat_minor": 0
}
