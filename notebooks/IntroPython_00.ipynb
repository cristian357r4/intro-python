{
  "cells": [
    {
      "cell_type": "markdown",
      "metadata": {
        "id": "1wWnVn6b0a4N"
      },
      "source": [
        "## Introducción a Python\n",
        "\n",
        "![Python](https://www.python.org/static/img/python-logo.png)"
      ]
    },
    {
      "cell_type": "markdown",
      "metadata": {
        "id": "CtQS90sX0h9V"
      },
      "source": [
        "### Índice\n",
        "\n",
        "**Cuaderno 1**\n",
        "\n",
        "[Python básico: Variables, Operadores y Strings](IntroPython_01.ipynb)\n",
        "\n",
        "**Cuaderno 2**\n",
        "\n",
        "[Python básico: Control de Flujo](IntroPython_02.ipynb)\n",
        "\n",
        "**Cuaderno 3**\n",
        "\n",
        "[Práctica con Numpy](IntroPython_03.ipynb)\n",
        "\n",
        "**Cuaderno 4**\n",
        "\n",
        "[Práctica con Pandas](IntroPython_04.ipynb)\n",
        "\n",
        "**Cuaderno 5**\n",
        "\n",
        "[Práctica con Matplotlib](IntroPython_05.ipynb)\n",
        "\n",
        "**Cuaderno 6**\n",
        "\n",
        "[Práctica con Seaborn](IntroPython_06.ipynb)\n",
        "\n",
        "**Cuaderno 7**\n",
        "\n",
        "[Complejidad de los datos](IntroPython_07.ipynb)\n",
        "\n",
        "**Cuaderno 8**\n",
        "\n",
        "[Pronósticos a escala con Prophet](IntroPython_08.ipynb)\n",
        "\n",
        "**Cuaderno 9**\n",
        "\n",
        "[Python básico: listas, tuplas, diccionarios y conjuntos](IntroPython_09.ipynb)\n",
        "\n",
        "**Cuaderno 10**\n",
        "\n",
        "[Práctica de JSON](IntroPython_10.ipynb)\n",
        "\n",
        "**Cuaderno 11**\n",
        "\n",
        "[Práctica de regresión lineal](IntroPython_11.ipynb)\n",
        "\n",
        "**Cuaderno 12**\n",
        "\n",
        "[Práctica de limpieza de textos y nubes de palabras](IntroPython_12.ipynb)\n",
        "\n",
        "**Tips and tricks**\n",
        "\n",
        "[Trucos y recomendaciones](TipsAndTricks.ipynb)"
      ]
    }
  ],
  "metadata": {
    "colab": {
      "provenance": []
    },
    "kernelspec": {
      "display_name": "Python 3",
      "name": "python3"
    },
    "language_info": {
      "name": "python"
    }
  },
  "nbformat": 4,
  "nbformat_minor": 0
}
