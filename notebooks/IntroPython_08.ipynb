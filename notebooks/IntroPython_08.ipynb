{
  "cells": [
    {
      "cell_type": "markdown",
      "metadata": {
        "id": "JG7cD23p6ir5"
      },
      "source": [
        "\n",
        "# Pronósticos a escala\n",
        "\n",
        "En esta sesión analizaremos la biblioteca **Prophet**.\n",
        "\n",
        "`Prophet` es un procedimiento de pronóstico de datos de series temporales basado en un modelo aditivo en el que las tendencias no lineales se ajustan con estacionalidad anual, semanal y diaria, además de efectos de vacaciones. Funciona mejor con series temporales que tienen fuertes efectos estacionales y varias temporadas de datos históricos. Prophet es robusto a los datos que faltan y a los cambios en la tendencia, y normalmente maneja bien los valores atípicos.\n",
        "\n",
        "La documentación de la biblioteca puede consultarse [aquí](https://facebook.github.io/prophet/)."
      ]
    },
    {
      "cell_type": "markdown",
      "metadata": {
        "id": "KWQkaOT_GIIo"
      },
      "source": [
        "### Instalación\n",
        "\n",
        "Prophet está en PyPI, por lo que podemos usar pip para instalarlo."
      ]
    },
    {
      "cell_type": "code",
      "execution_count": null,
      "metadata": {
        "colab": {
          "base_uri": "https://localhost:8080/"
        },
        "id": "r9y32uLR6dpy",
        "outputId": "29c2d656-251f-4f0c-a193-baa0534eb7c9"
      },
      "outputs": [],
      "source": [
        "!pip install prophet"
      ]
    },
    {
      "cell_type": "markdown",
      "metadata": {
        "id": "zW-GoISUHjbR"
      },
      "source": [
        "1. A partir de la v0.6, Python 2 ya no está soportado.\n",
        "2. A partir de la v1.0, el nombre del paquete en PyPI es \"prophet\"; antes de la v1.0 era \"fbprophet\".\n",
        "3. A partir de la v1.1, la versión mínima de Python soportada es 3.7."
      ]
    },
    {
      "cell_type": "markdown",
      "metadata": {
        "id": "9FdwEu6mCf-f"
      },
      "source": [
        "La entrada a Prophet es siempre un marco de datos con dos columnas: ds e y. La columna ds (datestamp) debe tener el formato esperado por Pandas, idealmente YYYY-MM-DD para una fecha o YYYY-MM-DD HH:MM:SS para una marca de tiempo. La columna y debe ser numérica, y representa la medida que deseamos pronosticar.\n",
        "\n",
        "Como ejemplo, veamos una serie temporal del registro diario de páginas vistas de la página de Peyton Manning en Wikipedia. Peyton Manning es un buen ejemplo porque ilustra algunas de las características de Prophet, como la estacionalidad múltiple, las tasas de crecimiento cambiantes y la capacidad de modelar días especiales (como las apariciones de Manning en los playoffs y en la Superbowl). El CSV está disponible [aquí](https://github.com/facebook/prophet/blob/main/examples/example_wp_log_peyton_manning.csv).\n",
        "\n",
        "Importamos los datos:"
      ]
    },
    {
      "cell_type": "code",
      "execution_count": null,
      "metadata": {
        "id": "JK-LXPvW-QgB"
      },
      "outputs": [],
      "source": [
        "# Python\n",
        "import pandas as pd\n",
        "from prophet import Prophet"
      ]
    },
    {
      "cell_type": "code",
      "execution_count": null,
      "metadata": {
        "colab": {
          "base_uri": "https://localhost:8080/",
          "height": 206
        },
        "id": "hhR_UR4P-UNA",
        "outputId": "c5aecebb-3dcc-4a59-8f5d-3c7e1e10e078"
      },
      "outputs": [],
      "source": [
        "# Python\n",
        "df = pd.read_csv('https://raw.githubusercontent.com/facebook/prophet/main/examples/example_wp_log_peyton_manning.csv')\n",
        "df.head()"
      ]
    },
    {
      "cell_type": "markdown",
      "metadata": {
        "id": "oouDPkoOsRRb"
      },
      "source": [
        "Para ajustar el modelo, instanciamos un nuevo objeto `Prophet`. Cualquier configuración del procedimiento de pronóstico se pasa al constructor. A continuación, se llama al método de ajuste (`fit`) y se le pasa el conjunto de datos histórico. El ajuste debería tardar entre 1 y 5 segundos."
      ]
    },
    {
      "cell_type": "code",
      "execution_count": null,
      "metadata": {
        "colab": {
          "base_uri": "https://localhost:8080/"
        },
        "id": "UV0ktEMts3E2",
        "outputId": "078daf48-d4d2-41a8-ee0e-e8dd8235c18c"
      },
      "outputs": [],
      "source": [
        "# Python\n",
        "m = Prophet()\n",
        "m.fit(df)"
      ]
    },
    {
      "cell_type": "markdown",
      "metadata": {
        "id": "3LKN7gwNtWoD"
      },
      "source": [
        "Las predicciones se realizan en un marco de datos con una columna ds que contiene las fechas para las que se va a realizar una predicción. Puede obtener un marco de datos adecuado que se extienda hacia el futuro un número especificado de días utilizando el método de ayuda Prophet.make_future_dataframe. Por defecto también incluirá las fechas del histórico, por lo que también veremos el ajuste del modelo."
      ]
    },
    {
      "cell_type": "code",
      "execution_count": null,
      "metadata": {
        "colab": {
          "base_uri": "https://localhost:8080/",
          "height": 206
        },
        "id": "H6KI5w4EtjW6",
        "outputId": "46ee41e0-2f14-4796-f050-39ec4bff56dc"
      },
      "outputs": [],
      "source": [
        "# Python\n",
        "future = m.make_future_dataframe(periods=365)\n",
        "future.tail()"
      ]
    },
    {
      "cell_type": "markdown",
      "metadata": {
        "id": "D46epijDtwT8"
      },
      "source": [
        "El método predecir asignará a cada fila en el futuro un valor predicho que denomina yhat. Si se le pasan fechas históricas, proporcionará un ajuste dentro de la muestra. El objeto de predicción aquí es un nuevo marco de datos que incluye una columna yhat con la predicción, así como columnas para componentes e intervalos de incertidumbre."
      ]
    },
    {
      "cell_type": "code",
      "execution_count": null,
      "metadata": {
        "colab": {
          "base_uri": "https://localhost:8080/",
          "height": 206
        },
        "id": "hS5bXnR_t5XZ",
        "outputId": "6a18b8f4-ad72-4b58-cde9-98edd03a62e9"
      },
      "outputs": [],
      "source": [
        "# Python\n",
        "forecast = m.predict(future)\n",
        "forecast[['ds', 'yhat', 'yhat_lower', 'yhat_upper']].tail()"
      ]
    },
    {
      "cell_type": "markdown",
      "metadata": {
        "id": "hWAPTXrRveaW"
      },
      "source": [
        "Puede trazar la previsión llamando al método Prophet.plot e introduciendo el marco de datos de la previsión."
      ]
    },
    {
      "cell_type": "code",
      "execution_count": null,
      "metadata": {
        "colab": {
          "base_uri": "https://localhost:8080/",
          "height": 607
        },
        "id": "S2MsddvJvil1",
        "outputId": "388da7f9-c2d0-40f4-cf98-b9ab2393f3f0"
      },
      "outputs": [],
      "source": [
        "# Python\n",
        "fig1 = m.plot(forecast)"
      ]
    },
    {
      "cell_type": "markdown",
      "metadata": {
        "id": "pLLNO9e3v-Xh"
      },
      "source": [
        "Si desea ver los componentes del pronóstico, puede utilizar el método Prophet.plot_components. Por defecto, verá la tendencia, la estacionalidad anual y la estacionalidad semanal de la serie temporal. Si incluye días festivos, también los verá aquí."
      ]
    },
    {
      "cell_type": "code",
      "execution_count": null,
      "metadata": {
        "colab": {
          "base_uri": "https://localhost:8080/",
          "height": 907
        },
        "id": "HidnB_AGwJF_",
        "outputId": "61a68a3b-f8af-4886-ffed-ba516199d785"
      },
      "outputs": [],
      "source": [
        "# Python\n",
        "fig2 = m.plot_components(forecast)"
      ]
    },
    {
      "cell_type": "markdown",
      "metadata": {
        "id": "mRLMDbQsw0WG"
      },
      "source": [
        "Se puede crear una figura interactiva del pronóstico y los componentes con plotly. Tendrá que instalar plotly 4.0 o superior por separado, ya que no se instalará por defecto con prophet. También tendrá que instalar los paquetes notebook e ipywidgets. Colab ya lo incluye por defecto."
      ]
    },
    {
      "cell_type": "code",
      "execution_count": null,
      "metadata": {
        "colab": {
          "base_uri": "https://localhost:8080/",
          "height": 617
        },
        "id": "Hhevn-PxwcBl",
        "outputId": "01f5e3e9-57cf-4c1b-ab46-31e1fb122022"
      },
      "outputs": [],
      "source": [
        "# Python\n",
        "from prophet.plot import plot_plotly, plot_components_plotly\n",
        "\n",
        "plot_plotly(m, forecast)"
      ]
    },
    {
      "cell_type": "code",
      "execution_count": null,
      "metadata": {
        "colab": {
          "base_uri": "https://localhost:8080/",
          "height": 617
        },
        "id": "ep0bxWHUwnSj",
        "outputId": "ab0f27b2-723a-4e9f-ef37-15fac05dc77f"
      },
      "outputs": [],
      "source": [
        "# Python\n",
        "plot_components_plotly(m, forecast)"
      ]
    }
  ],
  "metadata": {
    "colab": {
      "provenance": []
    },
    "kernelspec": {
      "display_name": "Python 3",
      "name": "python3"
    },
    "language_info": {
      "name": "python"
    }
  },
  "nbformat": 4,
  "nbformat_minor": 0
}
