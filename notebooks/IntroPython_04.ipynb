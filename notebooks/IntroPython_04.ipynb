{
  "cells": [
    {
      "cell_type": "markdown",
      "metadata": {
        "id": "g00kjNUI1mT3"
      },
      "source": [
        "## Práctica con la biblioteca Pandas"
      ]
    },
    {
      "cell_type": "code",
      "execution_count": null,
      "metadata": {
        "id": "F1gbWIKf1gcv"
      },
      "outputs": [],
      "source": [
        "import pandas as pd"
      ]
    },
    {
      "cell_type": "code",
      "execution_count": null,
      "metadata": {
        "id": "F0-egQdU2Kwe"
      },
      "outputs": [],
      "source": [
        "df_titanic = pd.read_csv('titanic.csv')"
      ]
    },
    {
      "cell_type": "code",
      "execution_count": null,
      "metadata": {
        "colab": {
          "base_uri": "https://localhost:8080/",
          "height": 503
        },
        "id": "d0EUpS3v2Tu1",
        "outputId": "8abbf3b5-1c51-4b3b-f8d2-9f5388b5ae6b"
      },
      "outputs": [],
      "source": [
        "df_titanic.head()"
      ]
    },
    {
      "cell_type": "code",
      "execution_count": null,
      "metadata": {
        "id": "2Rixv1293D5u"
      },
      "outputs": [],
      "source": [
        "df_nombre_sexo_edad = df_titanic[[\"Name\",\"Sex\",\"Age\"]]"
      ]
    },
    {
      "cell_type": "code",
      "execution_count": null,
      "metadata": {
        "colab": {
          "base_uri": "https://localhost:8080/",
          "height": 2256
        },
        "id": "L3Onjcd03XT9",
        "outputId": "bc12b726-feb4-469d-d4e3-f2c13a7c3c17"
      },
      "outputs": [],
      "source": [
        "df_nombre_sexo_edad.head(100)"
      ]
    },
    {
      "cell_type": "code",
      "execution_count": null,
      "metadata": {
        "colab": {
          "base_uri": "https://localhost:8080/"
        },
        "id": "xdKhvOlf4M5m",
        "outputId": "3d680d75-81b2-4684-bc6c-59174d762647"
      },
      "outputs": [],
      "source": [
        "print(df_nombre_sexo_edad.Name[1])"
      ]
    },
    {
      "cell_type": "code",
      "execution_count": null,
      "metadata": {
        "colab": {
          "base_uri": "https://localhost:8080/"
        },
        "id": "p0Z5PclB3hsW",
        "outputId": "415a996f-39eb-4045-f2f9-85c4269616bf"
      },
      "outputs": [],
      "source": [
        "df_nombre_sexo_edad.shape"
      ]
    },
    {
      "cell_type": "code",
      "execution_count": null,
      "metadata": {
        "id": "L39C5Z-83mAV"
      },
      "outputs": [],
      "source": [
        "df_nombre_sexo_edad = df_nombre_sexo_edad.dropna()"
      ]
    },
    {
      "cell_type": "code",
      "execution_count": null,
      "metadata": {
        "colab": {
          "base_uri": "https://localhost:8080/"
        },
        "id": "inOj05us3t8O",
        "outputId": "145ba7cb-6e96-469f-943a-3d7995bcd71e"
      },
      "outputs": [],
      "source": [
        "df_nombre_sexo_edad.shape"
      ]
    },
    {
      "cell_type": "code",
      "execution_count": null,
      "metadata": {
        "id": "w2PaA_Fw5Iam"
      },
      "outputs": [],
      "source": [
        "menores_de_10 = df_nombre_sexo_edad[df_nombre_sexo_edad[\"Age\"] < 10]"
      ]
    },
    {
      "cell_type": "code",
      "execution_count": null,
      "metadata": {
        "colab": {
          "base_uri": "https://localhost:8080/",
          "height": 676
        },
        "id": "7qcKsUkJ5kot",
        "outputId": "7fdc9981-9360-462c-813a-e1f4706c7a30"
      },
      "outputs": [],
      "source": [
        "menores_de_10.head(20)"
      ]
    },
    {
      "cell_type": "markdown",
      "metadata": {
        "id": "40On7KH_5-y5"
      },
      "source": [
        "### Determinar sobrevivientes por Clase"
      ]
    },
    {
      "cell_type": "code",
      "execution_count": null,
      "metadata": {
        "colab": {
          "base_uri": "https://localhost:8080/"
        },
        "id": "VBvNIuiA59_G",
        "outputId": "13e5d855-12c6-48bc-c7bc-054402a4e43f"
      },
      "outputs": [],
      "source": [
        "#Obtenemos el conjunto de datos de pasajeros en primera clase\n",
        "primera_clase = df_titanic[df_titanic[\"Pclass\"] == 1]\n",
        "\n",
        "primera_clase.shape\n",
        "total_primera_clase = primera_clase.shape[0]\n",
        "print(total_primera_clase)\n",
        "primera_clase_vivos = primera_clase[primera_clase[\"Survived\"] > 0]\n",
        "primera_clase_vivos.shape\n",
        "total_primera_clase_vivos = primera_clase_vivos.shape[0]\n",
        "print(total_primera_clase_vivos)\n",
        "print(f\"De {total_primera_clase} pasajeros en primera clase, sobrevivieron {total_primera_clase_vivos} \\\n",
        "que representan el {round(total_primera_clase_vivos/total_primera_clase*100,2)}%\")"
      ]
    },
    {
      "cell_type": "code",
      "execution_count": null,
      "metadata": {
        "colab": {
          "base_uri": "https://localhost:8080/"
        },
        "id": "_F7erVmo8YnG",
        "outputId": "62664dca-784a-44d1-8d78-21aa24225b75"
      },
      "outputs": [],
      "source": [
        "#Obtenemos el conjunto de datos de pasajeros en tercera clase\n",
        "tercera_clase = df_titanic[df_titanic[\"Pclass\"] == 3]\n",
        "\n",
        "tercera_clase.shape\n",
        "total_tercera_clase = tercera_clase.shape[0]\n",
        "print(total_tercera_clase)\n",
        "tercera_clase_vivos = tercera_clase[tercera_clase[\"Survived\"] > 0]\n",
        "tercera_clase_vivos.shape\n",
        "total_tercera_clase_vivos = tercera_clase_vivos.shape[0]\n",
        "print(total_tercera_clase_vivos)\n",
        "print(f\"De {total_tercera_clase} pasajeros en tercera clase, sobrevivieron {total_tercera_clase_vivos} \\\n",
        "que representan el {round(total_tercera_clase_vivos/total_tercera_clase*100,2)}%\")"
      ]
    },
    {
      "cell_type": "code",
      "execution_count": null,
      "metadata": {
        "id": "ljdOEPu29ZSv"
      },
      "outputs": [],
      "source": [
        "import matplotlib.pyplot as plt\n",
        "import seaborn as sns"
      ]
    },
    {
      "cell_type": "code",
      "execution_count": null,
      "metadata": {
        "colab": {
          "base_uri": "https://localhost:8080/",
          "height": 466
        },
        "id": "Ive0hcYy9o2d",
        "outputId": "95156396-4770-4d27-e8e4-ad02ddb44c32"
      },
      "outputs": [],
      "source": [
        "sns.scatterplot(x=df_titanic[\"Pclass\"], y=df_titanic[\"Age\"], hue = df_titanic[\"Survived\"])"
      ]
    },
    {
      "cell_type": "code",
      "execution_count": null,
      "metadata": {
        "colab": {
          "base_uri": "https://localhost:8080/"
        },
        "id": "Q9A0XrVC_oUW",
        "outputId": "450fe639-46ef-4c32-aacd-eb2dd1ca84c0"
      },
      "outputs": [],
      "source": [
        "!pip install qrcode"
      ]
    },
    {
      "cell_type": "code",
      "execution_count": null,
      "metadata": {
        "id": "ZwNvHsF5_94F"
      },
      "outputs": [],
      "source": [
        "import qrcode"
      ]
    },
    {
      "cell_type": "code",
      "execution_count": null,
      "metadata": {
        "id": "2xLaJGPSABXN"
      },
      "outputs": [],
      "source": [
        "vinculo = \"https://www.kaggle.com/learn/pandas\"\n",
        "imagen = qrcode.make(vinculo)\n",
        "imagen.save(\"codigo.png\")"
      ]
    }
  ],
  "metadata": {
    "colab": {
      "provenance": []
    },
    "kernelspec": {
      "display_name": "Python 3",
      "name": "python3"
    },
    "language_info": {
      "name": "python"
    }
  },
  "nbformat": 4,
  "nbformat_minor": 0
}
