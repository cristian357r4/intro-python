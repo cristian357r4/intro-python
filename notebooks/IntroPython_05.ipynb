{
  "cells": [
    {
      "cell_type": "markdown",
      "metadata": {
        "id": "Dx4kC7oEIXgk"
      },
      "source": [
        "<h3>Matplotlib - Pyplot</h3>\n",
        "\n",
        "### Introducción\n",
        "\n",
        "En esta sesión analizaremos la biblioteca de visualización: Matplotlib. Revisaremos específicamente la interfase **Pyplot** para la generación de gráficas de líneas.\n",
        "\n",
        "Según su documentación `matplotlib.pyplot` es una colección de funciones que hacen que matplotlib funcione como MATLAB. Cada función de pyplot realiza algún cambio en una figura: por ejemplo, crear una figura, crear un área de trazado en una figura, trazar algunas líneas en un área de trazado, decorar el trazado con etiquetas, etc.\n",
        "\n",
        "La documentación de la biblioteca puede consultarse [aquí](https://matplotlib.org/)."
      ]
    },
    {
      "cell_type": "code",
      "execution_count": null,
      "metadata": {
        "id": "kFZ6Rcq2IUGJ"
      },
      "outputs": [],
      "source": [
        "#Importamos la biblioteca\n",
        "from matplotlib import pyplot as plt\n",
        "#import matplotlib.pyplot as plt\n",
        "import numpy as np"
      ]
    },
    {
      "cell_type": "markdown",
      "metadata": {
        "id": "bQudXtfMIxz8"
      },
      "source": [
        "Iniciaremos con una gráfica sencilla donde graficaremos los gastos de un estudiante en la cafetería durante la semana pasada."
      ]
    },
    {
      "cell_type": "code",
      "execution_count": null,
      "metadata": {
        "colab": {
          "base_uri": "https://localhost:8080/",
          "height": 430
        },
        "id": "DsfePGYTIyN6",
        "outputId": "97e565c8-0dac-4951-89c5-d2d4ea3b7857"
      },
      "outputs": [],
      "source": [
        "#Paso 1. Ejecutar la celda con el código original\n",
        "#Paso 2. Modificar la lista de dias para colocar los nombres en lugar de números\n",
        "dias = [1,2,3,4,5,6,7]\n",
        "dinero_gastado = [70,100,90,80,70,120,74]\n",
        "plt.plot(dias, dinero_gastado)\n",
        "plt.show()"
      ]
    },
    {
      "cell_type": "markdown",
      "metadata": {
        "id": "fUXXl87jJg6w"
      },
      "source": [
        "También podemos tener múltiples gráficos de líneas mostrados en el mismo conjunto de ejes. Esto puede ser muy útil si queremos comparar dos conjuntos de datos con la misma escala y categorías de ejes.\n",
        "\n",
        "Matplotlib colocará automáticamente las dos líneas en los mismos ejes y les dará diferentes colores si llama a `plt.plot()` dos veces.\n",
        "\n",
        "Imaginemos que tenemos los datos de dos estudiantes:"
      ]
    },
    {
      "cell_type": "code",
      "execution_count": null,
      "metadata": {
        "colab": {
          "base_uri": "https://localhost:8080/",
          "height": 430
        },
        "id": "Ozyr_fabKNEh",
        "outputId": "9ddb0ee0-e60d-4d01-efa8-62c1f8924891"
      },
      "outputs": [],
      "source": [
        "#Paso 1. Ejecutar la celda original\n",
        "#Paso 2. Agregar código para mostrar leyendas que indiquen a que se refiere cada línea\n",
        "from matplotlib import pyplot as plt\n",
        "dias = [1,2,3,4,5,6,7]\n",
        "dinero_gastado = [70,100,90,80,70,120,74]\n",
        "dinero_gastado_2 = [60,90,80,70,65,100,68]\n",
        "plt.plot(dias, dinero_gastado)\n",
        "plt.plot(dias, dinero_gastado_2)\n",
        "plt.show()"
      ]
    },
    {
      "cell_type": "markdown",
      "metadata": {
        "id": "h7ZEHcCagz-1"
      },
      "source": [
        "Podemos graficar los valores de una función si tenemos los valores para el eje x y el eje y."
      ]
    },
    {
      "cell_type": "code",
      "execution_count": null,
      "metadata": {
        "colab": {
          "base_uri": "https://localhost:8080/",
          "height": 656
        },
        "id": "NhV8Sb3igdCW",
        "outputId": "5b8bc4f9-ae59-4218-afa7-6b9288c8cc78"
      },
      "outputs": [],
      "source": [
        "#Graficar la función seno para los ángulos de 0 a 360, en incrementos de 10 en 10. usar np.sin, np.arange y el concepto de radianes.\n"
      ]
    },
    {
      "cell_type": "markdown",
      "metadata": {
        "id": "4jyXx3-vZ6nX"
      },
      "source": [
        "### Estilos de línea y colores\n",
        "Podemos especificar un color diferente para cada línea utilizando la palabra reservada `color` con código hexadecimal o un nombre de color válido en HTML."
      ]
    },
    {
      "cell_type": "code",
      "execution_count": null,
      "metadata": {
        "colab": {
          "base_uri": "https://localhost:8080/",
          "height": 265
        },
        "id": "elcKgITmZ-JA",
        "outputId": "38ad3b73-1150-4486-9cc3-fd64dca66044"
      },
      "outputs": [],
      "source": [
        "#Revisar colores en formato RGB en w3Schools\n",
        "from matplotlib import pyplot as plt\n",
        "dias = [1,2,3,4,5,6,7]\n",
        "dinero_gastado = [70,100,90,80,70,120,74]\n",
        "dinero_gastado_2 = [60,90,80,70,65,100,68]\n",
        "plt.plot(dias, dinero_gastado, color = 'black')\n",
        "plt.plot(dias, dinero_gastado_2, color = '#00FF00')\n",
        "plt.show()"
      ]
    },
    {
      "cell_type": "markdown",
      "metadata": {
        "id": "9PD0v6RyqfeD"
      },
      "source": [
        "También podemos hacer una línea punteada o discontinua utilizando la palabra clave `linestyle`.\n",
        "\n",
        "**Tipos o trazados de líneas comunes en Matplotlib:** \\\n",
        "‘ - ‘ línea sólida\n",
        "\n",
        "‘ -. ‘ línea con puntos y rayas\n",
        "\n",
        "‘ --‘ línea a rayas\n",
        "\n",
        "‘ : ‘ línea punteada"
      ]
    },
    {
      "cell_type": "code",
      "execution_count": null,
      "metadata": {
        "colab": {
          "base_uri": "https://localhost:8080/",
          "height": 265
        },
        "id": "kEXSLkd_qnIQ",
        "outputId": "1cf631fe-0f65-4c83-8015-b2c1c62f8309"
      },
      "outputs": [],
      "source": [
        "from matplotlib import pyplot as plt\n",
        "dias = [1,2,3,4,5,6,7]\n",
        "dinero_gastado = [70,100,90,80,70,120,74]\n",
        "dinero_gastado_2 = [60,90,80,70,65,100,68]\n",
        "dinero_gastado_3 = [90,90,80,90,95,110,98]\n",
        "#discontinua\n",
        "plt.plot(dias, dinero_gastado, color = 'red', linestyle='--')\n",
        "#punteada\n",
        "plt.plot(dias, dinero_gastado_2, color = '#00FF00', linestyle=':')\n",
        "#línea continua, si se deja vacío no dibujará la línea\n",
        "plt.plot(dias, dinero_gastado_3, color = '#0000FF', linestyle='-')\n",
        "plt.show()"
      ]
    },
    {
      "cell_type": "markdown",
      "metadata": {
        "id": "kOjCsR3gr8c6"
      },
      "source": [
        "También podemos añadir un marcador utilizando la palabra clave `marker`:"
      ]
    },
    {
      "cell_type": "code",
      "execution_count": null,
      "metadata": {
        "colab": {
          "base_uri": "https://localhost:8080/",
          "height": 430
        },
        "id": "19vmq375r-T7",
        "outputId": "d9fcf75e-0f42-44aa-8c79-ff30cc9c3714"
      },
      "outputs": [],
      "source": [
        "from matplotlib import pyplot as plt\n",
        "dias = [1,2,3,4,5,6,7]\n",
        "dinero_gastado = [70,100,90,80,70,120,74]\n",
        "dinero_gastado_2 = [60,90,80,70,65,100,68]\n",
        "dinero_gastado_3 = [90,90,80,90,95,110,98]\n",
        "dinero_gastado_4 = [25,55,65,85,73,105,93]\n",
        "#Un circulo\n",
        "plt.plot(dias, dinero_gastado, color = 'red', linestyle='--', marker='o')\n",
        "#un cuadrado\n",
        "plt.plot(dias, dinero_gastado_2, color = '#00FF00', linestyle=':', marker='s')\n",
        "#Una estrella\n",
        "plt.plot(dias, dinero_gastado_3, color = '#0000FF', linestyle='-', marker='*')\n",
        "#Una triángulo\n",
        "plt.plot(dias, dinero_gastado_4, color = 'black', linestyle='-', marker='^')\n",
        "plt.show()"
      ]
    },
    {
      "cell_type": "markdown",
      "metadata": {
        "id": "CX4BRqZK2AAR"
      },
      "source": [
        "### Ejes y etiquetas\n",
        "\n",
        "A veces, puede ser útil acercar o alejar el gráfico, especialmente si hay algún detalle que queremos tratar. Para hacer zoom, podemos utilizar `plt.axis()`. Usamos `plt.axis()` introduciendo una lista como entrada. Esta lista debe contener:\n",
        "\n",
        "1. El valor x mínimo mostrado\n",
        "1. El valor x máximo mostrado\n",
        "1. El valor mínimo de y mostrado\n",
        "1. El valor máximo de y mostrado\n",
        "\n",
        "Por ejemplo, si queremos mostrar un gráfico de x=3 a x=6 y de y=15 a y=40, llamaríamos a `plt.axis([3, 6, 15, 40])`."
      ]
    },
    {
      "cell_type": "code",
      "execution_count": null,
      "metadata": {
        "colab": {
          "base_uri": "https://localhost:8080/",
          "height": 430
        },
        "id": "q0y1fj8iZOZX",
        "outputId": "8be390ba-391a-4518-924e-26da143d365a"
      },
      "outputs": [],
      "source": [
        "#Gráfico original\n",
        "from matplotlib import pyplot as plt\n",
        "x = [0, 1, 2, 3, 4, 5, 6]\n",
        "y = [0, 1, 4, 9, 16, 25, 36]\n",
        "plt.plot(x, y)\n",
        "plt.show()"
      ]
    },
    {
      "cell_type": "code",
      "execution_count": null,
      "metadata": {
        "colab": {
          "base_uri": "https://localhost:8080/",
          "height": 269
        },
        "id": "CJLm4mQ52aGI",
        "outputId": "ad634bfe-8b43-43c7-da34-632acad337fc"
      },
      "outputs": [],
      "source": [
        "#Gráfico con zoom\n",
        "from matplotlib import pyplot as plt\n",
        "x = [0, 1, 2, 3, 4, 5, 6]\n",
        "y = [0, 1, 4, 9, 16, 25, 36]\n",
        "plt.plot(x, y)\n",
        "plt.axis([3, 6, 15, 40])\n",
        "plt.show()"
      ]
    },
    {
      "cell_type": "markdown",
      "metadata": {},
      "source": [
        "Hacerle zoom a los datos de miércoles a viernes en los gastos de los estudiantes."
      ]
    },
    {
      "cell_type": "code",
      "execution_count": null,
      "metadata": {
        "colab": {
          "base_uri": "https://localhost:8080/",
          "height": 265
        },
        "id": "t8S95aZiL0ip",
        "outputId": "45787dd3-1127-4ba4-ac2c-26f0fc816473"
      },
      "outputs": [],
      "source": [
        "from matplotlib import pyplot as plt\n",
        "dias = [1,2,3,4,5,6,7]\n",
        "dinero_gastado = [70,100,90,80,70,120,74]\n",
        "dinero_gastado_2 = [60,90,80,70,65,100,68]\n",
        "dinero_gastado_3 = [90,90,80,90,95,110,98]\n",
        "dinero_gastado_4 = [25,55,65,85,73,105,93]\n",
        "#Un circulo\n",
        "plt.plot(dias, dinero_gastado, color = 'red', linestyle='--', marker='o')\n",
        "#un cuadrado\n",
        "plt.plot(dias, dinero_gastado_2, color = '#00FF00', linestyle=':', marker='s')\n",
        "#Una estrella\n",
        "plt.plot(dias, dinero_gastado_3, color = '#0000FF', linestyle='-', marker='*')\n",
        "#Una triángulo\n",
        "plt.plot(dias, dinero_gastado_4, color = 'black', linestyle='-', marker='^')\n",
        "\n",
        "#Agregar código en esta línea\n",
        "plt.show()"
      ]
    },
    {
      "cell_type": "markdown",
      "metadata": {
        "id": "IlfozvDX49wz"
      },
      "source": [
        "### Etiquetado de los ejes\n",
        "\n",
        "Eventualmente, buscaremos mostrar estos gráficos a otras personas para convencerlas de las tendencias importantes en nuestros datos. Cuando lo hagamos, desearemos que nuestros gráficos tengan un aspecto lo más profesional posible.\n",
        "\n",
        "El primer paso para conseguir un gráfico de aspecto profesional es añadir etiquetas al eje x y al eje y, y dar un título al gráfico.\n",
        "\n",
        "Podemos etiquetar los ejes x y y utilizando `plt.xlabel()` y `plt.ylabel()`. El título del gráfico puede establecerse con `plt.title()`."
      ]
    },
    {
      "cell_type": "code",
      "execution_count": null,
      "metadata": {
        "colab": {
          "base_uri": "https://localhost:8080/",
          "height": 295
        },
        "id": "HelPB6_r5M1w",
        "outputId": "a352d695-a8c2-48a8-f9cc-f209e46ac435"
      },
      "outputs": [],
      "source": [
        "from matplotlib import pyplot as plt\n",
        "dias = [0,1,2,3,4,5,6]\n",
        "dinero_gastado = [70,100,90,80,70,120,74]\n",
        "dinero_gastado_2 = [60,90,80,70,65,100,68]\n",
        "dinero_gastado_3 = [90,90,80,90,95,110,98]\n",
        "#Un circulo\n",
        "plt.plot(dias, dinero_gastado, color = 'red', linestyle='--', marker='o')\n",
        "#un cuadrado\n",
        "plt.plot(dias, dinero_gastado_2, color = '#00FF00', linestyle=':', marker='s')\n",
        "#Una estrella\n",
        "plt.plot(dias, dinero_gastado_3, color = '#0000FF', linestyle='-', marker='*')\n",
        "plt.xlabel(\"Día\")\n",
        "plt.ylabel(\"Dinero gastado\")\n",
        "plt.title(\"Reporte de gastos\")\n",
        "plt.show()"
      ]
    },
    {
      "cell_type": "markdown",
      "metadata": {
        "id": "DmmuqNWIY8ab"
      },
      "source": [
        "### Subgráficos (Subplots)\n",
        "\n",
        "A veces, queremos mostrar dos líneas una al lado de la otra, en lugar de en el mismo conjunto de ejes x y y. Cuando tenemos varios ejes en la misma imagen, llamamos a cada conjunto de ejes una subgráfica (subplot). La imagen u objeto que contiene todas las subgráficas se llama figura.\n",
        "\n",
        "Podemos tener muchas subgráficas diferentes en la misma figura, y podemos disponerlas de muchas maneras diferentes. Podemos pensar que nuestros diseños tienen filas y columnas de subgráficas.\n",
        "\n",
        "Podemos crear subgráficas (subplots) utilizando `.subplot()`.\n",
        "\n",
        "El comando `plt.subplot()` necesita que se le pasen tres argumentos:\n",
        "\n",
        "- El número de filas de los subplots\n",
        "- El número de columnas de los subplots\n",
        "- El índice del subplot que queremos crear\n",
        "\n",
        "`plt.subplot(filas, columnas, índice_de_subgráfica)`"
      ]
    },
    {
      "cell_type": "code",
      "execution_count": null,
      "metadata": {
        "colab": {
          "base_uri": "https://localhost:8080/",
          "height": 281
        },
        "id": "YeLMm9CkZSma",
        "outputId": "2667982b-d3fa-4afb-eeea-7e9868a28aed"
      },
      "outputs": [],
      "source": [
        "from matplotlib import pyplot as plt\n",
        "# Conjuntos de datos\n",
        "meses = range(12)\n",
        "temperaturas = [27,25,33,34,35,37,38,40,35,29,27,26]\n",
        "nacimientos = [1300, 1100, 1400, 1350, 950, 850, 600, 750, 900, 1060, 970, 1400]\n",
        "# Primera subgráfica (Subplot)\n",
        "plt.subplot(1, 2, 1)\n",
        "plt.plot(meses, temperaturas, color='green')\n",
        "plt.title('Temperaturas')\n",
        "\n",
        "# Segunda subgráfica (Subplot)\n",
        "plt.subplot(1, 2, 2)\n",
        "plt.plot(meses, nacimientos, color='steelblue')\n",
        "plt.title('Nacimientos')\n",
        "\n",
        "# Desplegar ambas sugráficas\n",
        "plt.show()"
      ]
    },
    {
      "cell_type": "markdown",
      "metadata": {
        "id": "8n_l69ckl_BI"
      },
      "source": [
        "A veces, cuando juntamos varias subgráficas, algunos elementos pueden superponerse y hacer que la figura sea ilegible. Como la escala del `eje y` de la figura previa.\n",
        "\n",
        "Podemos personalizar el espacio entre nuestras subgráficas (subplots) para asegurarnos de que la figura que creamos es visible y fácil de entender. Para ello, utilizamos el comando `plt.subplots_adjust()`. Este comando tiene algunos argumentos de palabra clave que pueden mover sus gráficos dentro de la figura:\n",
        "\n",
        "`left` - el margen del lado izquierdo, con un valor por defecto de 0.125. Puede aumentar este número para hacer espacio para una etiqueta del eje Y\n",
        "\n",
        "`right` - el margen del lado derecho, con un valor por defecto de 0.9. Puede aumentar este número para hacer más espacio para la figura, o disminuirlo para hacer espacio para una leyenda\n",
        "\n",
        "`bottom` - el margen inferior, con un valor por defecto de 0.1. Puede aumentarlo para dejar espacio para las etiquetas de las marcas de graduación o la etiqueta del eje x.\n",
        "\n",
        "`top` - el margen superior, con un valor por defecto de 0.9\n",
        "\n",
        "`wspace` - el espacio horizontal entre subplots adyacentes, con un valor por defecto de 0.2\n",
        "\n",
        "`hspace` - el espacio vertical entre subplots adyacentes, con un valor por defecto de 0.2"
      ]
    },
    {
      "cell_type": "code",
      "execution_count": null,
      "metadata": {
        "colab": {
          "base_uri": "https://localhost:8080/",
          "height": 281
        },
        "id": "rYPABEdtl-fz",
        "outputId": "e1ef81ea-cfc6-4a98-f688-9e4d30bb0b3d"
      },
      "outputs": [],
      "source": [
        "from matplotlib import pyplot as plt\n",
        "# Conjuntos de datos\n",
        "meses = range(12)\n",
        "temperaturas = [27,25,33,34,35,37,38,40,35,29,27,26]\n",
        "nacimientos = [1300, 1100, 1400, 1350, 950, 850, 600, 750, 900, 1060, 970, 1400]\n",
        "# Primera subgráfica (Subplot)\n",
        "plt.subplot(1, 2, 1)\n",
        "plt.plot(meses, temperaturas, color='green')\n",
        "plt.title('Temperaturas')\n",
        "\n",
        "# Segunda subgráfica (Subplot)\n",
        "plt.subplot(1, 2, 2)\n",
        "plt.plot(meses, nacimientos, color='steelblue')\n",
        "plt.title('Nacimientos')\n",
        "\n",
        "# Subplot Adjust\n",
        "plt.subplots_adjust(wspace=0.35)\n",
        "\n",
        "# Desplegar ambas sugráficas\n",
        "plt.show()\n"
      ]
    },
    {
      "cell_type": "markdown",
      "metadata": {
        "id": "wSRZAqvEtTEy"
      },
      "source": [
        "En ocasiones desearemos tener un gráfico superior y dos o más gráficos en los siguientes renglones."
      ]
    },
    {
      "cell_type": "code",
      "execution_count": null,
      "metadata": {
        "colab": {
          "base_uri": "https://localhost:8080/",
          "height": 244
        },
        "id": "Ek7w-oBktjAu",
        "outputId": "48ff5535-3e8b-444d-f630-a6a2f460fba6"
      },
      "outputs": [],
      "source": [
        "from matplotlib import pyplot as plt\n",
        "\n",
        "x = range(7)\n",
        "linea_recta = [0, 1, 2, 3, 4, 5, 6]\n",
        "parabola = [0, 1, 4, 9, 16, 25, 36]\n",
        "cubica = [0, 1, 8, 27, 64, 125, 216]\n",
        "\n",
        "plt.subplot(2,1,1)\n",
        "plt.plot(x,linea_recta)\n",
        "\n",
        "plt.subplot(2,2,3)\n",
        "plt.plot(x,parabola)\n",
        "\n",
        "plt.subplot(2,2,4)\n",
        "plt.plot(x,cubica)\n",
        "\n",
        "plt.subplots_adjust(bottom=0.2,wspace=0.35)\n",
        "\n",
        "plt.show()"
      ]
    },
    {
      "cell_type": "markdown",
      "metadata": {
        "id": "83EcAt45ty5F"
      },
      "source": [
        "### Leyendas\n",
        "\n",
        "Cuando tenemos varias líneas en un mismo gráfico podemos etiquetarlas utilizando el comando `plt.legend()`.\n",
        "\n",
        "El método leyenda toma una lista con las etiquetas a mostrar. Ejemplo:"
      ]
    },
    {
      "cell_type": "code",
      "execution_count": null,
      "metadata": {
        "colab": {
          "base_uri": "https://localhost:8080/",
          "height": 265
        },
        "id": "wwWSFzqEuFUh",
        "outputId": "abdbd39f-1507-4c93-8308-128e2715143e"
      },
      "outputs": [],
      "source": [
        "from matplotlib import pyplot as plt\n",
        "\n",
        "x = range(7)\n",
        "linea_recta = [0, 1, 2, 3, 4, 5, 6]\n",
        "parabola = [0, 1, 4, 9, 16, 25, 36]\n",
        "\n",
        "plt.plot(x,linea_recta)\n",
        "plt.plot(x,parabola)\n",
        "plt.legend(['Línea recta','Parábola'])\n",
        "plt.show()"
      ]
    },
    {
      "cell_type": "markdown",
      "metadata": {
        "id": "-1pXBk6IvIBb"
      },
      "source": [
        "`plt.legend()` también puede tomar un argumento de palabra clave `loc`, que posicionará la leyenda en la figura.\n",
        "\n",
        "Estos son los valores de posición que acepta loc:\n",
        "\n",
        "```\n",
        "Código  Cadena\n",
        "0       la mejor ubicación posible\n",
        "1       arriba a la derecha\n",
        "2       arriba a la izquierda\n",
        "3       abajo a la izquierda\n",
        "4       abajo a la derecha\n",
        "5       derecha\n",
        "6       centrado a la izquierda\n",
        "7       centrado a la derecha\n",
        "8       centrado abajo\n",
        "9       centrado arriba\n",
        "10      centrado\n",
        "```"
      ]
    },
    {
      "cell_type": "code",
      "execution_count": null,
      "metadata": {
        "colab": {
          "base_uri": "https://localhost:8080/",
          "height": 265
        },
        "id": "PyDiySLPvKe0",
        "outputId": "3b7f7396-8280-44ef-fa2f-87d832ca6bb4"
      },
      "outputs": [],
      "source": [
        "from matplotlib import pyplot as plt\n",
        "\n",
        "x = range(7)\n",
        "linea_recta = [0, 1, 2, 3, 4, 5, 6]\n",
        "parabola = [0, 1, 4, 9, 16, 25, 36]\n",
        "\n",
        "plt.plot(x,linea_recta)\n",
        "plt.plot(x,parabola)\n",
        "plt.legend(['Línea recta','Parábola'], loc=6)\n",
        "plt.show()"
      ]
    },
    {
      "cell_type": "markdown",
      "metadata": {
        "id": "chjcVoXuxPEw"
      },
      "source": [
        "A veces, es más fácil etiquetar cada línea a medida que la creamos. Si queremos, podemos utilizar la palabra clave `label` dentro de `plt.plot()`. Si elegimos hacer esto, no pasamos ninguna etiqueta a `plt.legend()`."
      ]
    },
    {
      "cell_type": "code",
      "execution_count": null,
      "metadata": {
        "colab": {
          "base_uri": "https://localhost:8080/",
          "height": 265
        },
        "id": "-BQfAVAjxR8K",
        "outputId": "5618e073-c20d-40e7-f507-d0c0073a8405"
      },
      "outputs": [],
      "source": [
        "from matplotlib import pyplot as plt\n",
        "\n",
        "x = range(7)\n",
        "linea_recta = [0, 1, 2, 3, 4, 5, 6]\n",
        "parabola = [0, 1, 4, 9, 16, 25, 36]\n",
        "\n",
        "plt.plot(x,linea_recta, label='Línea recta', color='black')\n",
        "plt.plot(x,parabola, label='Parábola',color='pink')\n",
        "plt.legend(loc=9)\n",
        "plt.show()"
      ]
    },
    {
      "cell_type": "markdown",
      "metadata": {
        "id": "GeLoxHEi0DjJ"
      },
      "source": [
        "### Modificar las marcas de la escala\n",
        "En todos nuestros ejercicios anteriores, nuestros comandos han comenzado con `plt`. Para modificar las marcas de la escala, tendremos que intentar algo un poco diferente.\n",
        "\n",
        "Dado que nuestros gráficos pueden tener múltiples subgráficas (subplots), tenemos que especificar cuál queremos modificar. Para ello, llamamos a `plt.subplot()` de una manera diferente, utilizando una de las siguientes formas:\n",
        "\n",
        "`ax = plt.subplot(1, 1, 1)`\n",
        "\n",
        "`ax = plt.subplot()`\n",
        "\n",
        "ax es un objeto de ejes, y nos permite modificar los ejes pertenecientes a una subgráfica (subplot) específica. Aunque sólo tengamos una subgráfica (subplot), cuando queramos modificar las marcas, tendremos que empezar llamando a `ax = plt.subplot(1, 1, 1)` o a `ax = plt.subplot()` para obtener nuestro objeto de ejes.\n",
        "\n",
        "Posteriormente podemos utilizar `ax.set_xticks()` or `ax.set_yticks()` para modificar las marcas de los ejes x y y respectivamente."
      ]
    },
    {
      "cell_type": "code",
      "execution_count": null,
      "metadata": {
        "colab": {
          "base_uri": "https://localhost:8080/",
          "height": 279
        },
        "id": "Q-Du_VB60HJW",
        "outputId": "c140ec29-a44c-429a-c843-a71933bab40b"
      },
      "outputs": [],
      "source": [
        "from matplotlib import pyplot as plt\n",
        "plt.close('all')\n",
        "meses = range(1,13)\n",
        "temperaturas = [27,25,33,34,35,37,38,40,35,29,27,26]\n",
        "\n",
        "ax = plt.subplot()\n",
        "plt.plot(meses,temperaturas)\n",
        "plt.xlabel(\"Meses\")\n",
        "plt.ylabel(\"Temperaturas\")\n",
        "\n",
        "ax.set_xticks([0,1,2,3,4,5,6,7,8,9,10,11,12])\n",
        "ax.set_yticks([0,5,10,15,20,25,30,35])\n",
        "plt.show()"
      ]
    },
    {
      "cell_type": "markdown",
      "metadata": {
        "id": "skCcoloBA7C1"
      },
      "source": [
        "Podemos incluso cambiar las etiquetas de las marcas utilizando `ax.set_xticklabels()` or `ax.set_yticklabels()` para modificar las marcas de los ejes x y y respectivamente.\n",
        "\n",
        "Por ejemplo, podríamos querer tener un eje Y con ticks a 0.2, 0.8 y 0.9, pero etiquetarlos como 20%, 80% y 90%, respectivamente."
      ]
    },
    {
      "cell_type": "code",
      "execution_count": null,
      "metadata": {
        "colab": {
          "base_uri": "https://localhost:8080/",
          "height": 265
        },
        "id": "y4WyuOi5BGw6",
        "outputId": "4d252253-2355-44e0-c22c-6df21377ac95"
      },
      "outputs": [],
      "source": [
        "from matplotlib import pyplot as plt\n",
        "\n",
        "ax = plt.subplot()\n",
        "plt.plot([1, 2, 3, 3.5], [0.2, 0.5, 0.8, 0.9], '*')\n",
        "ax.set_yticks([0.2, 0.5, 0.8, 0.9])\n",
        "ax.set_yticklabels(['20%', '50%', '80%', '90%'])\n",
        "plt.show()"
      ]
    },
    {
      "cell_type": "code",
      "execution_count": null,
      "metadata": {
        "colab": {
          "base_uri": "https://localhost:8080/",
          "height": 279
        },
        "id": "aSbvyHeVDdAs",
        "outputId": "8f9534cf-23c7-49d2-89d1-fca6e7b06cf0"
      },
      "outputs": [],
      "source": [
        "from matplotlib import pyplot as plt\n",
        "\n",
        "meses = range(1,13)\n",
        "nombres_meses = [\"Ene\", \"Feb\", \"Mar\", \"Abr\", \"May\", \"Jun\", \"Jul\", \"Ago\", \"Sep\",\"Oct\", \"Nov\", \"Dic\"]\n",
        "temperaturas = [27,25,33,34,35,37,38,40,35,29,27,26]\n",
        "\n",
        "ax = plt.subplot()\n",
        "plt.plot(meses,temperaturas)\n",
        "plt.xlabel(\"Meses\")\n",
        "plt.ylabel(\"Temperaturas\")\n",
        "\n",
        "ax.set_xticks(meses)\n",
        "ax.set_xticklabels(nombres_meses)\n",
        "#ax.set_yticks([0,5,10,15,20,25,30,35])\n",
        "plt.show()"
      ]
    },
    {
      "cell_type": "markdown",
      "metadata": {
        "id": "m-lI3l7JEVIf"
      },
      "source": [
        "### Figuras\n",
        "Cuando hacemos muchos gráficos, es fácil terminar con líneas que han sido trazadas y no mostradas. Si no tenemos cuidado, estas líneas \"olvidadas\" aparecerán en tus nuevos gráficos. Para asegurarse de que no tiene ninguna línea olvidada, puede utilizar el comando `plt.close('all')` para borrar todos los trazados existentes antes de trazar uno nuevo.\n",
        "\n",
        "Anteriormente, aprendimos cómo poner dos conjuntos de ejes en la misma figura. A veces, preferimos tener dos figuras separadas. Podemos utilizar el comando `plt.figure()` para crear nuevas figuras y dimensionarlas como queramos. Podemos añadir la palabra clave `figsize=(anchura, altura)` para establecer el tamaño de la figura, en pulgadas. Usamos paréntesis (`( y )`) para pasar el ancho y el alto, que están separados por una coma (,)."
      ]
    },
    {
      "cell_type": "code",
      "execution_count": null,
      "metadata": {
        "colab": {
          "base_uri": "https://localhost:8080/",
          "height": 211
        },
        "id": "lx-aFpqtEczt",
        "outputId": "01ec9935-b965-416f-8efd-0cac13126631"
      },
      "outputs": [],
      "source": [
        "from matplotlib import pyplot as plt\n",
        "\n",
        "x = range(7)\n",
        "linea_recta = [0, 1, 2, 3, 4, 5, 6]\n",
        "parabola = [0, 1, 4, 9, 16, 25, 36]\n",
        "\n",
        "plt.figure(figsize=(5, 3))\n",
        "\n",
        "plt.plot(x,linea_recta, label='Línea recta')\n",
        "plt.legend()\n",
        "plt.show()"
      ]
    },
    {
      "cell_type": "markdown",
      "metadata": {
        "id": "W6CM7sabFt12"
      },
      "source": [
        "Una vez que hemos creado una figura, es posible que queramos guardarla para poder utilizarla en una presentación o en una página web. Podemos utilizar el comando `plt.savefig()` para guardarla en diferentes formatos de archivo, como png, svg o pdf. Después de trazar, podemos llamar a `plt.savefig('nombre_del_gráfico.png')`"
      ]
    },
    {
      "cell_type": "code",
      "execution_count": null,
      "metadata": {
        "colab": {
          "base_uri": "https://localhost:8080/",
          "height": 374
        },
        "id": "oiWVlwZfF-2C",
        "outputId": "8c887ba2-f0ef-4554-e224-74618a84f6db"
      },
      "outputs": [],
      "source": [
        "from matplotlib import pyplot as plt\n",
        "\n",
        "x = range(7)\n",
        "linea_recta = [0, 1, 2, 3, 4, 5, 6]\n",
        "parabola = [0, 1, 4, 9, 16, 25, 36]\n",
        "\n",
        "plt.figure(figsize=(10, 6))\n",
        "\n",
        "plt.plot(x,linea_recta, label='Línea recta')\n",
        "plt.legend()\n",
        "plt.savefig('linea_recta.png')\n",
        "plt.show()\n"
      ]
    },
    {
      "cell_type": "markdown",
      "metadata": {
        "id": "VhiALQ2BJjeJ"
      },
      "source": [
        "### Resumen\n",
        "\n",
        "Hemos revisado con varios gráficos de líneas bidimensionales en Matplotlib. Hemos visto cómo crear gráficos simples y legibles con pocos comandos. También hemos aprendido algunos comandos para estilizar y etiquetar mejor tus gráficas. Estos son los conceptos que hemos visto en Matplotlib hasta ahora:\n",
        "\n",
        "- Crear un gráfico de líneas a partir de datos\n",
        "- Cambiar la apariencia de la línea\n",
        "- Acercarse a diferentes partes del eje\n",
        "- Poner etiquetas en los títulos y ejes\n",
        "- Crear un diseño de figura más complejo\n",
        "- Añadir leyendas a los gráficos\n",
        "- Cambiar las etiquetas y las posiciones de las marcas\n",
        "- Guardar lo que se ha hecho"
      ]
    }
  ],
  "metadata": {
    "colab": {
      "provenance": [],
      "toc_visible": true
    },
    "kernelspec": {
      "display_name": "Python 3",
      "name": "python3"
    },
    "language_info": {
      "codemirror_mode": {
        "name": "ipython",
        "version": 3
      },
      "file_extension": ".py",
      "mimetype": "text/x-python",
      "name": "python",
      "nbconvert_exporter": "python",
      "pygments_lexer": "ipython3",
      "version": "3.10.13"
    }
  },
  "nbformat": 4,
  "nbformat_minor": 0
}
