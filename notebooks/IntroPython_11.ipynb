{
  "cells": [
    {
      "cell_type": "markdown",
      "metadata": {},
      "source": [
        "# Práctica de regresión lineal\n",
        "\n",
        "\n",
        "Revisar el video disponible [aquí](https://www.youtube.com/watch?v=k964_uNn3l0)"
      ]
    },
    {
      "cell_type": "markdown",
      "metadata": {},
      "source": [
        "## Cargamos los módulos a utilizar"
      ]
    },
    {
      "cell_type": "code",
      "execution_count": null,
      "metadata": {
        "id": "FtXvl5Rm70dl"
      },
      "outputs": [],
      "source": [
        "import matplotlib.pyplot as plt\n",
        "import numpy as np\n",
        "\n",
        "from sklearn import datasets, linear_model\n",
        "from sklearn.metrics import mean_squared_error, r2_score"
      ]
    },
    {
      "cell_type": "markdown",
      "metadata": {
        "id": "oGBut6j2Sjx3"
      },
      "source": [
        "## Usando el dataset diabetes de sklearn"
      ]
    },
    {
      "cell_type": "markdown",
      "metadata": {
        "id": "cjBQJiUOCS1_"
      },
      "source": [
        "### Cargamos el dataset\n",
        "\n",
        "Usaremos el dataset [diabetes](https://scikit-learn.org/stable/datasets/toy_dataset.html#diabetes-dataset) que nos proporciona el módulo sklearn."
      ]
    },
    {
      "cell_type": "code",
      "execution_count": null,
      "metadata": {
        "id": "ujPjLiK4-AMY"
      },
      "outputs": [],
      "source": [
        "# cargamos el dataset diabetes\n",
        "diabetes_X, diabetes_y = datasets.load_diabetes(return_X_y=True)"
      ]
    },
    {
      "cell_type": "code",
      "execution_count": null,
      "metadata": {
        "colab": {
          "base_uri": "https://localhost:8080/"
        },
        "id": "JboduPZ_GMI5",
        "outputId": "6043f77a-3aff-4510-cfb8-f04146344e68"
      },
      "outputs": [],
      "source": [
        "print(diabetes_X)"
      ]
    },
    {
      "cell_type": "code",
      "execution_count": null,
      "metadata": {
        "colab": {
          "base_uri": "https://localhost:8080/"
        },
        "id": "Oii6SeyfGS1A",
        "outputId": "c69fa6e1-ff96-46ab-edc3-cd5b1f4f2f51"
      },
      "outputs": [],
      "source": [
        "print(diabetes_y)"
      ]
    },
    {
      "cell_type": "code",
      "execution_count": null,
      "metadata": {
        "id": "Jk9J8jWfAdQQ"
      },
      "outputs": [],
      "source": [
        "# Usaremos solo una característica\n",
        "diabetes_X = diabetes_X[:, np.newaxis, 2]"
      ]
    },
    {
      "cell_type": "markdown",
      "metadata": {
        "id": "k2tK0yN6B5z3"
      },
      "source": [
        "El código anterior está tomando la tercera característica de la matriz de características original diabetes_X y remodelándola para crear una matriz bidimensional. Esta operación es a menudo necesaria cuando se trabaja con scikit-learn, ya que espera datos de entrada en un formato determinado, por lo general una matriz 2D donde cada fila corresponde a una muestra y cada columna corresponde a una característica."
      ]
    },
    {
      "cell_type": "markdown",
      "metadata": {
        "id": "nEwvCIiiCGdJ"
      },
      "source": [
        "### Dividimos el dataset de características (features) en entrenamiento y prueba"
      ]
    },
    {
      "cell_type": "code",
      "execution_count": null,
      "metadata": {
        "id": "AwB4TmOSCJjH"
      },
      "outputs": [],
      "source": [
        "# dividimos los datos relacionados a las características en entrenamiento y prueba\n",
        "diabetes_X_train = diabetes_X[:-20]\n",
        "diabetes_X_test = diabetes_X[-20:]"
      ]
    },
    {
      "cell_type": "markdown",
      "metadata": {
        "id": "aFq9RR_XC2iw"
      },
      "source": [
        "### Dividimos el dataset de valores objetivo en entrenamiento y prueba"
      ]
    },
    {
      "cell_type": "code",
      "execution_count": null,
      "metadata": {
        "id": "xZso_fbXC8QH"
      },
      "outputs": [],
      "source": [
        "# dividimos los datos de los valores objetivo en entrenamiento y prueba\n",
        "diabetes_y_train = diabetes_y[:-20]\n",
        "diabetes_y_test = diabetes_y[-20:]"
      ]
    },
    {
      "cell_type": "markdown",
      "metadata": {
        "id": "6SH-jH4-DPSJ"
      },
      "source": [
        "### Creamos el objeto de regresión lineal"
      ]
    },
    {
      "cell_type": "code",
      "execution_count": null,
      "metadata": {
        "id": "fjVKhFvZDTLQ"
      },
      "outputs": [],
      "source": [
        "regr_lineal = linear_model.LinearRegression()"
      ]
    },
    {
      "cell_type": "markdown",
      "metadata": {
        "id": "XljOLOrWDY-2"
      },
      "source": [
        "### Entrenamos el modelo"
      ]
    },
    {
      "cell_type": "code",
      "execution_count": null,
      "metadata": {
        "colab": {
          "base_uri": "https://localhost:8080/",
          "height": 74
        },
        "id": "v-N393GSDblG",
        "outputId": "a6d4a809-8f8a-4c1d-e9c3-3b5ecc8341b6"
      },
      "outputs": [],
      "source": [
        "regr_lineal.fit(diabetes_X_train, diabetes_y_train)"
      ]
    },
    {
      "cell_type": "markdown",
      "metadata": {
        "id": "1kZdaXogEDvg"
      },
      "source": [
        "### Realizamos predicciones utilizando el conjunto de datos de prueba"
      ]
    },
    {
      "cell_type": "code",
      "execution_count": null,
      "metadata": {
        "id": "0Mwo50QLEILP"
      },
      "outputs": [],
      "source": [
        "# hacemos predicciones usando el conjunto de datos de prueba\n",
        "diabetes_y_pred = regr_lineal.predict(diabetes_X_test)"
      ]
    },
    {
      "cell_type": "markdown",
      "metadata": {
        "id": "DELxE9n_Dgdm"
      },
      "source": [
        "### Revisamos los coeficientes"
      ]
    },
    {
      "cell_type": "code",
      "execution_count": null,
      "metadata": {
        "colab": {
          "base_uri": "https://localhost:8080/"
        },
        "id": "_zu9pDGMDjWr",
        "outputId": "91ba1e3a-d9dc-47ff-cfa6-e4f794aa0743"
      },
      "outputs": [],
      "source": [
        "print(\"Coeficiente: \", regr_lineal.coef_[0])\n",
        "print(\"Intercepto: \", regr_lineal.intercept_)"
      ]
    },
    {
      "cell_type": "markdown",
      "metadata": {
        "id": "5HH20IvpGkKw"
      },
      "source": [
        "### Revisamos el coeficiente de determinación: 1 es predicción perfecta"
      ]
    },
    {
      "cell_type": "code",
      "execution_count": null,
      "metadata": {
        "colab": {
          "base_uri": "https://localhost:8080/"
        },
        "id": "TPuioSx-GoIg",
        "outputId": "d3c6b69e-d9bd-46ab-f63b-4083d5b41f84"
      },
      "outputs": [],
      "source": [
        "print(\"Coeficiente de determinación (R²): %.2f\" % r2_score(diabetes_y_test, diabetes_y_pred))"
      ]
    },
    {
      "cell_type": "markdown",
      "metadata": {
        "id": "NbaXpDTFDupA"
      },
      "source": [
        "### Revisamos el valor de error cuadrático medio (mse)"
      ]
    },
    {
      "cell_type": "code",
      "execution_count": null,
      "metadata": {
        "colab": {
          "base_uri": "https://localhost:8080/"
        },
        "id": "a23hc3eQD6M_",
        "outputId": "3e2f892a-c9d6-46c2-8841-8e94474fc75a"
      },
      "outputs": [],
      "source": [
        "print(\"Error cuadrático medio (mse): %.2f\" % mean_squared_error(diabetes_y_test, diabetes_y_pred))"
      ]
    },
    {
      "cell_type": "markdown",
      "metadata": {
        "id": "zffV_fdGG2dv"
      },
      "source": [
        "### Graficamos las salidas"
      ]
    },
    {
      "cell_type": "code",
      "execution_count": null,
      "metadata": {
        "colab": {
          "base_uri": "https://localhost:8080/",
          "height": 430
        },
        "id": "BRVSBbmrG5UR",
        "outputId": "da87688c-59f7-440a-e1d2-a4cbf4c00eef"
      },
      "outputs": [],
      "source": [
        "# graficar salidas\n",
        "plt.scatter(diabetes_X_test, diabetes_y_test, color=\"black\")\n",
        "plt.plot(diabetes_X_test, diabetes_y_pred, color=\"blue\", linewidth=3)\n",
        "\n",
        "#plt.xticks(())\n",
        "#plt.yticks(())\n",
        "\n",
        "plt.show()"
      ]
    },
    {
      "cell_type": "markdown",
      "metadata": {
        "id": "2gI0NsrZSqqm"
      },
      "source": [
        "## Usando el dataset Weather Conditions in World War Two\n",
        "\n",
        "Buscaremos dar respuesta a las interrogantes:\n",
        "\n",
        "- Existe relación entre las temperaturas mínima y máxima diarias.\n",
        "- Se puede predecir la temperatura máxima dada una temperatura mínima.\n",
        "\n",
        "La descripción del dataset puede revisarse [aquí](https://www.kaggle.com/datasets/smid80/weatherww2/data)."
      ]
    },
    {
      "cell_type": "markdown",
      "metadata": {
        "id": "fd7yd7rJTYhI"
      },
      "source": [
        "### Cargamos el dataset"
      ]
    },
    {
      "cell_type": "code",
      "execution_count": 1,
      "metadata": {
        "id": "DA6E9uAWTceg"
      },
      "outputs": [],
      "source": [
        "import pandas as pd\n",
        "import pandas as pd\n",
        "import numpy as np\n",
        "import plotly.express as px\n",
        "import matplotlib.pyplot as plt\n",
        "from sklearn.linear_model import LinearRegression\n"
      ]
    },
    {
      "cell_type": "code",
      "execution_count": 2,
      "metadata": {
        "colab": {
          "base_uri": "https://localhost:8080/"
        },
        "id": "FPLQMd8RUsXv",
        "outputId": "395f20dc-63b7-44c1-abec-138e52a2fac9"
      },
      "outputs": [
        {
          "name": "stderr",
          "output_type": "stream",
          "text": [
            "/tmp/ipykernel_8000/3971106380.py:3: DtypeWarning: Columns (7,8,18,25) have mixed types. Specify dtype option on import or set low_memory=False.\n",
            "  datos = pd.read_csv(filepath)\n"
          ]
        }
      ],
      "source": [
        "# ruta al archivo\n",
        "filepath = \"https://raw.githubusercontent.com/vbatiz/intro-python/main/notebooks/data/summary_of_weather.csv\"\n",
        "datos = pd.read_csv(filepath)"
      ]
    },
    {
      "cell_type": "code",
      "execution_count": null,
      "metadata": {
        "colab": {
          "base_uri": "https://localhost:8080/",
          "height": 342
        },
        "id": "aP3BJ6pWUQa3",
        "outputId": "04878e62-79a4-4ac8-8429-3cb863f2b089"
      },
      "outputs": [],
      "source": [
        "datos.head()"
      ]
    },
    {
      "cell_type": "code",
      "execution_count": null,
      "metadata": {
        "colab": {
          "base_uri": "https://localhost:8080/"
        },
        "id": "QntibdIPU0t_",
        "outputId": "ba4d29e4-24aa-40ab-9617-b58d5b1e6f5d"
      },
      "outputs": [],
      "source": [
        "datos.info()"
      ]
    },
    {
      "cell_type": "code",
      "execution_count": null,
      "metadata": {
        "colab": {
          "base_uri": "https://localhost:8080/",
          "height": 466
        },
        "id": "0SPAIAx5U8Y3",
        "outputId": "458d1e11-bbe9-458a-d048-75e0e89041a8"
      },
      "outputs": [],
      "source": [
        "# revisemos la relación\n",
        "datos.plot(x='MinTemp',y='MaxTemp',style='o')"
      ]
    },
    {
      "cell_type": "code",
      "execution_count": null,
      "metadata": {
        "id": "EHhgQ89ZWthP"
      },
      "outputs": [],
      "source": [
        "# obtenemos los datos para x y y\n",
        "x=datos['MinTemp'].values\n",
        "y=datos['MaxTemp'].values"
      ]
    },
    {
      "cell_type": "code",
      "execution_count": null,
      "metadata": {
        "id": "CyC4QI0oXeFH"
      },
      "outputs": [],
      "source": [
        "x"
      ]
    },
    {
      "cell_type": "code",
      "execution_count": null,
      "metadata": {
        "id": "UKxA3MUsWir-"
      },
      "outputs": [],
      "source": [
        "# obtenemos los datos para x y y\n",
        "x=datos['MinTemp'].values.reshape(-1,1)\n",
        "y=datos['MaxTemp'].values.reshape(-1,1)"
      ]
    },
    {
      "cell_type": "code",
      "execution_count": null,
      "metadata": {
        "colab": {
          "base_uri": "https://localhost:8080/"
        },
        "id": "z_UpmVyxWnTA",
        "outputId": "6cbbb989-35fb-4084-d88c-d9bf3ed60cc2"
      },
      "outputs": [],
      "source": [
        "x"
      ]
    },
    {
      "cell_type": "markdown",
      "metadata": {
        "id": "-cK2q1lraBG_"
      },
      "source": [
        "### Dividimos los datos en entrenamiento y prueba"
      ]
    },
    {
      "cell_type": "code",
      "execution_count": null,
      "metadata": {
        "id": "qi0lpjTlaAd3"
      },
      "outputs": [],
      "source": [
        "# separar los datos\n",
        "from sklearn.model_selection import train_test_split\n",
        "x_train, x_test, y_train, y_test=train_test_split(x,y,test_size=.25)"
      ]
    },
    {
      "cell_type": "markdown",
      "metadata": {
        "id": "7Mz4pXbnf8gG"
      },
      "source": [
        "### Creamos el modelo"
      ]
    },
    {
      "cell_type": "code",
      "execution_count": null,
      "metadata": {
        "id": "FWAQ9KVdf8zV"
      },
      "outputs": [],
      "source": [
        "# crear el modelo\n",
        "model = LinearRegression()"
      ]
    },
    {
      "cell_type": "markdown",
      "metadata": {
        "id": "CjNx5cvLfkLe"
      },
      "source": [
        "### Entrenamos el modelo"
      ]
    },
    {
      "cell_type": "code",
      "execution_count": null,
      "metadata": {
        "id": "9knfK-Ctf3-l"
      },
      "outputs": [],
      "source": [
        "# entrenar el modelo\n",
        "model.fit(x_train, y_train)"
      ]
    },
    {
      "cell_type": "markdown",
      "metadata": {
        "id": "LcPrqB5WfwGN"
      },
      "source": [
        "### Realizamos predicciones con los datos de prueba"
      ]
    },
    {
      "cell_type": "code",
      "execution_count": null,
      "metadata": {
        "id": "TXpIOaWJaKXW"
      },
      "outputs": [],
      "source": [
        "# realizar predicciones\n",
        "y_predict=model.predict(x_test)"
      ]
    },
    {
      "cell_type": "markdown",
      "metadata": {
        "id": "-H2dtB9naxeO"
      },
      "source": [
        "### Revisamos los coeficientes"
      ]
    },
    {
      "cell_type": "code",
      "execution_count": null,
      "metadata": {
        "colab": {
          "base_uri": "https://localhost:8080/"
        },
        "id": "83k12xH0aznx",
        "outputId": "56f3cd45-3650-418a-a0a2-ae6b6ee5282d"
      },
      "outputs": [],
      "source": [
        "print(\"Coeficiente:\", model.coef_[0])\n",
        "print(\"Intercepto:\", model.intercept_)\n",
        "print(f\"y = {model.coef_[0][0]}x + {model.intercept_[0]}\")\n",
        "print(\"Coeficiente de determinación (R²): %.2f\" % r2_score(y_test, y_predict))"
      ]
    },
    {
      "cell_type": "markdown",
      "metadata": {
        "id": "vaa1lIevbGMn"
      },
      "source": [
        "### Agrupamos los datos de prueba reales y las predicciones para visualización"
      ]
    },
    {
      "cell_type": "code",
      "execution_count": null,
      "metadata": {
        "colab": {
          "base_uri": "https://localhost:8080/",
          "height": 423
        },
        "id": "dz2TDvQkbJQZ",
        "outputId": "85a96a54-c56f-4451-d5f2-b27fee1076ab"
      },
      "outputs": [],
      "source": [
        "datos2=pd.DataFrame({'mínima':x_test.flatten(),'máxima real':y_test.flatten(),'máxima predicción':y_predict.flatten()})\n",
        "datos2"
      ]
    },
    {
      "cell_type": "markdown",
      "metadata": {
        "id": "V2NeGRI0bb4X"
      },
      "source": [
        "### Graficamos"
      ]
    },
    {
      "cell_type": "code",
      "execution_count": null,
      "metadata": {
        "colab": {
          "base_uri": "https://localhost:8080/",
          "height": 470
        },
        "id": "srECI49ebeh-",
        "outputId": "eed9b915-9343-4155-b260-103de68be601"
      },
      "outputs": [],
      "source": [
        "plt.scatter(x_train,y_train)\n",
        "plt.title(\"Temperatura máxima vs mínima\")\n",
        "plt.plot(x_train,model.predict(x_train),color='black')"
      ]
    },
    {
      "cell_type": "code",
      "execution_count": null,
      "metadata": {
        "colab": {
          "base_uri": "https://localhost:8080/",
          "height": 470
        },
        "id": "EDCQTrQXgcS1",
        "outputId": "bca66de7-24df-47a7-f837-138a4ba22044"
      },
      "outputs": [],
      "source": [
        "plt.scatter(x_test,y_test)\n",
        "plt.title(\"Temperatura máxima vs mínima\")\n",
        "plt.plot(x_test,model.predict(x_test),color='black')"
      ]
    },
    {
      "cell_type": "code",
      "execution_count": null,
      "metadata": {
        "colab": {
          "base_uri": "https://localhost:8080/"
        },
        "id": "mDd_xjAKhHzu",
        "outputId": "e5c85a0e-26fc-4f33-d135-5d1d27444446"
      },
      "outputs": [],
      "source": [
        "x_test"
      ]
    },
    {
      "cell_type": "code",
      "execution_count": null,
      "metadata": {
        "colab": {
          "base_uri": "https://localhost:8080/"
        },
        "id": "u-tuMBkMiC0n",
        "outputId": "6d406538-ae20-4016-b834-222ca7dc27f8"
      },
      "outputs": [],
      "source": [
        "b = 20\n",
        "b = np.array(b)\n",
        "b = np.array(b.reshape(-1,1))\n",
        "print(b)"
      ]
    },
    {
      "cell_type": "code",
      "execution_count": null,
      "metadata": {
        "colab": {
          "base_uri": "https://localhost:8080/"
        },
        "id": "NFMpC7bHhTNZ",
        "outputId": "f7d710e9-3c70-465e-b224-4de6b8209608"
      },
      "outputs": [],
      "source": [
        "a = np.array([[20]])\n",
        "print(model.predict(b))"
      ]
    }
  ],
  "metadata": {
    "colab": {
      "provenance": []
    },
    "kernelspec": {
      "display_name": "Python 3",
      "name": "python3"
    },
    "language_info": {
      "codemirror_mode": {
        "name": "ipython",
        "version": 3
      },
      "file_extension": ".py",
      "mimetype": "text/x-python",
      "name": "python",
      "nbconvert_exporter": "python",
      "pygments_lexer": "ipython3",
      "version": "3.10.13"
    }
  },
  "nbformat": 4,
  "nbformat_minor": 0
}
