{
  "cells": [
    {
      "cell_type": "markdown",
      "metadata": {
        "id": "kt1CqzCw2Ifa"
      },
      "source": [
        "# Python básico: listas, tuplas, diccionarios y conjuntos"
      ]
    },
    {
      "cell_type": "markdown",
      "metadata": {},
      "source": [
        "## [Listas]\n",
        "Una lista es un arreglo ordenado de elementos. Se define por valores separados por coma y encerrados por dos corchetes (`[]`)"
      ]
    },
    {
      "cell_type": "code",
      "execution_count": null,
      "metadata": {
        "colab": {
          "base_uri": "https://localhost:8080/"
        },
        "id": "JFzuZO1E1RBC",
        "outputId": "9ca4d06d-6603-4e3b-bba6-271485712cb2"
      },
      "outputs": [],
      "source": [
        "materias = [\"CALCULO\", \"FINANZAS\", \"OPTIMIZACION\", \"GEOMETRIA\", \"PROGRAMACION\", \"ESTADISTICA\"]\n",
        "type(materias)"
      ]
    },
    {
      "cell_type": "code",
      "execution_count": null,
      "metadata": {
        "colab": {
          "base_uri": "https://localhost:8080/"
        },
        "id": "mV38X66ysrL0",
        "outputId": "b95093a5-64ba-424e-9651-57138bdc4b96"
      },
      "outputs": [],
      "source": [
        "materias"
      ]
    },
    {
      "cell_type": "markdown",
      "metadata": {
        "id": "w-DbELI92bJL"
      },
      "source": [
        "### Subconjuntos:\n",
        "En una lista, al igual que con string (una sequencia ordenada de carácteres), accedemos a los valores de una lista usando la misma notación de corchetes."
      ]
    },
    {
      "cell_type": "code",
      "execution_count": null,
      "metadata": {
        "colab": {
          "base_uri": "https://localhost:8080/",
          "height": 88
        },
        "id": "WWEIzxvD2fTn",
        "outputId": "2224704d-ac75-4739-d7a1-fa6358941b93"
      },
      "outputs": [],
      "source": [
        "print(materias[4])\n",
        "print(materias[:3])\n",
        "print(materias[3:])\n",
        "print(materias[:])"
      ]
    },
    {
      "cell_type": "markdown",
      "metadata": {
        "id": "UzzbLXb26pEC"
      },
      "source": [
        "**Número de elementos**  \n",
        "Por medio de la función `len` podemos conocer el número de elementos dentro de una lista."
      ]
    },
    {
      "cell_type": "code",
      "execution_count": null,
      "metadata": {
        "colab": {
          "base_uri": "https://localhost:8080/"
        },
        "id": "PAPRUlO46qCf",
        "outputId": "a5a4141d-8edd-466f-99ab-bd31d24781ae"
      },
      "outputs": [],
      "source": [
        "len(materias)"
      ]
    },
    {
      "cell_type": "markdown",
      "metadata": {
        "id": "ePts57D06s5n"
      },
      "source": [
        "**Suma de elementos**  \n",
        "Otra de las funciones incluidas en Python es `sum`, sobre la cuál podemos sumar todos los elementos de la lista"
      ]
    },
    {
      "cell_type": "code",
      "execution_count": null,
      "metadata": {
        "colab": {
          "base_uri": "https://localhost:8080/"
        },
        "id": "K6WWMwoK6yTR",
        "outputId": "15c9d31c-dbcb-4c56-c738-40b6bffc75c5"
      },
      "outputs": [],
      "source": [
        "numeros = [5,3,2,7,8,11]\n",
        "resultado = sum(numeros)\n",
        "print(resultado)"
      ]
    },
    {
      "cell_type": "markdown",
      "metadata": {
        "id": "5gPLUUPW9f7p"
      },
      "source": [
        "**Ordenar elementos**  \n",
        "Una más de las funciones incluidas en Python es `sorted`, sobre la cuál podemos ordenar todos los elementos de la lista"
      ]
    },
    {
      "cell_type": "code",
      "execution_count": null,
      "metadata": {
        "colab": {
          "base_uri": "https://localhost:8080/"
        },
        "id": "J3ViIu0p9yCw",
        "outputId": "f22fbca9-a692-4653-fa4a-c3e13350e8c6"
      },
      "outputs": [],
      "source": [
        "numeros = [5,3,2,7,8,11]\n",
        "print(f\"la lista {numeros} queda ordenada de la siguiente manera {sorted(numeros)}\")"
      ]
    },
    {
      "cell_type": "markdown",
      "metadata": {
        "id": "V_e_UGf4_qQn"
      },
      "source": [
        "## Índices\n",
        "A diferencia de un `str`, un `list` nos permite obtener, asignar, reemplazar y eliminar valores dentro de una lista."
      ]
    },
    {
      "cell_type": "code",
      "execution_count": null,
      "metadata": {
        "colab": {
          "base_uri": "https://localhost:8080/"
        },
        "id": "ZltYNmkk_rKo",
        "outputId": "1d0ac97b-f026-452f-a0f2-c410556fa86d"
      },
      "outputs": [],
      "source": [
        "numeros = [5,3,2,7,8,11]\n",
        "#Imprime el primer elemento de la lista\n",
        "print(numeros[0])\n",
        "#Asigna un nuevo valor al primer elemento de la lista\n",
        "numeros[0] = 10\n",
        "print(numeros[0])\n"
      ]
    },
    {
      "cell_type": "code",
      "execution_count": null,
      "metadata": {
        "colab": {
          "base_uri": "https://localhost:8080/"
        },
        "id": "96_66SKpAP37",
        "outputId": "8f3c2b4f-9488-46b1-ddd8-b5d83a376c56"
      },
      "outputs": [],
      "source": [
        "numeros = [5,3,2,7,8,11]\n",
        "# Eliminamos del segundo al tercer elemento\n",
        "print(numeros)\n",
        "numeros[1:3] = []\n",
        "print(numeros)"
      ]
    },
    {
      "cell_type": "markdown",
      "metadata": {
        "id": "bFK4xw-qAiu_"
      },
      "source": [
        "### Estructura:\n",
        "Las listas pueden agrupar cualquier tipo de objeto"
      ]
    },
    {
      "cell_type": "code",
      "execution_count": null,
      "metadata": {
        "colab": {
          "base_uri": "https://localhost:8080/"
        },
        "id": "ad9FIGJlAmpQ",
        "outputId": "28104f9a-4414-4c66-d748-cac1cdf4734e"
      },
      "outputs": [],
      "source": [
        "pi = 3.14159\n",
        "[\"e\", pi, [\"alpha\", \"beta\", \"gamma\"], True]"
      ]
    },
    {
      "cell_type": "markdown",
      "metadata": {
        "id": "B8MOMlwOA4iO"
      },
      "source": [
        "### Concatenar dos listas"
      ]
    },
    {
      "cell_type": "code",
      "execution_count": null,
      "metadata": {
        "colab": {
          "base_uri": "https://localhost:8080/"
        },
        "id": "Hz_YPmfRA-Ls",
        "outputId": "b7031ab7-b6c5-4553-ea27-16dc958c728e"
      },
      "outputs": [],
      "source": [
        "matematicos = [\"Gauss\", \"Fermat\", \"Spivak \", \"Oksendal\"]\n",
        "fisicos = [\"Newton\", \"Einstein\", \"Maxwell\"]\n",
        "\n",
        "cientificos = matematicos + fisicos\n",
        "print(cientificos)"
      ]
    },
    {
      "cell_type": "markdown",
      "metadata": {
        "id": "helVT_4qBOiU"
      },
      "source": [
        "### Copiar una lista\n",
        "Cada elemento en python lo identifica un único `id`."
      ]
    },
    {
      "cell_type": "code",
      "execution_count": null,
      "metadata": {
        "colab": {
          "base_uri": "https://localhost:8080/"
        },
        "id": "oca3jEIrBmMv",
        "outputId": "ed5596c7-2d66-4304-f81d-6f76f5e29408"
      },
      "outputs": [],
      "source": [
        "id(cientificos)"
      ]
    },
    {
      "cell_type": "markdown",
      "metadata": {
        "id": "ivxhiDIY6mX8"
      },
      "source": [
        "Al asignar una variable a una lista existente \"apunta\" al mismo `id`"
      ]
    },
    {
      "cell_type": "code",
      "execution_count": null,
      "metadata": {
        "colab": {
          "base_uri": "https://localhost:8080/"
        },
        "id": "poDfJ2AiBvzQ",
        "outputId": "16f3823d-0cac-424b-a775-a9e5e58c65d4"
      },
      "outputs": [],
      "source": [
        "cientificos2 = cientificos\n",
        "print(id(cientificos),id(cientificos2))"
      ]
    },
    {
      "cell_type": "markdown",
      "metadata": {
        "id": "vDYQ9Std637M"
      },
      "source": [
        "Cualquier modificación a `cientificos2` afectará a `cientificos`"
      ]
    },
    {
      "cell_type": "code",
      "execution_count": null,
      "metadata": {
        "colab": {
          "base_uri": "https://localhost:8080/"
        },
        "id": "bpE5XYqcCO0F",
        "outputId": "9585f35c-1afc-463c-fb3b-4d5557728936"
      },
      "outputs": [],
      "source": [
        "#Modificamos cientificos2\n",
        "cientificos2[0] = \"Fleming\"\n",
        "#Imprimimos cientificos\n",
        "print(cientificos)"
      ]
    },
    {
      "cell_type": "markdown",
      "metadata": {
        "id": "1gdp2UkBCuBJ"
      },
      "source": [
        "Para obtener una copia de la lista, usar [:]"
      ]
    },
    {
      "cell_type": "code",
      "execution_count": null,
      "metadata": {
        "colab": {
          "base_uri": "https://localhost:8080/"
        },
        "id": "ayZdu-RsCzh9",
        "outputId": "a536364a-cc27-4bb5-dd01-cabadc2cf1a3"
      },
      "outputs": [],
      "source": [
        "cientificos3 = cientificos[:]\n",
        "cientificos4 = cientificos.copy()\n",
        "print(id(cientificos))\n",
        "print(id(cientificos3))\n",
        "print(id(cientificos4))"
      ]
    },
    {
      "cell_type": "code",
      "execution_count": null,
      "metadata": {
        "colab": {
          "base_uri": "https://localhost:8080/"
        },
        "id": "zG_dQ7hUDMb9",
        "outputId": "434cdd48-3813-4915-be36-67dcf9b16b09"
      },
      "outputs": [],
      "source": [
        "cientificos3[0] = \"Leibniz\"\n",
        "print(\"lista 'rates3':\", cientificos3, \"\", sep=\"\\n\")\n",
        "print(\"lista 'rates':\", cientificos, sep=\"\\n\")"
      ]
    },
    {
      "cell_type": "markdown",
      "metadata": {
        "id": "e-Mx6qpYDx51"
      },
      "source": [
        "### Métodos de una `lista`\n",
        "Al igual que los strings, las listas contienen métodos (funciones definidas para una sola clase)"
      ]
    },
    {
      "cell_type": "code",
      "execution_count": null,
      "metadata": {
        "colab": {
          "base_uri": "https://localhost:8080/"
        },
        "id": "dsUJsscmD3EO",
        "outputId": "044abc98-0489-43e1-a5ad-d62b19493964"
      },
      "outputs": [],
      "source": [
        "materias = ['ALGEBRA', 'GEOMETRIA', 'PROGRAMACION', 'ESTADISTICA']\n",
        "print(materias)\n",
        "#invertimos la lista\n",
        "materias.reverse()\n",
        "print(materias)"
      ]
    },
    {
      "cell_type": "markdown",
      "metadata": {
        "id": "P4_TzPlbETdO"
      },
      "source": [
        "Agregando elementos a una lista"
      ]
    },
    {
      "cell_type": "code",
      "execution_count": null,
      "metadata": {
        "colab": {
          "base_uri": "https://localhost:8080/"
        },
        "id": "owRx_RAnEYvT",
        "outputId": "b6fe6e81-8d26-4503-bf64-98f543185aa7"
      },
      "outputs": [],
      "source": [
        "materias.append(\"FINANZAS\")\n",
        "print(materias)"
      ]
    },
    {
      "cell_type": "code",
      "execution_count": null,
      "metadata": {
        "colab": {
          "base_uri": "https://localhost:8080/"
        },
        "id": "tHp_PnW5EpjL",
        "outputId": "f85b751e-88b6-4353-af94-5dd09d041e9d"
      },
      "outputs": [],
      "source": [
        "# Insertar 'álgebra superior' en la segunda posición\n",
        "materias.insert(1, \"ALGEBRA SUPERIOR\")\n",
        "print(materias)"
      ]
    },
    {
      "cell_type": "code",
      "execution_count": null,
      "metadata": {
        "colab": {
          "base_uri": "https://localhost:8080/"
        },
        "id": "VwwLBP4OExmn",
        "outputId": "0603f464-79a1-4abd-e94f-7e1edae24ca3"
      },
      "outputs": [],
      "source": [
        "#Obtener el índice de un elemento\n",
        "materias.index(\"GEOMETRIA\")"
      ]
    },
    {
      "cell_type": "markdown",
      "metadata": {
        "id": "pwOrB_RVFDFk"
      },
      "source": [
        "Algunos métodos modifican la lista original"
      ]
    },
    {
      "cell_type": "code",
      "execution_count": null,
      "metadata": {
        "colab": {
          "base_uri": "https://localhost:8080/"
        },
        "id": "IBg3RwSoFGK5",
        "outputId": "9ec8d16a-429b-4935-d082-126489728886"
      },
      "outputs": [],
      "source": [
        "#Ordena los elementos\n",
        "materias.sort()\n",
        "print(materias)"
      ]
    },
    {
      "cell_type": "code",
      "execution_count": null,
      "metadata": {
        "colab": {
          "base_uri": "https://localhost:8080/"
        },
        "id": "ZNJMu-uGFOWn",
        "outputId": "0affaaa0-a053-4f4c-fdcf-da79ab0d0585"
      },
      "outputs": [],
      "source": [
        "# list.pop: Obten último elemento y elimínalo de la lista\n",
        "extraccion = materias.pop()\n",
        "print(materias)\n",
        "print(extraccion)"
      ]
    },
    {
      "cell_type": "markdown",
      "metadata": {
        "id": "HMytMqcWFYWi"
      },
      "source": [
        "### Cadenas (*strings*) `str` y Listas `list`\n",
        "Los strings contienen métodos cuyos resultados o argumentos contienen listas"
      ]
    },
    {
      "cell_type": "markdown",
      "metadata": {
        "id": "IhupCqDKFzOp"
      },
      "source": [
        "### *Split*: de str a list"
      ]
    },
    {
      "cell_type": "code",
      "execution_count": null,
      "metadata": {
        "colab": {
          "base_uri": "https://localhost:8080/"
        },
        "id": "BKHyBmpCFjcO",
        "outputId": "ec6e9d62-7072-4f43-d111-11c5abec09ca"
      },
      "outputs": [],
      "source": [
        "# *Split*: de str a list\n",
        "\"Este es un string\".split()"
      ]
    },
    {
      "cell_type": "markdown",
      "metadata": {
        "id": "CFbIMxYdF5PD"
      },
      "source": [
        "### *join* de list a str"
      ]
    },
    {
      "cell_type": "code",
      "execution_count": null,
      "metadata": {
        "colab": {
          "base_uri": "https://localhost:8080/",
          "height": 35
        },
        "id": "9bDKvGdVFxkV",
        "outputId": "bbade2a8-f01d-4d2e-bcc6-8eb5216a05b0"
      },
      "outputs": [],
      "source": [
        "# *join* de list a str\n",
        "\" \".join([\"Esta\", \"es\", \"una\", \"lista\"])"
      ]
    },
    {
      "cell_type": "markdown",
      "metadata": {
        "id": "_mA-QhojGU3g"
      },
      "source": [
        "<h2 style=\"color:#B22222\"> Ejercicios </h2>\n",
        "\n",
        "1. Considera la lista `numeros0` y cálcula el valor promedio\n",
        "```python\n",
        "numeros0 = [1, 1, 2, 3, 5, 8, 13]\n",
        "```\n",
        "2. Considera la lista `numeros1` y cálcula la suma del primer, último y el número en medio de la lista (**nota:** El número de elementos en la lista es impar)\n",
        "```python\n",
        "numeros1 = [0, 7, 20, 11, 1, 17, 4, 13, 9, 0, 12, 18, 5, 10, 8, 0, 10, 6, 19, 19, 10, 9, 4, 4, 18, 18, 0]\n",
        "```\n",
        "3. Crea un programa que le pida al usuario una serie de números separados por un espacio `\" \"` y regrese la suma de todos los valores.\n",
        "4. Considerando `list1`, reemplaza cada elemento `\"a\"` por `\"*\"`.\n",
        "```python\n",
        "list1 = [\"a\", \"b\", \"a\", \"d\", \"a\", \"a\", \"c\"]\n",
        "```"
      ]
    },
    {
      "cell_type": "code",
      "execution_count": null,
      "metadata": {
        "colab": {
          "base_uri": "https://localhost:8080/"
        },
        "id": "2l41ZtU58qyc",
        "outputId": "a875865d-433e-49c3-b9f4-d5347dde598c"
      },
      "outputs": [],
      "source": [
        "#Solución Ej 1\n",
        "numeros0 = [1, 1, 2, 3, 5, 8, 13]\n",
        "suma = sum(numeros0)\n",
        "promedio = suma/len(numeros0)\n",
        "print(f\"La suma de la lista {numeros0} es {suma}\")\n",
        "print(f\"El promedio de la lista {numeros0} es {promedio}\")"
      ]
    },
    {
      "cell_type": "code",
      "execution_count": null,
      "metadata": {
        "colab": {
          "base_uri": "https://localhost:8080/"
        },
        "id": "faR8H8Js91-b",
        "outputId": "99964b2f-79fd-4a79-def0-90593d00b1dd"
      },
      "outputs": [],
      "source": [
        "#Solución Ej 2\n",
        "numeros1 = [1, 7, 20, 11, 1, 17, 4, 13, 9, 0, 12, 18, 5, 10, 8, 0, 10, 6, 19, 19, 10, 9, 4, 4, 18, 18, 2]\n",
        "primero = numeros1[0]\n",
        "ultimo =  numeros1[-1]\n",
        "print(primero,ultimo)\n",
        "posicionmedia = int(len(numeros1) / 2)\n",
        "print(posicionmedia)\n",
        "medio = numeros1[posicionmedia]\n",
        "print(\"La suma es: \",primero+medio+ultimo)"
      ]
    },
    {
      "cell_type": "code",
      "execution_count": null,
      "metadata": {
        "colab": {
          "base_uri": "https://localhost:8080/",
          "height": 106
        },
        "id": "dGefo7VHzjpv",
        "outputId": "50403b36-c3d0-4498-cb09-0e79984c8ade"
      },
      "outputs": [],
      "source": [
        "#Solución Ej 3\n",
        "listanumeros = input(\"Dame la lista de números separados con espacio:\")\n",
        "print(listanumeros)\n",
        "lista = listanumeros.split()\n",
        "print(lista)\n",
        "#Usaremos map para resolverlo\n",
        "lista2 = list(map(int,lista))\n",
        "print(lista2)\n",
        "print(f\" La suma de la lista {lista2} es {sum(lista2)}\")"
      ]
    },
    {
      "cell_type": "code",
      "execution_count": null,
      "metadata": {
        "colab": {
          "base_uri": "https://localhost:8080/",
          "height": 88
        },
        "id": "wjW4-npOzngD",
        "outputId": "ac021eb4-1d7f-4235-ce29-ba8e9651f209"
      },
      "outputs": [],
      "source": [
        "#Solución Ej 4\n",
        "list1 = [\"a\", \"b\", \"a\", \"d\", \"a\", \"a\", \"c\"]\n",
        "print(list1)\n",
        "cadena = \" \".join(list1)\n",
        "print(cadena)\n",
        "cadena = cadena.replace(\"a\",\"*\")\n",
        "print(cadena)\n",
        "list1 = cadena.split()\n",
        "print(list1)"
      ]
    },
    {
      "cell_type": "markdown",
      "metadata": {
        "id": "POw6F1I1vZUE"
      },
      "source": [
        "# (Tuplas)\n",
        "Una tupla es una colección de objetos ordenados que encierra sus elementos con paréntesis () y los separa con comas. Las tuplas son muy similares a las listas, y pueden almacenar objetos de tipo distinto como enteros y *strings* entre otros. Sin embargo, al contrario que las listas presentan la propiedad de **inmutabilidad**. Esto implica que **los elementos de una tupla no pueden reasignarse (modificarse)**. El siguiente ejemplo ilustra estos dos conceptos"
      ]
    },
    {
      "cell_type": "code",
      "execution_count": null,
      "metadata": {
        "colab": {
          "base_uri": "https://localhost:8080/",
          "height": 52
        },
        "id": "256Hmilbvh26",
        "outputId": "a0b2196d-afaf-4efd-efa3-e5bd8e45cdf9"
      },
      "outputs": [],
      "source": [
        "materias = (\"CALCULO\", \"FINANZAS\", \"OPTIMIZACION\", \"GEOMETRIA\", \"PROGRAMACION\", \"ESTADISTICA\")\n",
        "otratupla = (1,\"dos\",3)\n",
        "print(type(materias))\n",
        "print(type(otratupla))"
      ]
    },
    {
      "cell_type": "markdown",
      "metadata": {
        "id": "7Kff4p3gvnv4"
      },
      "source": [
        "### Propiedades de una *tupla*:"
      ]
    },
    {
      "cell_type": "code",
      "execution_count": null,
      "metadata": {
        "colab": {
          "base_uri": "https://localhost:8080/",
          "height": 52
        },
        "id": "JuiEj6UMvrja",
        "outputId": "f852c230-dfc2-4512-bdaf-85c8d6d18b94"
      },
      "outputs": [],
      "source": [
        "print(materias[0])\n",
        "print(otratupla[1])"
      ]
    },
    {
      "cell_type": "code",
      "execution_count": null,
      "metadata": {
        "id": "q4XEX5BTvvUS"
      },
      "outputs": [],
      "source": [
        "materias[0] = \"PROBABILIDAD\" #Nos marcará error pues una tupla es inmutable"
      ]
    },
    {
      "cell_type": "markdown",
      "metadata": {
        "id": "SUGw1NK6wEo1"
      },
      "source": [
        "### ¿Por qué usar *tuplas*?\n",
        "A pesar de todas sus similitudes, existen diferentes motivos por los cuales optar por una tupla y no una lista::\n",
        "\n",
        "* Manipular tuplas agiliza la ejecución del programa en comparación con una lista equivalente (aunque esta diferencia no sea apreciable con tamaños pequeños de listas o tuplas).\n",
        "* Cuando quieres que los datos sean constantes durante toda la ejecución del programa y no puedan modificarse accidentalmente.\n",
        "* En los diccionarios el objeto de una clave tiene que ser inmutable, por tanto puede ser una tupla pero no una lista."
      ]
    },
    {
      "cell_type": "markdown",
      "metadata": {
        "id": "VugabwJqzBGL"
      },
      "source": [
        "### Empaquetar y desempaquetar una tupla\n",
        "Las tuplas también pueden declararse sin necesidad de usar paréntesis. Cual sea el caso, la declaración de una tupla también se le denomina «empaquetar» la tupla (*tuple packing en inglés*), ya que todos sus elementos quedan asociados a un solo objeto."
      ]
    },
    {
      "cell_type": "code",
      "execution_count": null,
      "metadata": {
        "colab": {
          "base_uri": "https://localhost:8080/",
          "height": 52
        },
        "id": "zNxVKDcUzSw5",
        "outputId": "c2ee9344-7ea3-40e4-bd74-c5b606ab999d"
      },
      "outputs": [],
      "source": [
        " #Las tuplas pueden declararse sin los paréntesis\n",
        " t = 'uno', 'dos', 'tres', 'cuatro'\n",
        " print(type(t))\n",
        " print(t)"
      ]
    },
    {
      "cell_type": "markdown",
      "metadata": {
        "id": "lPZnGBchzksN"
      },
      "source": [
        "En el caso tuplas con un solo elemento hay que añadir una coma para que el intérprete de Python lo considere una tupla."
      ]
    },
    {
      "cell_type": "code",
      "execution_count": null,
      "metadata": {
        "colab": {
          "base_uri": "https://localhost:8080/",
          "height": 52
        },
        "id": "u8nf0RhvzoUd",
        "outputId": "5fbd8ee6-91e6-4f7c-a9a6-6541004e1def"
      },
      "outputs": [],
      "source": [
        "t = 1\n",
        "print(type(t))\n",
        "t = 1,\n",
        "print(type(t))"
      ]
    },
    {
      "cell_type": "markdown",
      "metadata": {
        "id": "CGDvOGHb0FG_"
      },
      "source": [
        "Al paso inverso se le denomina «desempaquetar» la tupla (*tuple unpacking* en inglés), ya que los elementos de la tupla se copian en objetos distintos.\n",
        "\n"
      ]
    },
    {
      "cell_type": "code",
      "execution_count": null,
      "metadata": {
        "colab": {
          "base_uri": "https://localhost:8080/",
          "height": 88
        },
        "id": "j1nhIfw_0Nmr",
        "outputId": "3946c13e-2412-46d3-98f5-3cab02779daf"
      },
      "outputs": [],
      "source": [
        "#Brujería\n",
        "t = ('Belinda', '31', 'Cantante', 'México')\n",
        "nombre,edad,profesion,pais = t\n",
        "print(f\"Nombre: {nombre} \\nEdad: {edad}\\nProfesión: {profesion}\\nPaís donde radica: {pais}\")\n"
      ]
    },
    {
      "cell_type": "markdown",
      "metadata": {
        "id": "g4VuYjO41Re3"
      },
      "source": [
        "El número de objetos declarados para «desempaquetar» la tupla tiene que coincidir con el número de elementos de la tupla, ya que en caso contrario el intérprete lanza un error del tipo ValueError."
      ]
    },
    {
      "cell_type": "markdown",
      "metadata": {
        "id": "42fLvizH1mtN"
      },
      "source": [
        "### Métodos de las tuplas\n",
        "Las tuplas cuentan con dos métodos:\n",
        "\n",
        "**t.count(x)** : cuenta el número de veces que el elemento x está en la tupla t.\n",
        "```\n",
        "t.count(x)\n",
        "```\n",
        "\n"
      ]
    },
    {
      "cell_type": "code",
      "execution_count": null,
      "metadata": {
        "colab": {
          "base_uri": "https://localhost:8080/",
          "height": 34
        },
        "id": "y5H_Yz8-2L-X",
        "outputId": "25c1d001-1307-4bb5-b2e6-6b296116e10b"
      },
      "outputs": [],
      "source": [
        "t = (1, 1, 2, 3)\n",
        "print(t.count(1))"
      ]
    },
    {
      "cell_type": "markdown",
      "metadata": {
        "id": "mRhoSm5k2Sgb"
      },
      "source": [
        "t.index(x) : retorna el índice más pequeño del elemento x en la tupla t.\n",
        "\n",
        "\n",
        "```\n",
        "t.index(x)\n",
        "```\n",
        "\n"
      ]
    },
    {
      "cell_type": "code",
      "execution_count": null,
      "metadata": {
        "colab": {
          "base_uri": "https://localhost:8080/",
          "height": 34
        },
        "id": "2nzkPW022a0t",
        "outputId": "48f54c9d-bf5b-459e-b73b-e2bd7e803a21"
      },
      "outputs": [],
      "source": [
        "t = (1, 1, 2, 3)\n",
        "print(t.index(3))"
      ]
    },
    {
      "cell_type": "markdown",
      "metadata": {
        "id": "xCmE-MTg2req"
      },
      "source": [
        "### Conversión entre listas y tuplas\n",
        "La conversión entre estos dos tipos de objetos es muy sencilla. Si queremos convertir una lista en una tupla tenemos que usar declarar la tupla pasandole la lista en el constructor."
      ]
    },
    {
      "cell_type": "code",
      "execution_count": null,
      "metadata": {
        "colab": {
          "base_uri": "https://localhost:8080/",
          "height": 34
        },
        "id": "Urm3wq-t2x3T",
        "outputId": "3d6cdfdd-faea-4043-a4ce-6f4f7a4248ee"
      },
      "outputs": [],
      "source": [
        " lista = [1, 2, 3, 4]\n",
        " tupla = tuple(lista)\n",
        " print(tupla)"
      ]
    },
    {
      "cell_type": "markdown",
      "metadata": {
        "id": "mCpeE4VP26QR"
      },
      "source": [
        "El paso inverso es equivalente, pero pasándole la tupla al constructor de la lista."
      ]
    },
    {
      "cell_type": "code",
      "execution_count": null,
      "metadata": {
        "colab": {
          "base_uri": "https://localhost:8080/",
          "height": 34
        },
        "id": "0IyrWHuG28O4",
        "outputId": "90a1c629-af23-4cfb-8537-90b6858ed2c7"
      },
      "outputs": [],
      "source": [
        " tupla = (1, 2, 3, 4)\n",
        " lista = list(tupla)\n",
        " print(lista)"
      ]
    },
    {
      "cell_type": "markdown",
      "metadata": {
        "id": "a7XUMc2Z3XD_"
      },
      "source": [
        "# {Diccionaries: Values}\n",
        "Hasta el momento hemos visto colecciones de elementos ordenados por un único índice numérico. Ahora veremos otra clase de objetos, los **diccionarios**, los cuáles son listas asociativas indexadas por llave; no por orden.\n",
        "\n",
        "La sintáxis de un diccionario:\n",
        "```python\n",
        "{llave1: valor1,\n",
        " llave2: valor2,\n",
        " ...\n",
        " llaven: valorn}\n",
        "```"
      ]
    },
    {
      "cell_type": "markdown",
      "metadata": {
        "id": "3oWLyWnE367R"
      },
      "source": [
        "Los diccionarios almacenan pares de objetos clave-valor. En contraste con las listas, los diccionarios no garantizan que se mantenga el orden en que sus objetos han sido almacenados. Además, en un diccionario el acceso a un objeto se realiza indicando la clave de ese objeto. Este es otro elemento diferenciador entre diccionarios y listas, donde el acceso a los objetos se realiza indicando la posición que ocupan. Los diccionarios utilizan llaves ({}) para encerrar a sus elementos, y dos puntos (:) para indicar las claves y sus valores asociados."
      ]
    },
    {
      "cell_type": "code",
      "execution_count": null,
      "metadata": {
        "colab": {
          "base_uri": "https://localhost:8080/",
          "height": 34
        },
        "id": "Q6qLskPj4Dv5",
        "outputId": "44d513c5-a709-4475-f42c-fcbd7be4ccfc"
      },
      "outputs": [],
      "source": [
        "diccionario = {'clave1':'valor1', 'clave2':'valor2'}\n",
        "print(type(diccionario))"
      ]
    },
    {
      "cell_type": "code",
      "execution_count": null,
      "metadata": {
        "colab": {
          "base_uri": "https://localhost:8080/",
          "height": 34
        },
        "id": "xx1BpQUpo2r9",
        "outputId": "b9ed2bd5-93ff-4237-b6fe-0dd3ed04c9f8"
      },
      "outputs": [],
      "source": [
        "#Longitud (número de elementos) del diccionario\n",
        "print(len(diccionario))"
      ]
    },
    {
      "cell_type": "markdown",
      "metadata": {
        "id": "pdvuG88L75eO"
      },
      "source": [
        "## Tipos de clave-valor permitidos.\n",
        "Los diccionarios pueden tratar con prácticamente cualquier tipo de dato y existen muy pocas restricciones en cuanto a las claves y valores que se pueden utilizar. Estas restricciones son las siguientes:\n",
        "\n",
        "* **Claves**: no puede haber claves duplicadas y éstas tienen que ser objetos inmutables.\n",
        "* **Valores**: no existe ninguna restricción en cuanto a los tipos de datos.\n"
      ]
    },
    {
      "cell_type": "markdown",
      "metadata": {
        "id": "YLXM0sPQ8ZHX"
      },
      "source": [
        "En el siguiente ejemplo vemos un diccionario con claves de distinto tipo: string, número entero, número en coma flotante, e incluso booleano. Así mismo el valor que se toma para las claves repetidas es el último que se ha definido. Es por ello que el valor asociado a la clave «2» es False."
      ]
    },
    {
      "cell_type": "code",
      "execution_count": null,
      "metadata": {
        "colab": {
          "base_uri": "https://localhost:8080/",
          "height": 34
        },
        "id": "sABrUCAb8bj3",
        "outputId": "9b09e68c-a4b7-4263-81cf-2019d08f1382"
      },
      "outputs": [],
      "source": [
        "diccionario = {'clave1':'valor1', 2:2.5, 3.1:3, True:['a','b','c'], 2:False}\n",
        "print(diccionario)"
      ]
    },
    {
      "cell_type": "markdown",
      "metadata": {
        "id": "eA2WLh8v8xYC"
      },
      "source": [
        "## Acceder y modificar los objetos de un diccionario\n",
        "Para acceder a un objeto determinado de un diccionario tenemos que indicar entre corchetes el nombre de su clave. De modo muy similar podemos modificar el valor de una clave asignándole un nuevo valor mediante el signo igual (=). Además, también podemos añadir un nuevo par clave-valor indicando simplemente el nombre de la clave a añadir. Estas operaciones se ilustran en el siguiente bloque de código donde:\n",
        "* i) accedemos al precio de las manzanas,\n",
        "* ii) modificamos el precio de las manzanas y\n",
        "* iii) añadimos el precio del agua al diccionario de precios."
      ]
    },
    {
      "cell_type": "code",
      "execution_count": null,
      "metadata": {
        "colab": {
          "base_uri": "https://localhost:8080/",
          "height": 70
        },
        "id": "Xmmpa4HO9Ej8",
        "outputId": "a29693ad-47a0-4f25-fc0d-3b9854d1cefe"
      },
      "outputs": [],
      "source": [
        "precios = {'pasta':0.9, 'patatas':2.55, 'manzanas':0.35}\n",
        "#Accedemos al precio de las manzanas\n",
        "print(\"El precio de las manzanas es: \",precios['manzanas'])\n",
        "#Cambiamos el precio de las manzanas\n",
        "precios['manzanas'] = 0.29\n",
        "print(\"El precio de las manzanas es: \",precios['manzanas'])\n",
        "#Añadimos el precio del agua al diccionario\n",
        "precios[\"agua\"] = 1.50\n",
        "print(precios)"
      ]
    },
    {
      "cell_type": "markdown",
      "metadata": {
        "id": "mCExnaaW9-Xo"
      },
      "source": [
        "## Métodos comunes de los diccionarios\n",
        "\n",
        "En este apartado vemos algunos de los métodos más útiles para manipular diccionarios.\n",
        "* **d.keys()**: devuelve una lista que contiene las llaves del diccionario."
      ]
    },
    {
      "cell_type": "code",
      "execution_count": null,
      "metadata": {
        "colab": {
          "base_uri": "https://localhost:8080/",
          "height": 34
        },
        "id": "MsWEVJBznEDY",
        "outputId": "2a4bad21-ddc9-439c-d262-e6a8c5fa60ca"
      },
      "outputs": [],
      "source": [
        " capitales = {'Inglaterra':'Londres', 'Francia':'Paris', 'Italia':'Roma'}\n",
        " print(list(capitales.keys()))"
      ]
    },
    {
      "cell_type": "markdown",
      "metadata": {
        "id": "UPLYEulbnUqk"
      },
      "source": [
        "* **d.values()**: devuelve una lista que contiene los valores del diccionario."
      ]
    },
    {
      "cell_type": "code",
      "execution_count": null,
      "metadata": {
        "colab": {
          "base_uri": "https://localhost:8080/",
          "height": 34
        },
        "id": "0cpVTMlOnXPw",
        "outputId": "2610d305-af11-4ef7-bae6-a911151a72a6"
      },
      "outputs": [],
      "source": [
        " capitales = {'Inglaterra':'Londres', 'Francia':'Paris', 'Italia':'Roma'}\n",
        " print(list(capitales.values()))"
      ]
    },
    {
      "cell_type": "markdown",
      "metadata": {
        "id": "7DKZsKIJneB2"
      },
      "source": [
        "* **d.clear()**: elimina todos los elementos del diccionario."
      ]
    },
    {
      "cell_type": "code",
      "execution_count": null,
      "metadata": {
        "colab": {
          "base_uri": "https://localhost:8080/",
          "height": 34
        },
        "id": "OYOmUpGWniYg",
        "outputId": "6d197b33-0f07-491e-b196-f69060f19a51"
      },
      "outputs": [],
      "source": [
        "capitales = {'Inglaterra':'Londres', 'Francia':'Paris', 'Italia':'Roma'}\n",
        "capitales.clear()\n",
        "print(capitales)"
      ]
    },
    {
      "cell_type": "markdown",
      "metadata": {
        "id": "70rldvVHnsAL"
      },
      "source": [
        "* **d.get(clave, valor_por_defecto)**: devuelve el valor de la clave indicada en caso que ésta exista. En caso contrario devuelve el valor por defecto."
      ]
    },
    {
      "cell_type": "code",
      "execution_count": null,
      "metadata": {
        "colab": {
          "base_uri": "https://localhost:8080/",
          "height": 34
        },
        "id": "3r9gKjYAnvMY",
        "outputId": "69d87c38-b7b8-4fad-8d91-4ccc7cc55ff8"
      },
      "outputs": [],
      "source": [
        "capitales = {'Inglaterra':'Londres', 'Francia':'Paris', 'Italia':'Roma'}\n",
        "capital = capitales.get('Francia', 'Desconocida')\n",
        "print(capital)"
      ]
    },
    {
      "cell_type": "markdown",
      "metadata": {
        "id": "qsajVGtln8qZ"
      },
      "source": [
        "* **d.pop(clave, valor_por_defecto)**: elimina la clave indicada y devuelve su valor. En caso que el diccionario no contenga la clave especificada, retorna el valor por defecto."
      ]
    },
    {
      "cell_type": "code",
      "execution_count": null,
      "metadata": {
        "colab": {
          "base_uri": "https://localhost:8080/",
          "height": 68
        },
        "id": "ftGntr-MoACR",
        "outputId": "256a821f-3580-4652-bfe5-6e2e47522a0d"
      },
      "outputs": [],
      "source": [
        "capitales = {'Inglaterra':'Londres', 'Francia':'Paris', 'Italia':'Roma'}\n",
        "capital = capitales.pop('Francia')\n",
        "print(capital)\n",
        "print(capitales)\n",
        "capital = capitales.pop('Alemania', 'Berlin')\n",
        "print(capital)"
      ]
    },
    {
      "cell_type": "markdown",
      "metadata": {
        "id": "0PTB3GyariD1"
      },
      "source": [
        "* **d.items()**: devuelve una lista de tuplas con dos elementos. Primero la llave y segundo los valores."
      ]
    },
    {
      "cell_type": "code",
      "execution_count": null,
      "metadata": {
        "colab": {
          "base_uri": "https://localhost:8080/",
          "height": 88
        },
        "id": "BSPn1qZrru8I",
        "outputId": "bc188435-727d-4217-b0c2-ca7c18241eef"
      },
      "outputs": [],
      "source": [
        "alumnos = {\n",
        "    \"José\":    [11, \"rojo\", \"Administración\"],\n",
        "    \"Charlie\": [33, \"Violeta\", \"Ingeniería\"],\n",
        "    \"Luis\": [23, \"Negro\", \"Matemáticas\"],\n",
        "    \"Johanna\": [18, \"Gris\", \"Finanzas\"]\n",
        "}\n",
        "print(\"Diccionario:\", alumnos,\"\\n\")\n",
        "#Lista con las tuplas\n",
        "listatup = list(alumnos.items())\n",
        "print(listatup)"
      ]
    },
    {
      "cell_type": "code",
      "execution_count": null,
      "metadata": {
        "colab": {
          "base_uri": "https://localhost:8080/",
          "height": 51
        },
        "id": "yId6gaSPIs8p",
        "outputId": "cb7e8881-de9d-4273-cd5f-408f0a55b0dc"
      },
      "outputs": [],
      "source": [
        "llave,datos = listatup[0]\n",
        "print(llave)\n",
        "print(datos)"
      ]
    },
    {
      "cell_type": "markdown",
      "metadata": {
        "id": "fnHk_hnGsxEZ"
      },
      "source": [
        "## {Conjuntos} o {Sets}\n",
        "\n",
        "Un `set` (conjunto) es una colección no ordenada de valores únicos. Para dos conjuntos `A`, `B` y valores `a` dentro de `A` y `b` dentro de `B`, se cumplen con las siguientes características\n",
        "* `A & B` (Intersección): Elementos en `A` y en `B`\n",
        "* `A | B` (Unión): Elementos en `A` o en `B`\n",
        "* `A - B` (Diferencia): Elementos en `A` no presentes en `B`\n",
        "* `A ^ B` (Diferencia Simétrica): Elementos en cualquiera de los conjuntos `A` o `B`, mas no en los dos.\n",
        "* `A <= B` (Subconjunto): Prueba si todos los elementos en `A` se encuentran dentro de `B`\n",
        "* `A >= B` (Superconjunto): Prueba si todos los elementos en `B` se encuentran dentro de `A`"
      ]
    },
    {
      "cell_type": "code",
      "execution_count": null,
      "metadata": {
        "id": "kVEDUL4ks22r"
      },
      "outputs": [],
      "source": [
        "vocales = {'a', 'e', 'i', 'o', 'u'}\n",
        "p1 = {'c', 'a', 'r', 'r', 'o'}"
      ]
    },
    {
      "cell_type": "code",
      "execution_count": null,
      "metadata": {
        "colab": {
          "base_uri": "https://localhost:8080/",
          "height": 34
        },
        "id": "zh6UhEyes7c4",
        "outputId": "d4823e0d-e5a8-4fe6-92ca-f96ff7ff9ed2"
      },
      "outputs": [],
      "source": [
        "p1 & vocales"
      ]
    },
    {
      "cell_type": "code",
      "execution_count": null,
      "metadata": {
        "colab": {
          "base_uri": "https://localhost:8080/",
          "height": 34
        },
        "id": "NA-NY8SItA5O",
        "outputId": "3bef6428-de1e-438a-9988-6d11c5b12e6d"
      },
      "outputs": [],
      "source": [
        "p1 | vocales"
      ]
    },
    {
      "cell_type": "code",
      "execution_count": null,
      "metadata": {
        "colab": {
          "base_uri": "https://localhost:8080/",
          "height": 34
        },
        "id": "5s7ooVOjtDEr",
        "outputId": "6894f84d-e9b6-4f67-c6e2-66dad0e16a72"
      },
      "outputs": [],
      "source": [
        "p1 - vocales"
      ]
    },
    {
      "cell_type": "code",
      "execution_count": null,
      "metadata": {
        "colab": {
          "base_uri": "https://localhost:8080/",
          "height": 34
        },
        "id": "3WG2J-JrtGzo",
        "outputId": "dd04cb7e-f1c8-4a77-82cb-5fc9c2b7c419"
      },
      "outputs": [],
      "source": [
        "p1 ^ vocales"
      ]
    },
    {
      "cell_type": "code",
      "execution_count": null,
      "metadata": {
        "colab": {
          "base_uri": "https://localhost:8080/",
          "height": 34
        },
        "id": "0vFYAeeWtYti",
        "outputId": "39cede26-dd99-4f9a-fd5e-ee0f56c28ecf"
      },
      "outputs": [],
      "source": [
        "len(p1)"
      ]
    },
    {
      "cell_type": "markdown",
      "metadata": {
        "id": "jbBz-fwZteJx"
      },
      "source": [
        "<h2 style=\"color:#B22222\"> Ejercicios </h2>\n",
        "\n",
        "1. Dado el diccionario `vocales`, accede al primer elemento dentro de la llave `\"minusculas\"`\n",
        "```python\n",
        "vocales = {\n",
        "    \"mayusculas\": ['A', 'E', 'I', 'O', 'U'],\n",
        "    \"minusculas\": ['a', 'e', 'i', 'o', 'u']\n",
        "}\n",
        "```\n",
        "2. Modifica el diccionario `alumnos` de tal manera que cada llave del diccionario sea el nombre del estudiante y el valor un diccionario adicional con las llaves `\"edad\"`, `\"color_favorito\"`, `\"carrera\"`, asignados a sus valores correspondientes.\n",
        "3. ¿Cuál es la longitud del set `{'q', 'u', 'e', 'u', 'e'}`? Explica.\n",
        "4. Considerando los conjuntos `investor1`, `investor2` e `investor3`\n",
        "    * Encuentra todas las acciones que `investor1`, `investor2`, `investor3` e `investor4` tienen en conjunto\n",
        "    * Encuentra las acciones que `investor1`, `investor3` e `investor4` tienen en común\n",
        "\n",
        "```python\n",
        "investor1 = {'HOTEL', 'CHDRAUI', 'ALPEK', 'VISTA', 'MFRISCO', 'AHMSA', 'LAB', 'SPORT', 'SAVIA', 'LASEG'}\n",
        "investor2 = {'CMOCTEZ', 'BEVIDES', 'OMA', 'GNP', 'AGRIEXP', 'SPORT', 'TRAXION', 'GENTERA', 'COLLADO', 'LAMOSA'}\n",
        "investor3 = {'FEMSA', 'ALSEA', 'BIMBO', 'ELEMENT', 'FINAMEX', 'GCC', 'VISTA', 'GEO', 'IENOVA', 'OMA', 'CADU', 'ANB', 'AUTLAN', 'GICSA', 'GFNORTE', 'IDEAL', 'MEXCHEM', 'ELEKTRA', 'SITES', 'CABLE'}\n",
        "investor4 = {'GENTERA', 'BOLSA', 'VISTA', 'TEAK', 'ACCELSA', 'CUERVO', 'TEKCHEM', 'QBINDUS', 'MEDICA', 'URBI', 'CIE', 'NEMAK', 'KIMBER', 'GPH', 'GMD', 'ACTINVR', 'GAP', 'JAVER', 'INGEAL', 'ARA'}\n",
        "```"
      ]
    },
    {
      "cell_type": "code",
      "execution_count": null,
      "metadata": {
        "colab": {
          "base_uri": "https://localhost:8080/",
          "height": 34
        },
        "id": "f006Jr7lKu2v",
        "outputId": "c348a0e0-1670-421e-c4ed-c174ede0ad7b"
      },
      "outputs": [],
      "source": [
        "#Ejercicio 1\n",
        "vocales = {\n",
        " \"mayusculas\": ['A', 'E', 'I', 'O', 'U'],\n",
        " \"minusculas\": ['a', 'e', 'i', 'o', 'u']\n",
        "}\n",
        "valores = vocales[\"minusculas\"]\n",
        "print(valores[0])"
      ]
    },
    {
      "cell_type": "code",
      "execution_count": null,
      "metadata": {
        "colab": {
          "base_uri": "https://localhost:8080/",
          "height": 51
        },
        "id": "bT1gMHpyL5ZU",
        "outputId": "551eb544-d310-439b-8cdc-4496e4470e77"
      },
      "outputs": [],
      "source": [
        "#Ejercicio 2\n",
        "# \"edad\", \"color_favorito\", \"carrera\"\n",
        "alumnos = {\n",
        "    \"José\":    {\"edad\":11, \"color_favorito\":\"rojo\", \"carrera\":\"Administración\"},\n",
        "    \"Charlie\": {\"edad\":33, \"color_favorito\":\"Violeta\", \"carrera\":\"Ingeniería\"},\n",
        "    \"Luis\": {\"edad\":23, \"color_favorito\":\"Negro\", \"carrera\":\"Matemáticas\"},\n",
        "    \"Johanna\": {\"edad\":18, \"color_favorito\":\"Gris\", \"carrera\":\"Finanzas\"}\n",
        "}\n",
        "\n",
        "dicc = alumnos[\"Luis\"]\n",
        "print(type(dicc))\n",
        "print(dicc)"
      ]
    }
  ],
  "metadata": {
    "colab": {
      "provenance": []
    },
    "kernelspec": {
      "display_name": "Python 3",
      "name": "python3"
    }
  },
  "nbformat": 4,
  "nbformat_minor": 0
}
