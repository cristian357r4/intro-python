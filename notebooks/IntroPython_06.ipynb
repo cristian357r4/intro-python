{
 "cells": [
  {
   "cell_type": "markdown",
   "metadata": {},
   "source": [
    "# Práctica de Seaborn\n",
    "\n",
    "### Introducción\n",
    "\n",
    "En esta sesión analizaremos la biblioteca de visualización: Seaborn. Este cuaderno se basa en el material del curso de visualización de Kaggle disponible [aquí](https://www.kaggle.com/learn/data-visualization).\n",
    "\n",
    "Según su documentación `Seaborn` es una biblioteca de visualización de datos de Python basada en matplotlib. Proporciona una interfaz de alto nivel para dibujar gráficos estadísticos atractivos e informativos.\n",
    "\n",
    "La documentación de la biblioteca puede consultarse [aquí](https://seaborn.pydata.org/)."
   ]
  },
  {
   "cell_type": "markdown",
   "metadata": {},
   "source": [
    "### Importamos las bibliotecas necesarias"
   ]
  },
  {
   "cell_type": "code",
   "execution_count": null,
   "metadata": {},
   "outputs": [],
   "source": [
    "import pandas as pd\n",
    "import matplotlib.pyplot as plt\n",
    "import seaborn as sns\n",
    "print(\"¡Listo!\")"
   ]
  },
  {
   "cell_type": "markdown",
   "metadata": {},
   "source": [
    "### Cargamos los datos\n",
    "\n",
    "En este cuaderno, trabajaremos con un conjunto de datos de clasificaciones históricas de la FIFA para seis países: Argentina (ARG), Brasil (BRA), España (ESP), Francia (FRA), Alemania (GER) e Italia (ITA). El conjunto de datos se almacena como un archivo CSV (abreviatura de archivo de valores separados por comas)."
   ]
  },
  {
   "cell_type": "code",
   "execution_count": null,
   "metadata": {},
   "outputs": [],
   "source": [
    "# Path of the file to read\n",
    "fifa_filepath = \"https://raw.githubusercontent.com/vbatiz/intro-python/main/notebooks/data/fifa.csv\"\n",
    "\n",
    "# Read the file into a variable fifa_data\n",
    "fifa_data = pd.read_csv(fifa_filepath, index_col=\"Date\", parse_dates=True)"
   ]
  },
  {
   "cell_type": "markdown",
   "metadata": {},
   "source": [
    "### Revisamos los datos"
   ]
  },
  {
   "cell_type": "code",
   "execution_count": null,
   "metadata": {},
   "outputs": [],
   "source": [
    "fifa_data.head()"
   ]
  },
  {
   "cell_type": "code",
   "execution_count": null,
   "metadata": {},
   "outputs": [],
   "source": [
    "fifa_data.tail()"
   ]
  },
  {
   "cell_type": "markdown",
   "metadata": {},
   "source": [
    "### Gráfica inicial\n",
    "\n",
    "Una leve muestra de lo que revisaremos."
   ]
  },
  {
   "cell_type": "code",
   "execution_count": null,
   "metadata": {},
   "outputs": [],
   "source": [
    "# Fijar el ancho y alto en pulgadas de la figura\n",
    "plt.figure(figsize=(16,6))\n",
    "\n",
    "# Gráfico de líneas mostrando la evolución del ranking FIFA Varonil para los países de Argentina, Brasil, España, Francia, Alemania e Italia.\n",
    "sns.lineplot(data=fifa_data)"
   ]
  },
  {
   "cell_type": "markdown",
   "metadata": {},
   "source": [
    "### Gráficos de líneas"
   ]
  },
  {
   "cell_type": "markdown",
   "metadata": {},
   "source": [
    "#### Seleccionamos el dataset\n",
    "\n",
    "El conjunto de datos que usaremos rastrea los streams diarios globales en el servicio de streaming de música Spotify. Nos centramos en cinco canciones populares de 2017 y 2018:\n",
    "\n",
    "1. \"Shape of You\", de Ed Sheeran\n",
    "2. \"Despacito\", de Luis Fonzi \n",
    "3. \"Something Just Like This\", de The Chainsmokers y Coldplay\n",
    "4. \"HUMBLE.\", de Kendrick Lamar \n",
    "5. \"Unforgettable\", de French Montana"
   ]
  },
  {
   "cell_type": "code",
   "execution_count": null,
   "metadata": {},
   "outputs": [],
   "source": [
    "# Ruta al archivo\n",
    "spotify_filepath = \"https://raw.githubusercontent.com/vbatiz/intro-python/main/notebooks/data/spotify.csv\"\n",
    "\n",
    "# Cargamos el archivo en la variable spotify_data\n",
    "spotify_data = pd.read_csv(spotify_filepath, index_col=\"Date\", parse_dates=True)"
   ]
  },
  {
   "cell_type": "markdown",
   "metadata": {},
   "source": [
    "#### Revisamos los datos"
   ]
  },
  {
   "cell_type": "code",
   "execution_count": null,
   "metadata": {},
   "outputs": [],
   "source": [
    "spotify_data.head()"
   ]
  },
  {
   "cell_type": "code",
   "execution_count": null,
   "metadata": {},
   "outputs": [],
   "source": [
    "spotify_data.tail()"
   ]
  },
  {
   "cell_type": "markdown",
   "metadata": {},
   "source": [
    "#### Graficamos los datos"
   ]
  },
  {
   "cell_type": "code",
   "execution_count": null,
   "metadata": {},
   "outputs": [],
   "source": [
    "# Gráfico de líneas que muestra las reproducciones globales diarias de cada canción \n",
    "sns.lineplot(data=spotify_data)"
   ]
  },
  {
   "cell_type": "markdown",
   "metadata": {},
   "source": [
    "Así como lo hicimos en la práctica de matplotlib, podemos agregar detalles a nuestro gráfico."
   ]
  },
  {
   "cell_type": "code",
   "execution_count": null,
   "metadata": {},
   "outputs": [],
   "source": [
    "# Cambiaremos el ancho y alto de la gráfica\n",
    "plt.figure(figsize=(14,6))\n",
    "\n",
    "# Agregamos título\n",
    "plt.title(\"Reproducciones mundiales diarias de canciones populares en 2017-2018\")\n",
    "\n",
    "# Gráfico de líneas mostrando las reproducciones mundiales diarias de canciones populares en 2017-2018 \n",
    "sns.lineplot(data=spotify_data)"
   ]
  },
  {
   "cell_type": "markdown",
   "metadata": {},
   "source": [
    "#### Grafiquemos un subconjunto de los datos\n",
    "\n",
    "Primero revisemos las columnas que tiene nuestro conjunto de datos"
   ]
  },
  {
   "cell_type": "code",
   "execution_count": null,
   "metadata": {},
   "outputs": [],
   "source": [
    "print(list(spotify_data.columns))"
   ]
  },
  {
   "cell_type": "markdown",
   "metadata": {},
   "source": [
    "Graficaremos las reproducciones de \"Shape of you\" y \"Despacito\"."
   ]
  },
  {
   "cell_type": "code",
   "execution_count": null,
   "metadata": {},
   "outputs": [],
   "source": [
    "# Cambiaremos el ancho y alto de la gráfica\n",
    "plt.figure(figsize=(14,6))\n",
    "\n",
    "# Agregamos título\n",
    "plt.title(\"Reproducciones mundiales diarias de canciones populares en 2017-2018\")\n",
    "\n",
    "# Gráfico de líneas mostrando las reproducciones mundiales diarias de 'Shape of You'\n",
    "sns.lineplot(data=spotify_data['Shape of You'], label=\"Shape of You\")\n",
    "\n",
    "# Gráfico de líneas mostrando las reproducciones mundiales diarias de 'Despacito'\n",
    "sns.lineplot(data=spotify_data['Despacito'], label=\"Despacito\")\n",
    "\n",
    "# Agregamos etiqueta para el eje x\n",
    "plt.xlabel(\"Fecha\")\n",
    "\n",
    "# Agregamos etiqueta para el eje y\n",
    "plt.ylabel(\"Número de reproducciones\")"
   ]
  },
  {
   "cell_type": "markdown",
   "metadata": {},
   "source": [
    "### Gráficos de barras y mapas de calor\n",
    "\n",
    "Utilice el color o la longitud para comparar categorías en un conjunto de datos"
   ]
  },
  {
   "cell_type": "markdown",
   "metadata": {},
   "source": [
    "#### Gráfico de barras"
   ]
  },
  {
   "cell_type": "markdown",
   "metadata": {},
   "source": [
    "##### Seleccionamos el dataset\n",
    "\n",
    "En este caso utilizaremos un conjunto de datos del Departamento de Transporte de EE.UU. que registra los retrasos promedio en arrivo de los vuelos. El conjunto de datos muestra una fila para cada mes (donde 1 = enero, 2 = febrero, etc.) y una columna para cada código de línea aérea. Los datos son todos del año 2015. Los valores negativos indican que los vuelos en promedio llegaron antes de la hora estimada.\n",
    "\n",
    "\n",
    "- AA = American Airlines Inc.\n",
    "- AS = Alaska Airlines Inc.\n",
    "- B6 = JetBlue Airways\n",
    "- DL = Delta Air Lines Inc.\n",
    "- EV = ExpressJet Airlines LLC\n",
    "- F9 = Frontier Airlines Inc.\n",
    "- HA = Hawaiian Airlines Inc.\n",
    "- MQ = Envoy Air\n",
    "- NK = Spirit Air Lines\n",
    "- OO = SkyWest Airlines Inc.\n",
    "- UA = United Air Lines Inc.\n",
    "- US = USAirways\n",
    "- VX = Virgin America\n",
    "- WN = Southwest Airlines Co."
   ]
  },
  {
   "cell_type": "code",
   "execution_count": null,
   "metadata": {},
   "outputs": [],
   "source": [
    "# Ruta al archivo\n",
    "flight_filepath = \"https://raw.githubusercontent.com/vbatiz/intro-python/main/notebooks/data/flight_delays.csv\"\n",
    "\n",
    "# Cargamos el archivo en la variable flight_data\n",
    "flight_data = pd.read_csv(flight_filepath, index_col=\"Month\")"
   ]
  },
  {
   "cell_type": "markdown",
   "metadata": {},
   "source": [
    "##### Revisamos los datos"
   ]
  },
  {
   "cell_type": "code",
   "execution_count": null,
   "metadata": {},
   "outputs": [],
   "source": [
    "flight_data.head()"
   ]
  },
  {
   "cell_type": "code",
   "execution_count": null,
   "metadata": {},
   "outputs": [],
   "source": [
    "flight_data.tail()"
   ]
  },
  {
   "cell_type": "code",
   "execution_count": null,
   "metadata": {},
   "outputs": [],
   "source": [
    "# Ancho y alto de la figura\n",
    "plt.figure(figsize=(10,6))\n",
    "\n",
    "# Se agrega título\n",
    "plt.title(\"Average Arrival Delay for Spirit Airlines Flights, by Month\")\n",
    "\n",
    "# Gráfico de barras mostrando el retraso promedio para los vuelos de Spirit Airlines por mes\n",
    "sns.barplot(x=flight_data.index, y=flight_data['NK'])\n",
    "\n",
    "# Se agrega leyenda para eje vertical\n",
    "plt.ylabel(\"Arrival delay (in minutes)\")"
   ]
  },
  {
   "cell_type": "markdown",
   "metadata": {},
   "source": [
    "#### Mapa de calor\n",
    "\n",
    "En la celda de código siguiente, creamos un mapa de calor para visualizar rápidamente patrones en flight_data. Cada celda está codificada por colores según su valor correspondiente."
   ]
  },
  {
   "cell_type": "code",
   "execution_count": null,
   "metadata": {},
   "outputs": [],
   "source": [
    "# Ancho y alto de la figura\n",
    "plt.figure(figsize=(14,7))\n",
    "\n",
    "# Se agrega título\n",
    "plt.title(\"Average Arrival Delay for Each Airline, by Month\")\n",
    "\n",
    "# Gráfico de mapa de calor mostrando el retraso promedio para cada aerolínea por mes.\n",
    "sns.heatmap(data=flight_data, annot=True) # annot=True asegura que los valores de cada celda aparezcan en el gráfico. \n",
    "\n",
    "# Se agrega leyenda para el eje horizontal\n",
    "plt.xlabel(\"Airline\")"
   ]
  },
  {
   "cell_type": "markdown",
   "metadata": {},
   "source": [
    "### Gráficos de dispersión"
   ]
  },
  {
   "cell_type": "markdown",
   "metadata": {},
   "source": [
    "#### Seleccionamos el dataset\n",
    "\n",
    "En este caso utilizaremos un conjunto de datos (sintéticos) de gastos de seguros, para ver si podemos entender por qué unos clientes pagan más que otros."
   ]
  },
  {
   "cell_type": "code",
   "execution_count": null,
   "metadata": {},
   "outputs": [],
   "source": [
    "# Ruta al archivo\n",
    "insurance_filepath = \"https://raw.githubusercontent.com/vbatiz/intro-python/main/notebooks/data/insurance.csv\"\n",
    "\n",
    "# Cargamos el archivo en la variable insurance_data\n",
    "insurance_data = pd.read_csv(insurance_filepath)"
   ]
  },
  {
   "cell_type": "markdown",
   "metadata": {},
   "source": [
    "#### Revisamos los datos"
   ]
  },
  {
   "cell_type": "code",
   "execution_count": null,
   "metadata": {},
   "outputs": [],
   "source": [
    "insurance_data.head()"
   ]
  },
  {
   "cell_type": "code",
   "execution_count": null,
   "metadata": {},
   "outputs": [],
   "source": [
    "insurance_data.tail()"
   ]
  },
  {
   "cell_type": "markdown",
   "metadata": {},
   "source": [
    "#### Graficamos\n",
    "\n",
    "Ocupamos indicar los valores para los ejes x y y."
   ]
  },
  {
   "cell_type": "code",
   "execution_count": null,
   "metadata": {},
   "outputs": [],
   "source": [
    "sns.scatterplot(x=insurance_data['bmi'], y=insurance_data['charges'])"
   ]
  },
  {
   "cell_type": "markdown",
   "metadata": {},
   "source": [
    "El diagrama de dispersión anterior sugiere que el índice de masa corporal (IMC, BMI en inglés) y los gastos del seguro están positivamente correlacionados, de modo que los clientes con un IMC más alto suelen pagar más en concepto de seguro. (Este patrón tiene sentido, ya que un IMC alto suele asociarse a un mayor riesgo de enfermedades crónicas).\n",
    "\n",
    "Para comprobar la fuerza de esta relación, puede añadir una línea de regresión, o la línea que mejor se ajuste a los datos. Para ello, cambie el comando a `sns.regplot`."
   ]
  },
  {
   "cell_type": "code",
   "execution_count": null,
   "metadata": {},
   "outputs": [],
   "source": [
    "sns.regplot(x=insurance_data['bmi'], y=insurance_data['charges'])"
   ]
  },
  {
   "cell_type": "markdown",
   "metadata": {},
   "source": [
    "#### Gráficos de dispersión codificados por colores\n",
    "Podemos utilizar gráficos de dispersión para mostrar las relaciones entre (no dos, sino...) ¡tres variables! Una forma de hacerlo es codificar los puntos por colores.\n",
    "\n",
    "Por ejemplo, para entender cómo afecta el tabaquismo a la relación entre el IMC y los costes del seguro, podemos colorear los puntos según \"fumador\" y representar las otras dos columnas (\"IMC\", \"gastos\") en los ejes."
   ]
  },
  {
   "cell_type": "code",
   "execution_count": null,
   "metadata": {},
   "outputs": [],
   "source": [
    "# Agregamos el parámetro hue para diferenciar los puntos con base en el campo 'smoker'.\n",
    "sns.scatterplot(x=insurance_data['bmi'], y=insurance_data['charges'], hue=insurance_data['smoker'])"
   ]
  },
  {
   "cell_type": "markdown",
   "metadata": {},
   "source": [
    "Este gráfico de dispersión muestra que, mientras que los no fumadores tienden a pagar ligeramente más con el aumento del IMC, los fumadores pagan MUCHO más.\n",
    "\n",
    "Para enfatizar aún más este hecho, podemos utilizar el comando sns.lmplot para añadir dos líneas de regresión, correspondientes a fumadores y no fumadores. (Observará que la línea de regresión de los fumadores tiene una pendiente mucho más pronunciada que la de los no fumadores)."
   ]
  },
  {
   "cell_type": "code",
   "execution_count": null,
   "metadata": {},
   "outputs": [],
   "source": [
    "sns.lmplot(x=\"bmi\", y=\"charges\", hue=\"smoker\", data=insurance_data)"
   ]
  },
  {
   "cell_type": "markdown",
   "metadata": {},
   "source": [
    "Por último, hay un gráfico más que revisaremos, tiene un aspecto ligeramente diferente de cómo estamos acostumbrado a ver los gráficos de dispersión. Normalmente, utilizamos los gráficos de dispersión para resaltar la relación entre dos variables continuas (como \"bmi\" y \"cargos\"). Sin embargo, podemos adaptar el diseño del gráfico de dispersión para incluir una variable categórica (como \"smoker\") en uno de los ejes principales. Nos referiremos a este tipo de gráfico como gráfico de dispersión categórico, y lo construiremos con el comando `sns.swarmplot`."
   ]
  },
  {
   "cell_type": "code",
   "execution_count": null,
   "metadata": {},
   "outputs": [],
   "source": [
    "sns.swarmplot(x=insurance_data['smoker'],\n",
    "              y=insurance_data['charges'])\n",
    "# Agregar coloreado con base al bmi para ver la relación\n"
   ]
  },
  {
   "cell_type": "markdown",
   "metadata": {},
   "source": [
    "### Distribuciones\n",
    "Crear histogramas y gráficos de densidad."
   ]
  },
  {
   "cell_type": "markdown",
   "metadata": {},
   "source": [
    "#### Seleccionamos el conjunto de datos.\n",
    "\n",
    "Trabajaremos con un conjunto de datos de 150 flores diferentes, 50 de cada una de tres especies distintas de iris (Iris setosa, Iris versicolor e Iris virginica).\n",
    "\n",
    "![Iris](https://storage.googleapis.com/kaggle-media/learn/images/RcxYYBA.png)\n",
    "\n",
    "Cada fila del conjunto de datos corresponde a una flor diferente. Hay cuatro medidas: la longitud y la anchura del sépalo (Sepal Width), junto con la longitud y la anchura del pétalo (Petal Width y Petal Length). También llevamos la cuenta de la especie correspondiente (Species)."
   ]
  },
  {
   "cell_type": "code",
   "execution_count": null,
   "metadata": {},
   "outputs": [],
   "source": [
    "# Ruta al conjunto de datos\n",
    "iris_filepath = \"https://raw.githubusercontent.com/vbatiz/intro-python/main/notebooks/data/iris.csv\"\n",
    "\n",
    "# Cargamos el conjunto de datos en la variable iris_data\n",
    "iris_data = pd.read_csv(iris_filepath, index_col=\"Id\")\n",
    "\n",
    "# Revisamos los datos\n",
    "iris_data.head()"
   ]
  },
  {
   "cell_type": "markdown",
   "metadata": {},
   "source": [
    "#### Graficamos el Histograma"
   ]
  },
  {
   "cell_type": "code",
   "execution_count": null,
   "metadata": {},
   "outputs": [],
   "source": [
    "# Histogram \n",
    "sns.histplot(iris_data['Petal Length (cm)'])"
   ]
  },
  {
   "cell_type": "markdown",
   "metadata": {},
   "source": [
    "#### Gráficos de densidad\n",
    "\n",
    "El siguiente tipo de gráfico es un gráfico de estimación de densidad del núcleo (KDE). En caso de que no esté familiarizado con los gráficos KDE, puede considerarlos como un histograma suavizado."
   ]
  },
  {
   "cell_type": "code",
   "execution_count": null,
   "metadata": {},
   "outputs": [],
   "source": [
    "# KDE plot \n",
    "sns.kdeplot(data=iris_data['Petal Length (cm)'], shade=True)"
   ]
  },
  {
   "cell_type": "markdown",
   "metadata": {},
   "source": [
    "#### Gráficos de densidad 2D\n",
    "\n",
    "No estamos restringidos a una sola columna cuando creamos un gráfico KDE. Podemos crear un gráfico KDE bidimensional (2D) con el comando `sns.jointplot`."
   ]
  },
  {
   "cell_type": "code",
   "execution_count": null,
   "metadata": {},
   "outputs": [],
   "source": [
    "# 2D KDE plot\n",
    "sns.jointplot(x=iris_data['Petal Length (cm)'], y=iris_data['Sepal Width (cm)'], kind=\"kde\")"
   ]
  },
  {
   "cell_type": "markdown",
   "metadata": {},
   "source": [
    "#### Coloreando los datos"
   ]
  },
  {
   "cell_type": "code",
   "execution_count": null,
   "metadata": {},
   "outputs": [],
   "source": [
    "\n",
    "sns.histplot(data=iris_data, x='Petal Length (cm)', hue='Species')\n",
    "\n",
    "\n",
    "plt.title(\"Histogram of Petal Lengths, by Species\")"
   ]
  },
  {
   "cell_type": "code",
   "execution_count": null,
   "metadata": {},
   "outputs": [],
   "source": [
    "\n",
    "sns.kdeplot(data=iris_data, x='Petal Length (cm)', hue='Species', shade=True)\n",
    "\n",
    "\n",
    "plt.title(\"Distribution of Petal Lengths, by Species\")"
   ]
  }
 ],
 "metadata": {
  "kernelspec": {
   "display_name": "Python 3",
   "language": "python",
   "name": "python3"
  },
  "language_info": {
   "codemirror_mode": {
    "name": "ipython",
    "version": 3
   },
   "file_extension": ".py",
   "mimetype": "text/x-python",
   "name": "python",
   "nbconvert_exporter": "python",
   "pygments_lexer": "ipython3",
   "version": "3.10.13"
  }
 },
 "nbformat": 4,
 "nbformat_minor": 2
}
