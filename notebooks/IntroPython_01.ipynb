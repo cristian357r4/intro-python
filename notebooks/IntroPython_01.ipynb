{
  "cells": [
    {
      "cell_type": "markdown",
      "metadata": {
        "id": "ELv_0-xiGEOc"
      },
      "source": [
        "## Introducción a Python.\n",
        "### Bienvenidos. En esta sesión revisaremos variables, operadores y strings.\n",
        "---"
      ]
    },
    {
      "cell_type": "markdown",
      "metadata": {
        "id": "G38apOTU9SsI"
      },
      "source": [
        "![Python](https://www.python.org/static/img/python-logo.png)\n",
        "\n",
        "Wikipedia menciona que **Python** es un lenguaje de alto nivel de programación interpretado cuya filosofía hace hincapié en la legibilidad de su código, se utiliza para desarrollar aplicaciones de todo tipo, ejemplos: Instagram, Netflix, Spotify, Panda 3D, entre otros. Se trata de un lenguaje de programación multiparadigma, ya que soporta parcialmente la orientación a objetos, programación imperativa y, en menor medida, programación funcional. Es un lenguaje interpretado, dinámico y multiplataforma.\n",
        "\n",
        "Python fue creado por Guido van Rossum, un programador holandés a finales de los 80 y principio de los 90.\n",
        "\n",
        "El nombre \"Python\" viene dado por la afición de Van Rossum al grupo Monty Python (fue un grupo británico conformado por seis comediantes).\n",
        "\n",
        "[Sitio oficial de Python](https://www.python.org/)"
      ]
    },
    {
      "cell_type": "code",
      "execution_count": null,
      "metadata": {
        "colab": {
          "base_uri": "https://localhost:8080/"
        },
        "id": "L7hPDlkDd358",
        "outputId": "f6d3d34c-bf2f-4e0a-b82a-6a1b720e6fb9"
      },
      "outputs": [],
      "source": [
        "!python --version"
      ]
    },
    {
      "cell_type": "code",
      "execution_count": null,
      "metadata": {
        "colab": {
          "base_uri": "https://localhost:8080/"
        },
        "id": "yQsnlYVVFuZJ",
        "outputId": "eb5452de-534a-4717-b855-dbab941ac629"
      },
      "outputs": [],
      "source": [
        "# Esto es un comentario\n",
        "print(\"¡Hola mundo!\")"
      ]
    },
    {
      "cell_type": "code",
      "execution_count": null,
      "metadata": {
        "colab": {
          "base_uri": "https://localhost:8080/"
        },
        "id": "5VgUo4SmddlS",
        "outputId": "4f47cbd4-40e3-4bfa-de49-beaf4e5277cc"
      },
      "outputs": [],
      "source": [
        "print(\"Bienvenido al Curdo de Introducción a Python\")"
      ]
    },
    {
      "cell_type": "code",
      "execution_count": null,
      "metadata": {
        "colab": {
          "base_uri": "https://localhost:8080/"
        },
        "id": "9g0C4PJeH1kq",
        "outputId": "0a3a8809-b70d-472c-8229-ce61dff4f7c7"
      },
      "outputs": [],
      "source": [
        "type(5)"
      ]
    },
    {
      "cell_type": "markdown",
      "metadata": {
        "id": "UVPyOpKnG9ZB"
      },
      "source": [
        "Podemos usar sentencias en LaTeX para incluir aspectos más elaborados\n",
        "\n",
        "Esta es una ecuación: $\\int_{-\\infty}^{\\infty}e^{-x^2}dx$"
      ]
    },
    {
      "cell_type": "markdown",
      "metadata": {
        "id": "e_SBLUd-ryiH"
      },
      "source": [
        "## Variables\n",
        "Una variable es un lugar en memoria la cual guarda un objeto. En python, definimos una variable de la siguiente manera:\n",
        "```python\n",
        "nombre_variable = <objeto>\n",
        "```\n",
        "\n",
        "**Reglas**:\n",
        "1. Una variable puede contener cualquier carácter alfanumérico o un guión bajo\n",
        "2. Una variable **no** puede empezar con un carácter numérico `0-9`\n",
        "3. Una variable distingue entre mayúsculas y minúsculas, e.g., `Nombre != nombre`."
      ]
    },
    {
      "cell_type": "code",
      "execution_count": null,
      "metadata": {
        "colab": {
          "base_uri": "https://localhost:8080/"
        },
        "id": "26hpxQwvr8hc",
        "outputId": "07ed7f4e-1a55-4b3c-f584-e9f646c597aa"
      },
      "outputs": [],
      "source": [
        "#Python distingue entre mayúsculas y minúsculas\n",
        "nombre =\"Cristiano\"\n",
        "Nombre = \"Messi\"\n",
        "print(nombre)\n",
        "print(Nombre)"
      ]
    },
    {
      "cell_type": "markdown",
      "metadata": {
        "id": "d8itCZCSWIjH"
      },
      "source": [
        "## Operaciones Aritméticas"
      ]
    },
    {
      "cell_type": "code",
      "execution_count": null,
      "metadata": {
        "id": "mTrBeVM_WNUy"
      },
      "outputs": [],
      "source": [
        "#Suma\n",
        "3 + 2"
      ]
    },
    {
      "cell_type": "code",
      "execution_count": null,
      "metadata": {
        "id": "yqAOyRQuWQd4"
      },
      "outputs": [],
      "source": [
        "#Resta\n",
        "3 - 2"
      ]
    },
    {
      "cell_type": "code",
      "execution_count": null,
      "metadata": {
        "id": "pHVSG0WLWTr9"
      },
      "outputs": [],
      "source": [
        "#Multiplicación\n",
        "3 * 2"
      ]
    },
    {
      "cell_type": "code",
      "execution_count": null,
      "metadata": {
        "id": "1LD_hBirWYF8"
      },
      "outputs": [],
      "source": [
        "# División\n",
        "3 / 2"
      ]
    },
    {
      "cell_type": "code",
      "execution_count": null,
      "metadata": {
        "id": "wgkr_RL3WbkS"
      },
      "outputs": [],
      "source": [
        "# División entera (elimina residuo)\n",
        "3 // 2"
      ]
    },
    {
      "cell_type": "code",
      "execution_count": null,
      "metadata": {
        "colab": {
          "base_uri": "https://localhost:8080/"
        },
        "id": "2F03PvwCWoZo",
        "outputId": "41aba38b-af1f-4308-b866-0ac26f12fd1f"
      },
      "outputs": [],
      "source": [
        "# Potencia. Equivalente a pow(3,2)\n",
        "3 ** 2"
      ]
    },
    {
      "cell_type": "code",
      "execution_count": null,
      "metadata": {
        "colab": {
          "base_uri": "https://localhost:8080/"
        },
        "id": "_FYd0vk6W42E",
        "outputId": "b4bb5ab3-74ed-481e-ad53-c3202a96832b"
      },
      "outputs": [],
      "source": [
        "# Residuo   5 % 2 =  1\n",
        "3 % 2"
      ]
    },
    {
      "cell_type": "markdown",
      "metadata": {
        "id": "wrUnqCRuXLpe"
      },
      "source": [
        "### Funciones numéricas"
      ]
    },
    {
      "cell_type": "code",
      "execution_count": null,
      "metadata": {
        "colab": {
          "base_uri": "https://localhost:8080/"
        },
        "id": "wL445w35XR9r",
        "outputId": "442e69c4-6819-4eca-ef4e-7add34ba05b2"
      },
      "outputs": [],
      "source": [
        "round(3.14159265,2)"
      ]
    },
    {
      "cell_type": "code",
      "execution_count": null,
      "metadata": {
        "colab": {
          "base_uri": "https://localhost:8080/"
        },
        "id": "qzxK1R07XhSO",
        "outputId": "3d2ea8b2-90ee-4bab-f0d2-2469f34a3d98"
      },
      "outputs": [],
      "source": [
        "max(-4,7,9,11,3)"
      ]
    },
    {
      "cell_type": "code",
      "execution_count": null,
      "metadata": {
        "colab": {
          "base_uri": "https://localhost:8080/"
        },
        "id": "E5b7LIBIXoB-",
        "outputId": "124d6af4-d67f-4353-d43c-1892ea0702b2"
      },
      "outputs": [],
      "source": [
        "min(-4,7,9,11,3)"
      ]
    },
    {
      "cell_type": "code",
      "execution_count": null,
      "metadata": {
        "colab": {
          "base_uri": "https://localhost:8080/",
          "height": 36
        },
        "id": "bc5YyLBCXuQn",
        "outputId": "a7fc7273-e76e-467c-ade2-2c03d104440a"
      },
      "outputs": [],
      "source": [
        "bin(3456)"
      ]
    },
    {
      "cell_type": "code",
      "execution_count": null,
      "metadata": {
        "colab": {
          "base_uri": "https://localhost:8080/"
        },
        "id": "VrTTo1ypYB85",
        "outputId": "246633b3-5e4b-4083-e606-24c97ff47a19"
      },
      "outputs": [],
      "source": [
        "int(\"5\")"
      ]
    },
    {
      "cell_type": "code",
      "execution_count": null,
      "metadata": {
        "colab": {
          "base_uri": "https://localhost:8080/"
        },
        "id": "xVT5hs9XYJa8",
        "outputId": "936af524-f026-44b7-c094-35f3833a70a4"
      },
      "outputs": [],
      "source": [
        "float(\"3.1415\")"
      ]
    },
    {
      "cell_type": "markdown",
      "metadata": {
        "id": "BeKVy2OI24Wl"
      },
      "source": [
        "## Strings `str`\n",
        "Un string es una secuencia de caracteres.\n",
        "\n",
        "* Toda secuencia de caracteres rodeada entre comillas (`\"`o `'`)se considera un string en Python.\n",
        "* Si una secuencia de caracteres no se encuentra rodeado de comillas no podrá ser interpretado como string.\n",
        "* Una cadena puede tener cualquier longitud y puede contener letras, números, símbolos y espacios."
      ]
    },
    {
      "cell_type": "code",
      "execution_count": null,
      "metadata": {
        "colab": {
          "base_uri": "https://localhost:8080/"
        },
        "id": "Y4rpv4sfIDHr",
        "outputId": "ecc66b48-3077-4183-c147-76a66eb46c77"
      },
      "outputs": [],
      "source": [
        "cadena = \"El invierno se acerca\"\n",
        "print(cadena)"
      ]
    },
    {
      "cell_type": "markdown",
      "metadata": {
        "id": "sWRBWYPQLzzx"
      },
      "source": [
        "Podemos dividir una cadena de texto usando el caracter de salto de línea `\\n`."
      ]
    },
    {
      "cell_type": "code",
      "execution_count": null,
      "metadata": {
        "colab": {
          "base_uri": "https://localhost:8080/"
        },
        "id": "2PqrZkIbLzOf",
        "outputId": "7a934df8-c0c0-4061-e1a0-7cb765aa89a2"
      },
      "outputs": [],
      "source": [
        "print(\"Esta es un cadena de texto \\ndividida en dos líneas\")"
      ]
    },
    {
      "cell_type": "markdown",
      "metadata": {
        "id": "kYEygYPQL58P"
      },
      "source": [
        "O podemos utilizar las triples comillas dobles para indicar un texto en varias líneas."
      ]
    },
    {
      "cell_type": "code",
      "execution_count": null,
      "metadata": {
        "colab": {
          "base_uri": "https://localhost:8080/"
        },
        "id": "4du8AlJiIURS",
        "outputId": "076f63d4-0ae7-4e4a-b134-b2fac6398622"
      },
      "outputs": [],
      "source": [
        "linea = \"\"\"primera linea\n",
        "segunda línea\n",
        "tercera línea\n",
        "esta es otra línea\n",
        "esta es otra línea\n",
        "esta es otra línea\n",
        "esta es otra línea\n",
        "\"\"\"\n",
        "print(linea)"
      ]
    },
    {
      "cell_type": "code",
      "execution_count": null,
      "metadata": {
        "id": "SkraMImrJ6fE"
      },
      "outputs": [],
      "source": [
        "cadena2 = \"Texto de prueba\""
      ]
    },
    {
      "cell_type": "code",
      "execution_count": null,
      "metadata": {
        "colab": {
          "base_uri": "https://localhost:8080/"
        },
        "id": "eBvrASKwJ-0f",
        "outputId": "c8daaa84-4ded-454f-b306-6cc614dcb637"
      },
      "outputs": [],
      "source": [
        "print(cadena2)"
      ]
    },
    {
      "cell_type": "markdown",
      "metadata": {
        "id": "V8eA29VVMEME"
      },
      "source": [
        "Podemos usar `len` para saber la longitud de una cadena."
      ]
    },
    {
      "cell_type": "code",
      "execution_count": null,
      "metadata": {
        "colab": {
          "base_uri": "https://localhost:8080/"
        },
        "id": "PdrTubnVMG8K",
        "outputId": "471a00f6-a9ed-4bb6-e3c9-65819b8db337"
      },
      "outputs": [],
      "source": [
        "print(len(\"Hola amigos del Curso de introducción a Python\"))\n",
        "print(len(linea))"
      ]
    },
    {
      "cell_type": "markdown",
      "metadata": {
        "id": "88tC_oIXMbIv"
      },
      "source": [
        "Python permite replicar una cadena usando multiplicación."
      ]
    },
    {
      "cell_type": "code",
      "execution_count": null,
      "metadata": {
        "colab": {
          "base_uri": "https://localhost:8080/"
        },
        "id": "V6t5PnO8KWZu",
        "outputId": "d7064605-61ae-4953-e0ff-e811e3e2f560"
      },
      "outputs": [],
      "source": [
        "print(\"ja! \"*5)"
      ]
    },
    {
      "cell_type": "markdown",
      "metadata": {
        "id": "zyYBmQuhNRQi"
      },
      "source": [
        "Las cadenas son objetos tipo String y tienen varios métodos interesantes.\n",
        "\n",
        "\n",
        "**strip()**. Eliminado espacios al inicio y al final de una cadena."
      ]
    },
    {
      "cell_type": "code",
      "execution_count": null,
      "metadata": {
        "colab": {
          "base_uri": "https://localhost:8080/"
        },
        "id": "46QolM9VKuMS",
        "outputId": "31e43e8d-35b2-43bd-ec1e-e1c9879083b1"
      },
      "outputs": [],
      "source": [
        "cadena = \"             Estudiantes del Curso de Introducción a Python\"\n",
        "print(cadena)\n",
        "cadena = cadena.strip()\n",
        "print(type(cadena))\n",
        "print(cadena)"
      ]
    },
    {
      "cell_type": "markdown",
      "metadata": {
        "id": "4ZK6ASfnN2MU"
      },
      "source": [
        "**upper()**, **lower()**, **capitalize()** y **title()**. Convirtiendo a mayúsculas y minúsculas."
      ]
    },
    {
      "cell_type": "code",
      "execution_count": null,
      "metadata": {
        "colab": {
          "base_uri": "https://localhost:8080/"
        },
        "id": "a2rAtdNXgmkE",
        "outputId": "d589c70b-cdb0-419e-9f6b-bf1249731c58"
      },
      "outputs": [],
      "source": [
        "#Mayúsculas\n",
        "print(cadena)\n",
        "print(cadena.upper())"
      ]
    },
    {
      "cell_type": "code",
      "execution_count": null,
      "metadata": {
        "colab": {
          "base_uri": "https://localhost:8080/"
        },
        "id": "vQzND6E6N8I4",
        "outputId": "882c27c4-f63a-4231-d8fe-b6ee277f5f04"
      },
      "outputs": [],
      "source": [
        "#Minúsculas\n",
        "print(cadena)\n",
        "print(cadena.lower())"
      ]
    },
    {
      "cell_type": "code",
      "execution_count": null,
      "metadata": {
        "colab": {
          "base_uri": "https://localhost:8080/"
        },
        "id": "c2pn_5g1N93P",
        "outputId": "7a9157f9-0052-4562-e0f9-d678c8ec4676"
      },
      "outputs": [],
      "source": [
        "#Primera letra mayúscula\n",
        "cadena = cadena.lower()\n",
        "print(cadena)\n",
        "print(cadena.capitalize())"
      ]
    },
    {
      "cell_type": "code",
      "execution_count": null,
      "metadata": {
        "colab": {
          "base_uri": "https://localhost:8080/"
        },
        "id": "Gk3KYO9jOBNd",
        "outputId": "4c3f5cf0-a890-4ffa-ea80-1e11ac731bc9"
      },
      "outputs": [],
      "source": [
        "#Primera letra mayúscula de cada palabra\n",
        "cadena = cadena.lower()\n",
        "print(cadena)\n",
        "print(cadena.title())"
      ]
    },
    {
      "cell_type": "markdown",
      "metadata": {
        "id": "vssLQlTSOHQ0"
      },
      "source": [
        "**find()** y **replace()**. Encontrar y sustituir una cadena dentro de otra cadena."
      ]
    },
    {
      "cell_type": "code",
      "execution_count": null,
      "metadata": {
        "colab": {
          "base_uri": "https://localhost:8080/"
        },
        "id": "KCzm3XsfP5is",
        "outputId": "1ef7ab50-c9de-4028-bd14-54ff3a8bd364"
      },
      "outputs": [],
      "source": [
        "# Encontrar un cadena de texto dentro de otra.\n",
        "mensaje = \"Dábale arroz a la zorra el abad\"\n",
        "print(mensaje)\n",
        "# find() nos regresa el índice donde empieza el texto en caso de encontrarlo.\n",
        "# Regresa -1 si no lo encuentra\n",
        "print(mensaje.find(\"arroz\"))\n",
        "# replace() no modifica la cadena, regresa una cadena con el resultado.\n",
        "print(mensaje.replace(\"zorra\",\"ardilla\"))\n",
        "print(mensaje)"
      ]
    },
    {
      "cell_type": "markdown",
      "metadata": {
        "id": "DQ8b-lUgORqg"
      },
      "source": [
        "**center()**. Permite centrar un texto en la cadena generada por el caracter indicado y la longitud dada."
      ]
    },
    {
      "cell_type": "code",
      "execution_count": null,
      "metadata": {
        "colab": {
          "base_uri": "https://localhost:8080/"
        },
        "id": "hpLLy6ahOTxs",
        "outputId": "4269b693-b6e9-4c24-f8ff-e486d46ff523"
      },
      "outputs": [],
      "source": [
        "nombre=\"Messi\"\n",
        "nombre1=\"Ronaldo\"\n",
        "print(\"Cracks\".center(30,\" \"))\n",
        "print(nombre.center(30,\"*\"))\n",
        "print(nombre1.center(30,\"#\"))"
      ]
    },
    {
      "cell_type": "markdown",
      "metadata": {
        "id": "M76606yWR6dQ"
      },
      "source": [
        "### *String Slicing*\n",
        "En ocasiones, ocupamos acceder a una parte de la cadena. En Python a esto se le llama *slicing*.\n"
      ]
    },
    {
      "cell_type": "code",
      "execution_count": null,
      "metadata": {
        "colab": {
          "base_uri": "https://localhost:8080/"
        },
        "id": "LrtAGl4gSQz9",
        "outputId": "9d1980cc-d546-40fb-dcb6-1daf1b190b05"
      },
      "outputs": [],
      "source": [
        "Pais=\"México\"\n",
        "print(Pais[0])\n",
        "print(Pais[1])\n",
        "print(Pais[2])"
      ]
    },
    {
      "cell_type": "markdown",
      "metadata": {
        "id": "n-Uq70fASt18"
      },
      "source": [
        "Python puede contar de izquierda a derecha (empezando en `0`) y de derecha a izquierda (empezando con `-1`)\n",
        "\n",
        "```C\n",
        "S   I   N   A   L   O   A\n",
        "0   1   2   3   4   5   6\n",
        "-7 -6  -5  -4  -3  -2  -1\n",
        "```"
      ]
    },
    {
      "cell_type": "code",
      "execution_count": null,
      "metadata": {
        "colab": {
          "base_uri": "https://localhost:8080/"
        },
        "id": "Akd8yD8mTgB9",
        "outputId": "0f4fbe0f-ac94-47b0-999b-ef19d8302d9d"
      },
      "outputs": [],
      "source": [
        "estado = \"SINALOA\"\n",
        "print(estado[-1])\n",
        "print(estado[-2])\n",
        "print(estado[-3])\n",
        "print(estado[-4])\n",
        "print(estado[-5])\n",
        "print(estado[-6])\n",
        "print(estado[-7])"
      ]
    },
    {
      "cell_type": "markdown",
      "metadata": {
        "id": "IDf_OeLkOiT-"
      },
      "source": [
        "Podemos hacer slicing usando un inicio y un fin.\n",
        "\n",
        "```python\n",
        "\"slicing\"[ini:fin]\n",
        "```\n",
        "ini = índice de inicio\n",
        "fin = se usa para calcular el índice final, que es igual a fin-1."
      ]
    },
    {
      "cell_type": "code",
      "execution_count": null,
      "metadata": {
        "colab": {
          "base_uri": "https://localhost:8080/"
        },
        "id": "xYKxlbzmUm2-",
        "outputId": "e4a5be8f-211b-4999-ff0d-acff71a27b1e"
      },
      "outputs": [],
      "source": [
        "print(estado)\n",
        "print(estado[0:3])\n",
        "print(estado[4:7])"
      ]
    },
    {
      "cell_type": "markdown",
      "metadata": {
        "id": "ZZe4WGVSVB1h"
      },
      "source": [
        "En general, se puede hacer el *slice* de un string en cualquiera de las siguientes maneras\n",
        "```python\n",
        "\"slicing\"[ini:fin] # Del índice *ini* hasta el índice *fin - 1*\n",
        "\"slicing\"[ini:]    # Del índice *ini* hasta el fin del string\n",
        "\"slicing\"[:fin]    # Del inicio del string hasta  *fin - 1*\n",
        "\"slicing\"[:]       # Una copia del string\n",
        "```"
      ]
    },
    {
      "cell_type": "code",
      "execution_count": null,
      "metadata": {
        "colab": {
          "base_uri": "https://localhost:8080/"
        },
        "id": "Rw8Q2jdIVGtJ",
        "outputId": "fbe91e08-6994-48a1-e6c6-5d2404baf83d"
      },
      "outputs": [],
      "source": [
        "leng = \"Python\"\n",
        "print(leng[:-4])\n",
        "print(leng[:2])"
      ]
    },
    {
      "cell_type": "code",
      "execution_count": null,
      "metadata": {
        "colab": {
          "base_uri": "https://localhost:8080/"
        },
        "id": "pbAysLhwMtmT",
        "outputId": "11fd29af-fc6a-4902-fb57-f29151ab6197"
      },
      "outputs": [],
      "source": [
        "leng2 = leng[:]\n",
        "print(leng2)"
      ]
    },
    {
      "cell_type": "markdown",
      "metadata": {
        "id": "g8dt7R2VPG1x"
      },
      "source": [
        "### Las cadenas de caracteres son inmutables\n",
        "Hemos estado seleccionando caracteres de cadenas, cortando cadenas y concatenando cadenas. Cada vez que realizamos una de estas operaciones, estamos creando una cadena completamente nueva.\n",
        "\n",
        "Esto se debe a que las cadenas son **inmutables**. Esto significa que **no podemos cambiar una cadena una vez creada**. Podemos usarla para crear otras cadenas, pero no podemos cambiar la cadena en sí."
      ]
    },
    {
      "cell_type": "code",
      "execution_count": null,
      "metadata": {
        "id": "Jad2DVWzPI1u"
      },
      "outputs": [],
      "source": [
        "# No podemos cambiar una cadena\n",
        "nombre = \"Bob\"\n",
        "nombre[0] = \"R\""
      ]
    },
    {
      "cell_type": "code",
      "execution_count": null,
      "metadata": {
        "id": "hVUIhGl3PLbE"
      },
      "outputs": [],
      "source": [
        "# Aunque usamos el mismo nombre de variable en realidad es una nueva cadena con una nueva dirección de memoria.\n",
        "nombre = \"Rob\""
      ]
    },
    {
      "cell_type": "markdown",
      "metadata": {
        "id": "3EtvvMXStG84"
      },
      "source": [
        "### Formateo de cadenas de caracteres\n",
        "En ocasiones, es deseable tener un string modelo sobre el cuál mostrar el valor de variables.  \n",
        "Consideremos las variables `nombre` y `apellido` y supongamos que deseamos imprimir en la consola\n",
        "```python\n",
        "\"Hola, <nombre>. Te apellidas <apellido>\"\n",
        "```\n",
        "¿De qué manera podemos hacer esto en Python?"
      ]
    },
    {
      "cell_type": "code",
      "execution_count": null,
      "metadata": {
        "id": "GpCDPO9qxN1E"
      },
      "outputs": [],
      "source": [
        "nombre = \"Julio\"\n",
        "apellido = \"Verne\""
      ]
    },
    {
      "cell_type": "code",
      "execution_count": null,
      "metadata": {
        "colab": {
          "base_uri": "https://localhost:8080/"
        },
        "id": "-lJai6C3tISt",
        "outputId": "e20a49ae-28f0-420a-d879-1f6c7e35961c"
      },
      "outputs": [],
      "source": [
        "# V.01: Usando Print y dividir los valores a imprimir en varios argumentos.\n",
        "# Desventaja: Si quitamos 'print', el resultado no es un string.\n",
        "print(\"Hola, \", nombre, \". Te apellidas \", apellido, \".\",sep=\"\")"
      ]
    },
    {
      "cell_type": "code",
      "execution_count": null,
      "metadata": {
        "colab": {
          "base_uri": "https://localhost:8080/"
        },
        "id": "olz6DTd4xS_1",
        "outputId": "60f30759-d6d7-46a6-b72f-2a16f711c5ec"
      },
      "outputs": [],
      "source": [
        "# V.02: Usando dividir los valores a imprimir y agruparlos por medio de \"+\"\n",
        "print(\"Hola, \" + nombre + \". Te apellidas \" + apellido + \".\")"
      ]
    },
    {
      "cell_type": "code",
      "execution_count": null,
      "metadata": {
        "colab": {
          "base_uri": "https://localhost:8080/",
          "height": 223
        },
        "id": "2Gzyk2QvxZwp",
        "outputId": "7c839791-baf4-4848-af47-3b5a8a510c60"
      },
      "outputs": [],
      "source": [
        "# V.03.1: Usando el método `.format`\n",
        "# Opcionalmente, podemos asignar variables (por definir) dentro de las llaves.\n",
        "# Esto último proporciona mayor legilibilidad al leer el código\n",
        "nombre = \"Julio\"\n",
        "apellido = \"Verne\"\n",
        "print(\"Hola, {}. Te apellidas {}\".format(nombre,apellido))\n",
        "#print(\"Hola, {nombre}. Te apellidas {apellido}\".format(nombre=\"Jose\", apellido=\"Lopez\"))"
      ]
    },
    {
      "cell_type": "code",
      "execution_count": null,
      "metadata": {
        "colab": {
          "base_uri": "https://localhost:8080/"
        },
        "id": "zjvyck3TP34m",
        "outputId": "2d168506-cbbd-4bbe-e01a-f16a33510dcf"
      },
      "outputs": [],
      "source": [
        "# Formato de miles\n",
        "valor = 600000\n",
        "dinero = '${:,}'.format(valor)\n",
        "print(dinero)\n",
        "# resultado => 600,000"
      ]
    },
    {
      "cell_type": "markdown",
      "metadata": {
        "id": "M91UihEiQEDS"
      },
      "source": [
        "Para saber más sobre el uso de format.\n",
        "\n",
        "Si deseas profundizar en el uso de formatos en cadenas, visita: https://pyformat.info/"
      ]
    },
    {
      "cell_type": "code",
      "execution_count": null,
      "metadata": {
        "colab": {
          "base_uri": "https://localhost:8080/"
        },
        "id": "m3nfjGNqxeav",
        "outputId": "e5b6d731-c8ac-4b02-fc7c-15cc93bab80a"
      },
      "outputs": [],
      "source": [
        "# V.04: f-string.\n",
        "# Si agregamos una 'f', un string con corchetes adentro\n",
        "# evalua la expresión dentro de ellos (Python 3.6 en adelante)\n",
        "print(f\"Hola, {nombre}. Te apellidas {apellido}\")"
      ]
    },
    {
      "cell_type": "code",
      "execution_count": null,
      "metadata": {
        "colab": {
          "base_uri": "https://localhost:8080/"
        },
        "id": "2hpOxxvGxh5v",
        "outputId": "58556d21-e42d-437d-dd09-f33651a5183f"
      },
      "outputs": [],
      "source": [
        "# Un f-string puede evaluar cualquier expresión dentro de las llaves {}\n",
        "num1 = 2\n",
        "num2 = 5\n",
        "print(f\"{num1} + {num2} = {num1 + num2}\")"
      ]
    },
    {
      "cell_type": "markdown",
      "metadata": {
        "id": "MnQOHuz2xlU8"
      },
      "source": [
        "### Entrada de datos vía teclado\n",
        "Podemos asignarle el valor a una variable solicitándoselo al usuario por medio de la función `input`\n",
        "\n",
        "```python\n",
        "var = input(\"Mensaje al usuario\")\n",
        "```\n",
        "\n",
        "Por *default*, el resultado de un `input` es de tipo `str`."
      ]
    },
    {
      "cell_type": "code",
      "execution_count": null,
      "metadata": {
        "colab": {
          "base_uri": "https://localhost:8080/"
        },
        "id": "7JXo_Lknx8tX",
        "outputId": "bd288d80-8133-4cc1-a129-0b51f03d889c"
      },
      "outputs": [],
      "source": [
        "nombre = input(\"¿Cuál es tu nombre? \")\n",
        "edad = int(input(\"¿Cuál es tu edad en años? \")) #float si queremos covertirlo a número real\n",
        "print(f\"Hola {nombre}, tienes, {edad} años, quiere decir que has vivido {edad*365} días aproximadamente.\")"
      ]
    }
  ],
  "metadata": {
    "colab": {
      "provenance": []
    },
    "kernelspec": {
      "display_name": "Python 3",
      "name": "python3"
    }
  },
  "nbformat": 4,
  "nbformat_minor": 0
}
